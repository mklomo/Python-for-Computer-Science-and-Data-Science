{
 "metadata": {
  "language_info": {
   "codemirror_mode": {
    "name": "ipython",
    "version": 3
   },
   "file_extension": ".py",
   "mimetype": "text/x-python",
   "name": "python",
   "nbconvert_exporter": "python",
   "pygments_lexer": "ipython3",
   "version": "3.9.0-final"
  },
  "orig_nbformat": 2,
  "kernelspec": {
   "name": "python3",
   "display_name": "Python 3.9.0 64-bit",
   "metadata": {
    "interpreter": {
     "hash": "7812ea015bdcee6f23a998adcdd2ef97c151c0c241b7b7070987d9313e41299d"
    }
   }
  }
 },
 "nbformat": 4,
 "nbformat_minor": 2,
 "cells": [
  {
   "cell_type": "code",
   "execution_count": 1,
   "metadata": {},
   "outputs": [
    {
     "output_type": "stream",
     "name": "stdout",
     "text": [
      "Collecting matplotlib\n",
      "  Downloading matplotlib-3.3.3-cp39-cp39-macosx_10_9_x86_64.whl (8.5 MB)\n",
      "\u001b[K     |████████████████████████████████| 8.5 MB 112 kB/s \n",
      "\u001b[?25hCollecting cycler>=0.10\n",
      "  Downloading cycler-0.10.0-py2.py3-none-any.whl (6.5 kB)\n",
      "Collecting kiwisolver>=1.0.1\n",
      "  Downloading kiwisolver-1.3.1-cp39-cp39-macosx_10_9_x86_64.whl (61 kB)\n",
      "\u001b[K     |████████████████████████████████| 61 kB 149 kB/s \n",
      "\u001b[?25hCollecting pyparsing!=2.0.4,!=2.1.2,!=2.1.6,>=2.0.3\n",
      "  Downloading pyparsing-2.4.7-py2.py3-none-any.whl (67 kB)\n",
      "\u001b[K     |████████████████████████████████| 67 kB 217 kB/s \n",
      "\u001b[?25hRequirement already satisfied: python-dateutil>=2.1 in /Users/marvinlomo/Library/Python/3.9/lib/python/site-packages (from matplotlib) (2.8.1)\n",
      "Collecting pillow>=6.2.0\n",
      "  Downloading Pillow-8.0.1-cp39-cp39-macosx_10_10_x86_64.whl (2.2 MB)\n",
      "\u001b[K     |████████████████████████████████| 2.2 MB 403 kB/s \n",
      "\u001b[?25hCollecting numpy>=1.15\n",
      "  Downloading numpy-1.19.4-cp39-cp39-macosx_10_9_x86_64.whl (15.4 MB)\n",
      "\u001b[K     |████████████████████████████████| 15.4 MB 157 kB/s \n",
      "\u001b[?25hRequirement already satisfied: six in /Users/marvinlomo/Library/Python/3.9/lib/python/site-packages (from cycler>=0.10->matplotlib) (1.15.0)\n",
      "Installing collected packages: cycler, kiwisolver, pyparsing, pillow, numpy, matplotlib\n",
      "Successfully installed cycler-0.10.0 kiwisolver-1.3.1 matplotlib-3.3.3 numpy-1.19.4 pillow-8.0.1 pyparsing-2.4.7\n",
      "\u001b[33mWARNING: You are using pip version 20.2.3; however, version 20.3.3 is available.\n",
      "You should consider upgrading via the '/Library/Frameworks/Python.framework/Versions/3.9/bin/python3 -m pip install --upgrade pip' command.\u001b[0m\n",
      "Note: you may need to restart the kernel to use updated packages.\n"
     ]
    }
   ],
   "source": [
    "pip install matplotlib"
   ]
  },
  {
   "cell_type": "code",
   "execution_count": 2,
   "metadata": {},
   "outputs": [
    {
     "output_type": "stream",
     "name": "stdout",
     "text": [
      "Collecting nodejs\n",
      "  Downloading nodejs-0.1.1.tar.gz (2.3 kB)\n",
      "Collecting optional-django==0.1.0\n",
      "  Downloading optional-django-0.1.0.tar.gz (9.5 kB)\n",
      "Using legacy 'setup.py install' for nodejs, since package 'wheel' is not installed.\n",
      "Using legacy 'setup.py install' for optional-django, since package 'wheel' is not installed.\n",
      "Installing collected packages: optional-django, nodejs\n",
      "    Running setup.py install for optional-django ... \u001b[?25ldone\n",
      "\u001b[?25h    Running setup.py install for nodejs ... \u001b[?25ldone\n",
      "\u001b[?25hSuccessfully installed nodejs-0.1.1 optional-django-0.1.0\n",
      "Note: you may need to restart the kernel to use updated packages.\n"
     ]
    }
   ],
   "source": [
    "pip install nodejs"
   ]
  },
  {
   "cell_type": "code",
   "execution_count": 1,
   "metadata": {},
   "outputs": [],
   "source": [
    "# Assignment statement\n",
    "\n",
    "x = 7\n",
    "\n",
    "y = 3 "
   ]
  },
  {
   "cell_type": "code",
   "execution_count": 3,
   "metadata": {},
   "outputs": [],
   "source": [
    "# Lets do more with the assignments\n",
    "\n",
    "total = x + y "
   ]
  },
  {
   "cell_type": "code",
   "execution_count": 5,
   "metadata": {},
   "outputs": [
    {
     "output_type": "execute_result",
     "data": {
      "text/plain": [
       "int"
      ]
     },
     "metadata": {},
     "execution_count": 5
    }
   ],
   "source": [
    "type(total)"
   ]
  },
  {
   "cell_type": "code",
   "execution_count": 6,
   "metadata": {},
   "outputs": [],
   "source": [
    "total_2 = 10.7 + 12.2 + 0.2"
   ]
  },
  {
   "cell_type": "code",
   "execution_count": 7,
   "metadata": {},
   "outputs": [
    {
     "output_type": "execute_result",
     "data": {
      "text/plain": [
       "23.099999999999998"
      ]
     },
     "metadata": {},
     "execution_count": 7
    }
   ],
   "source": [
    "total_2"
   ]
  },
  {
   "cell_type": "code",
   "execution_count": 8,
   "metadata": {},
   "outputs": [
    {
     "output_type": "execute_result",
     "data": {
      "text/plain": [
       "3"
      ]
     },
     "metadata": {},
     "execution_count": 8
    }
   ],
   "source": [
    "# Remainder Operator\n",
    "\n",
    "15 % 4"
   ]
  },
  {
   "cell_type": "code",
   "execution_count": 9,
   "metadata": {},
   "outputs": [
    {
     "output_type": "execute_result",
     "data": {
      "text/plain": [
       "3"
      ]
     },
     "metadata": {},
     "execution_count": 9
    }
   ],
   "source": [
    "13 // 4"
   ]
  },
  {
   "cell_type": "code",
   "execution_count": 10,
   "metadata": {},
   "outputs": [
    {
     "output_type": "execute_result",
     "data": {
      "text/plain": [
       "-4"
      ]
     },
     "metadata": {},
     "execution_count": 10
    }
   ],
   "source": [
    "-13 // 4"
   ]
  },
  {
   "cell_type": "code",
   "execution_count": 11,
   "metadata": {},
   "outputs": [
    {
     "output_type": "execute_result",
     "data": {
      "text/plain": [
       "-3"
      ]
     },
     "metadata": {},
     "execution_count": 11
    }
   ],
   "source": [
    "3 * (4 - 5)"
   ]
  },
  {
   "cell_type": "code",
   "execution_count": 12,
   "metadata": {},
   "outputs": [
    {
     "output_type": "execute_result",
     "data": {
      "text/plain": [
       "7"
      ]
     },
     "metadata": {},
     "execution_count": 12
    }
   ],
   "source": [
    "3 * 4 - 5"
   ]
  },
  {
   "cell_type": "code",
   "execution_count": 13,
   "metadata": {},
   "outputs": [
    {
     "output_type": "execute_result",
     "data": {
      "text/plain": [
       "262144"
      ]
     },
     "metadata": {},
     "execution_count": 13
    }
   ],
   "source": [
    "4 ** 3 ** 2"
   ]
  },
  {
   "cell_type": "code",
   "execution_count": 14,
   "metadata": {},
   "outputs": [
    {
     "output_type": "execute_result",
     "data": {
      "text/plain": [
       "4096"
      ]
     },
     "metadata": {},
     "execution_count": 14
    }
   ],
   "source": [
    "(4 ** 3) ** 2"
   ]
  },
  {
   "cell_type": "code",
   "execution_count": 15,
   "metadata": {},
   "outputs": [
    {
     "output_type": "execute_result",
     "data": {
      "text/plain": [
       "262144"
      ]
     },
     "metadata": {},
     "execution_count": 15
    }
   ],
   "source": [
    "4 ** (3 ** 2)"
   ]
  },
  {
   "cell_type": "code",
   "execution_count": 17,
   "metadata": {},
   "outputs": [
    {
     "output_type": "stream",
     "name": "stdout",
     "text": [
      "Welcome to Python!\n"
     ]
    }
   ],
   "source": [
    "# Displaying on the same line\n",
    "\n",
    "print('Welcome to Python!')"
   ]
  },
  {
   "cell_type": "code",
   "execution_count": 18,
   "metadata": {},
   "outputs": [
    {
     "output_type": "stream",
     "name": "stdout",
     "text": [
      "Welcome \nto\nPython\n"
     ]
    }
   ],
   "source": [
    "# Dropping the cursor to a newline\n",
    "\n",
    "print('Welcome \\nto\\nPython')"
   ]
  },
  {
   "cell_type": "code",
   "execution_count": 19,
   "metadata": {},
   "outputs": [
    {
     "output_type": "execute_result",
     "data": {
      "text/plain": [
       "str"
      ]
     },
     "metadata": {},
     "execution_count": 19
    }
   ],
   "source": [
    "# The string type\n",
    "\n",
    "type('word')"
   ]
  },
  {
   "cell_type": "code",
   "execution_count": 20,
   "metadata": {},
   "outputs": [
    {
     "output_type": "stream",
     "name": "stdout",
     "text": [
      "int(5.2) truncates 5.2 to 5\n"
     ]
    }
   ],
   "source": [
    "# Converting data types\n",
    "\n",
    "print('int(5.2)', 'truncates 5.2 to', int(5.2))"
   ]
  },
  {
   "cell_type": "code",
   "execution_count": 1,
   "metadata": {},
   "outputs": [
    {
     "output_type": "stream",
     "name": "stdout",
     "text": [
      "Display \"hi\" in quotes\n"
     ]
    }
   ],
   "source": [
    "# Single and double-quoted characters\n",
    "\n",
    "\n",
    "print('Display \"hi\" in quotes').    # Within a single quoted string, its okay to use a double-quoted string within the single quotes. "
   ]
  },
  {
   "cell_type": "code",
   "execution_count": 2,
   "metadata": {},
   "outputs": [
    {
     "output_type": "stream",
     "name": "stdout",
     "text": [
      "Display 'hi' in quotes\n"
     ]
    }
   ],
   "source": [
    "# Or\n",
    "\n",
    "print(\"Display 'hi' in quotes\")"
   ]
  },
  {
   "cell_type": "code",
   "execution_count": 4,
   "metadata": {},
   "outputs": [
    {
     "output_type": "stream",
     "name": "stdout",
     "text": [
      "Display \"hi\" and 'bye' in quotes\n"
     ]
    }
   ],
   "source": [
    "# Tripple quoted characters\n",
    "\n",
    "print(\"\"\"Display \"hi\" and 'bye' in quotes\"\"\")"
   ]
  },
  {
   "cell_type": "code",
   "execution_count": 6,
   "metadata": {},
   "outputs": [],
   "source": [
    "# The tripple-quoted string is used for strings spanning more than one line\n",
    "\n",
    "\n",
    "triple_quoted_string = \"\"\" This is a tripple-quoted\n",
    "string that spans two lines\"\"\""
   ]
  },
  {
   "cell_type": "code",
   "execution_count": 7,
   "metadata": {},
   "outputs": [
    {
     "output_type": "stream",
     "name": "stdout",
     "text": [
      " This is a tripple-quoted\nstring that spans two lines\n"
     ]
    }
   ],
   "source": [
    "print(triple_quoted_string)"
   ]
  },
  {
   "cell_type": "code",
   "execution_count": 8,
   "metadata": {},
   "outputs": [],
   "source": [
    "# Receiving an argument from a user\n",
    "\n",
    "name = input(\"What's your name? \")"
   ]
  },
  {
   "cell_type": "code",
   "execution_count": 9,
   "metadata": {},
   "outputs": [
    {
     "output_type": "execute_result",
     "data": {
      "text/plain": [
       "'Marvin'"
      ]
     },
     "metadata": {},
     "execution_count": 9
    }
   ],
   "source": [
    "name"
   ]
  },
  {
   "cell_type": "code",
   "execution_count": 10,
   "metadata": {},
   "outputs": [
    {
     "output_type": "stream",
     "name": "stdout",
     "text": [
      "Marvin\n"
     ]
    }
   ],
   "source": [
    "print(name)"
   ]
  },
  {
   "cell_type": "code",
   "execution_count": 11,
   "metadata": {},
   "outputs": [],
   "source": [
    "value_1 = input(\"Enter first number: \")"
   ]
  },
  {
   "cell_type": "code",
   "execution_count": 12,
   "metadata": {},
   "outputs": [],
   "source": [
    "value_2 = input(\"Enter second number: \")"
   ]
  },
  {
   "cell_type": "code",
   "execution_count": 13,
   "metadata": {},
   "outputs": [
    {
     "output_type": "execute_result",
     "data": {
      "text/plain": [
       "'100150'"
      ]
     },
     "metadata": {},
     "execution_count": 13
    }
   ],
   "source": [
    "# Lets do an addition of the inputs\n",
    "\n",
    "# Remember that value_1 and value_2 are strings\n",
    "\n",
    "value_1 + value_2"
   ]
  },
  {
   "cell_type": "code",
   "execution_count": 16,
   "metadata": {},
   "outputs": [
    {
     "output_type": "execute_result",
     "data": {
      "text/plain": [
       "250"
      ]
     },
     "metadata": {},
     "execution_count": 16
    }
   ],
   "source": [
    "# But we want numbers\n",
    "\n",
    "value_3 = int(input(\" Enter an integer:  \"))\n",
    "\n",
    "value_4 = int(input(\" Enter an integer:  \"))\n",
    "\n",
    "value_3 + value_4"
   ]
  },
  {
   "cell_type": "code",
   "execution_count": 17,
   "metadata": {},
   "outputs": [
    {
     "output_type": "execute_result",
     "data": {
      "text/plain": [
       "True"
      ]
     },
     "metadata": {},
     "execution_count": 17
    }
   ],
   "source": [
    "# Chained Operators\n",
    "\n",
    "x = 3\n",
    "\n",
    "1 <= x <=5"
   ]
  },
  {
   "cell_type": "code",
   "execution_count": null,
   "metadata": {},
   "outputs": [],
   "source": []
  }
 ]
}