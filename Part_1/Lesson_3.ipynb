{
 "metadata": {
  "language_info": {
   "codemirror_mode": {
    "name": "ipython",
    "version": 3
   },
   "file_extension": ".py",
   "mimetype": "text/x-python",
   "name": "python",
   "nbconvert_exporter": "python",
   "pygments_lexer": "ipython3",
   "version": "3.9.0-final"
  },
  "orig_nbformat": 2,
  "kernelspec": {
   "name": "python3",
   "display_name": "Python 3.9.0 64-bit",
   "metadata": {
    "interpreter": {
     "hash": "7812ea015bdcee6f23a998adcdd2ef97c151c0c241b7b7070987d9313e41299d"
    }
   }
  }
 },
 "nbformat": 4,
 "nbformat_minor": 2,
 "cells": [
  {
   "cell_type": "code",
   "execution_count": 4,
   "metadata": {},
   "outputs": [],
   "source": [
    "# if statement \n",
    "\n",
    "# Note that in this case when the condition is false, nothing gets printed\n",
    "\n",
    "# The code suite in an if statement is executed ONLY if the condition is TRUE\n",
    "def grading(grade):\n",
    "    if grade >= 60:\n",
    "        print(\"Passed\")\n",
    "        print(\"Good job!\")\n",
    "\n"
   ]
  },
  {
   "cell_type": "code",
   "execution_count": 5,
   "metadata": {},
   "outputs": [
    {
     "output_type": "stream",
     "name": "stdout",
     "text": [
      "Passed\nGood job!\n"
     ]
    }
   ],
   "source": [
    "grading(grade=80)"
   ]
  },
  {
   "cell_type": "code",
   "execution_count": 6,
   "metadata": {},
   "outputs": [],
   "source": [
    "# if-else statement \n",
    "\n",
    "# Note that in this case when the condition is false, the else suite (code-block) is printed\n",
    "\n",
    "# The code suite in an if statement is executed ONLY if the condition is TRUE and else is executed otherwise\n",
    "def grading(grade):\n",
    "    if grade >= 60:\n",
    "        print(\"Passed\")\n",
    "        print(\"Good job!\")\n",
    "\n",
    "    else:\n",
    "        print(\"Please retake this course\")"
   ]
  },
  {
   "cell_type": "code",
   "execution_count": 7,
   "metadata": {},
   "outputs": [
    {
     "output_type": "stream",
     "name": "stdout",
     "text": [
      "Please retake this course\n"
     ]
    }
   ],
   "source": [
    "grading(grade=50)"
   ]
  },
  {
   "cell_type": "code",
   "execution_count": 8,
   "metadata": {},
   "outputs": [],
   "source": [
    "# if-elif-else statement \n",
    "\n",
    "# Note that in this case when the condition is false, the elif suite (code-block) is checked\n",
    "\n",
    "# The code suite in an if-elif statement is executed ONLY if the condition is TRUE and else is executed otherwise\n",
    "def grading(grade):\n",
    "    if grade >= 90:\n",
    "        print(\"A\")\n",
    "        print(\"Passed\")\n",
    "        print(\"Good job!\")\n",
    "\n",
    "    elif grade >= 80:\n",
    "        print(\"B\")\n",
    "\n",
    "    elif grade >= 70:\n",
    "        print(\"C\")\n",
    "\n",
    "    elif grade >= 60:\n",
    "        print(\"D\")\n",
    "\n",
    "    else:\n",
    "        print(\"Please retake this course\")"
   ]
  },
  {
   "cell_type": "code",
   "execution_count": 9,
   "metadata": {},
   "outputs": [
    {
     "output_type": "stream",
     "name": "stdout",
     "text": [
      "C\n"
     ]
    }
   ],
   "source": [
    "grading(grade=77)"
   ]
  },
  {
   "cell_type": "code",
   "execution_count": 11,
   "metadata": {},
   "outputs": [
    {
     "output_type": "execute_result",
     "data": {
      "text/plain": [
       "81"
      ]
     },
     "metadata": {},
     "execution_count": 11
    }
   ],
   "source": [
    "# while loop\n",
    "\n",
    "# First multiple of 3 greater than 50\n",
    "\n",
    "\n",
    "product = 3\n",
    "\n",
    "while product <= 50:\n",
    "    product = product * 3\n",
    "\n",
    "product"
   ]
  },
  {
   "cell_type": "code",
   "execution_count": 12,
   "metadata": {},
   "outputs": [
    {
     "output_type": "execute_result",
     "data": {
      "text/plain": [
       "2401"
      ]
     },
     "metadata": {},
     "execution_count": 12
    }
   ],
   "source": [
    "# First power of 7 greater than 1000\n",
    "\n",
    "multiple = 7\n",
    "\n",
    "while multiple <= 1000:\n",
    "    multiple = multiple * 7\n",
    "\n",
    "multiple"
   ]
  },
  {
   "cell_type": "code",
   "execution_count": 16,
   "metadata": {},
   "outputs": [
    {
     "output_type": "stream",
     "name": "stdout",
     "text": [
      "E  U  N  I  C  E  "
     ]
    }
   ],
   "source": [
    "# Iterating through a sequence of items\n",
    "\n",
    "# Note: a string is a sequence of characters\n",
    "\n",
    "for i in \"EUNICE\":\n",
    "    print(i, end=\"  \") # Note that the end=\"  \" means that the outputs must be on the same line using the separator specified"
   ]
  },
  {
   "cell_type": "code",
   "execution_count": 14,
   "metadata": {},
   "outputs": [
    {
     "output_type": "stream",
     "name": "stdout",
     "text": [
      "E\nU\nN\nI\nC\nE\n"
     ]
    }
   ],
   "source": [
    "# Iterating through a sequence of items\n",
    "\n",
    "# Note: a string is a sequence of characters\n",
    "\n",
    "for i in \"EUNICE\":\n",
    "    print(i) # Cursor automatically drops to the next line"
   ]
  },
  {
   "cell_type": "code",
   "execution_count": 25,
   "metadata": {},
   "outputs": [
    {
     "output_type": "stream",
     "name": "stdout",
     "text": [
      "E , U , N , I , C , E , "
     ]
    }
   ],
   "source": [
    "# Iterating through a sequence of items\n",
    "\n",
    "# Note: a string is a sequence of characters\n",
    "\n",
    "for i in \"EUNICE\":\n",
    "    print(i, end=' , ') # end= ' , ' makes the output print on the same line separated by the specifier"
   ]
  },
  {
   "cell_type": "code",
   "execution_count": 24,
   "metadata": {},
   "outputs": [
    {
     "output_type": "stream",
     "name": "stdout",
     "text": [
      "10 , 20 , 30\n"
     ]
    }
   ],
   "source": [
    "print(10, 20, 30, sep=' , ')"
   ]
  },
  {
   "cell_type": "code",
   "execution_count": 26,
   "metadata": {},
   "outputs": [
    {
     "output_type": "execute_result",
     "data": {
      "text/plain": [
       "784"
      ]
     },
     "metadata": {},
     "execution_count": 26
    }
   ],
   "source": [
    "# List sequences\n",
    "\n",
    "# A list in Python is defined my square brackets\n",
    "\n",
    "total = 0\n",
    "\n",
    "for i in [10 , 20 , -5 , 700 , 59 ]:        # Square bracket creates an iterable\n",
    "    total = total + i\n",
    "total"
   ]
  },
  {
   "cell_type": "code",
   "execution_count": 29,
   "metadata": {},
   "outputs": [
    {
     "output_type": "stream",
     "name": "stdout",
     "text": [
      "1  2  3  4  5  6  7  8  9  10  11  12  13  14  15  16  17  18  19  20  "
     ]
    }
   ],
   "source": [
    "# Lets use the range function\n",
    "\n",
    "# The range function produces an iterable sequence\n",
    "for i in range(1 , 21):\n",
    "    print(i, end=\"  \")"
   ]
  },
  {
   "cell_type": "code",
   "execution_count": 31,
   "metadata": {},
   "outputs": [
    {
     "output_type": "execute_result",
     "data": {
      "text/plain": [
       "500000500000"
      ]
     },
     "metadata": {},
     "execution_count": 31
    }
   ],
   "source": [
    "# Calculating the sum of integers from 1 - 1000000\n",
    "\n",
    "# This is an accumulator, so lets initialize\n",
    "\n",
    "total = 0\n",
    "\n",
    "for i in range(1, 1000001):\n",
    "    total = total + i\n",
    "\n",
    "total"
   ]
  },
  {
   "cell_type": "code",
   "execution_count": 32,
   "metadata": {},
   "outputs": [
    {
     "output_type": "stream",
     "name": "stdout",
     "text": [
      "7 times 5 is 35\n"
     ]
    }
   ],
   "source": [
    "# Using f-strings\n",
    "\n",
    "number_1 = 7\n",
    "\n",
    "number_2 = 5\n",
    "\n",
    "product = number_1 * number_2\n",
    "\n",
    "print(f'{number_1} times {number_2} is {product}')"
   ]
  },
  {
   "cell_type": "code",
   "execution_count": 33,
   "metadata": {},
   "outputs": [
    {
     "output_type": "stream",
     "name": "stdout",
     "text": [
      "5 6 7 8 9 "
     ]
    }
   ],
   "source": [
    "# Indepth look at the range\n",
    "\n",
    "\n",
    "for number in range(5, 10):\n",
    "    print(number, end=' ')"
   ]
  },
  {
   "cell_type": "code",
   "execution_count": 34,
   "metadata": {},
   "outputs": [
    {
     "output_type": "stream",
     "name": "stdout",
     "text": [
      "0 2 4 6 8 "
     ]
    }
   ],
   "source": [
    "# Indepth look at the range\n",
    "\n",
    "\n",
    "for number in range(0, 10, 2):\n",
    "    print(number, end=' ')"
   ]
  },
  {
   "cell_type": "code",
   "execution_count": 35,
   "metadata": {},
   "outputs": [
    {
     "output_type": "stream",
     "name": "stdout",
     "text": [
      "10 8 6 4 2 "
     ]
    }
   ],
   "source": [
    "# Indepth look at the range\n",
    "\n",
    "\n",
    "for number in range(10, 0, -2):\n",
    "    print(number, end=' ')"
   ]
  },
  {
   "cell_type": "code",
   "execution_count": 36,
   "metadata": {},
   "outputs": [],
   "source": [
    "# Anytime you want to take a feature from a library, please import that library\n",
    "\n",
    "\n",
    "# Working with decimals (not floating point numbers)\n",
    "\n",
    "from decimal import Decimal\n",
    "\n",
    "principal = Decimal( \"1000.00\" )"
   ]
  },
  {
   "cell_type": "code",
   "execution_count": 37,
   "metadata": {},
   "outputs": [
    {
     "output_type": "execute_result",
     "data": {
      "text/plain": [
       "Decimal('1000.00')"
      ]
     },
     "metadata": {},
     "execution_count": 37
    }
   ],
   "source": [
    "principal"
   ]
  },
  {
   "cell_type": "code",
   "execution_count": 39,
   "metadata": {},
   "outputs": [
    {
     "output_type": "execute_result",
     "data": {
      "text/plain": [
       "Decimal('0.05')"
      ]
     },
     "metadata": {},
     "execution_count": 39
    }
   ],
   "source": [
    "rate = Decimal( \"0.05\" )\n",
    "\n",
    "\n",
    "rate"
   ]
  },
  {
   "cell_type": "code",
   "execution_count": 40,
   "metadata": {},
   "outputs": [
    {
     "output_type": "execute_result",
     "data": {
      "text/plain": [
       "Decimal('12.5')"
      ]
     },
     "metadata": {},
     "execution_count": 40
    }
   ],
   "source": [
    "x = Decimal( \"10.5\" )\n",
    "\n",
    "y = Decimal( \"2\" )\n",
    "\n",
    "x + y"
   ]
  },
  {
   "cell_type": "code",
   "execution_count": 42,
   "metadata": {},
   "outputs": [
    {
     "output_type": "stream",
     "name": "stdout",
     "text": [
      " 1   1050.00\n 2   1102.50\n 3   1157.62\n 4   1215.51\n 5   1276.28\n 6   1340.10\n 7   1407.10\n 8   1477.46\n 9   1551.33\n10   1628.89\n"
     ]
    }
   ],
   "source": [
    "# Compound Interest using the principal and rates given\n",
    "\n",
    "\n",
    "for year in range(1, 11):\n",
    "    amount = principal * (1 + rate) ** year\n",
    "    print(f'{year:>2}{amount:>10.2f}')\n"
   ]
  },
  {
   "cell_type": "code",
   "execution_count": 46,
   "metadata": {},
   "outputs": [
    {
     "output_type": "stream",
     "name": "stdout",
     "text": [
      "10 "
     ]
    }
   ],
   "source": [
    " # Break and continue statements\n",
    "\n",
    " for number in range(100):\n",
    "     if number == 10:\n",
    "         break \n",
    "    print(number, end=\" \")\n"
   ]
  },
  {
   "cell_type": "code",
   "execution_count": 49,
   "metadata": {},
   "outputs": [
    {
     "output_type": "stream",
     "name": "stdout",
     "text": [
      "0 1 2 3 4 6 7 8 9 "
     ]
    }
   ],
   "source": [
    " # Break and continue statements\n",
    "\n",
    " for number in range(10):\n",
    "     if number == 5:\n",
    "         continue \n",
    "     print(number, end=\" \")\n",
    "\n",
    "    # Skips the number 5"
   ]
  },
  {
   "cell_type": "code",
   "execution_count": 51,
   "metadata": {},
   "outputs": [
    {
     "output_type": "stream",
     "name": "stdout",
     "text": [
      "Senior Female\n"
     ]
    }
   ],
   "source": [
    "# Using Boolean Operators and, or, not\n",
    "\n",
    "gender = \"Female\"\n",
    "\n",
    "age = 70\n",
    "\n",
    "if gender == \"Female\" and age >= 65:\n",
    "    print(\"Senior Female\")"
   ]
  },
  {
   "cell_type": "code",
   "execution_count": 52,
   "metadata": {},
   "outputs": [
    {
     "output_type": "stream",
     "name": "stdout",
     "text": [
      "Student gets an A\n"
     ]
    }
   ],
   "source": [
    "# Using Boolean Operators and, or, not\n",
    "\n",
    "semester_average = 83\n",
    "\n",
    "final_exam = 95\n",
    "\n",
    "if semester_average >= 90 or final_exam >= 90:\n",
    "    print(\"Student gets an A\")"
   ]
  },
  {
   "cell_type": "code",
   "execution_count": 56,
   "metadata": {},
   "outputs": [
    {
     "output_type": "execute_result",
     "data": {
      "text/plain": [
       "[85, 89, 45, 93, 85]"
      ]
     },
     "metadata": {},
     "execution_count": 56
    }
   ],
   "source": [
    "z = 85\n",
    "\n",
    "y = 93\n",
    "\n",
    "x = 45\n",
    "\n",
    "w = 89\n",
    "\n",
    "v = 85\n",
    "\n",
    "grades = [v, w, x, y, z]\n",
    "\n",
    "grades\n"
   ]
  },
  {
   "cell_type": "code",
   "execution_count": 57,
   "metadata": {},
   "outputs": [
    {
     "output_type": "execute_result",
     "data": {
      "text/plain": [
       "79.4"
      ]
     },
     "metadata": {},
     "execution_count": 57
    }
   ],
   "source": [
    "import statistics\n",
    "\n",
    "statistics.mean(grades)"
   ]
  },
  {
   "cell_type": "code",
   "execution_count": 58,
   "metadata": {},
   "outputs": [
    {
     "output_type": "execute_result",
     "data": {
      "text/plain": [
       "85"
      ]
     },
     "metadata": {},
     "execution_count": 58
    }
   ],
   "source": [
    "statistics.median(grades)"
   ]
  },
  {
   "cell_type": "code",
   "execution_count": 59,
   "metadata": {},
   "outputs": [
    {
     "output_type": "execute_result",
     "data": {
      "text/plain": [
       "85"
      ]
     },
     "metadata": {},
     "execution_count": 59
    }
   ],
   "source": [
    "statistics.mode(grades)"
   ]
  },
  {
   "cell_type": "code",
   "execution_count": null,
   "metadata": {},
   "outputs": [],
   "source": []
  }
 ]
}