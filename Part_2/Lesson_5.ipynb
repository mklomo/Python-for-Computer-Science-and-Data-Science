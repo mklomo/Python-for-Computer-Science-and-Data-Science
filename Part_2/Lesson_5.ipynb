{
 "metadata": {
  "language_info": {
   "codemirror_mode": {
    "name": "ipython",
    "version": 3
   },
   "file_extension": ".py",
   "mimetype": "text/x-python",
   "name": "python",
   "nbconvert_exporter": "python",
   "pygments_lexer": "ipython3",
   "version": "3.9.0-final"
  },
  "orig_nbformat": 2,
  "kernelspec": {
   "name": "python3",
   "display_name": "Python 3.9.0 64-bit",
   "metadata": {
    "interpreter": {
     "hash": "7812ea015bdcee6f23a998adcdd2ef97c151c0c241b7b7070987d9313e41299d"
    }
   }
  }
 },
 "nbformat": 4,
 "nbformat_minor": 2,
 "cells": [
  {
   "cell_type": "code",
   "execution_count": 1,
   "metadata": {},
   "outputs": [
    {
     "output_type": "execute_result",
     "data": {
      "text/plain": [
       "[-45, 6, 0, 72, 1543]"
      ]
     },
     "metadata": {},
     "execution_count": 1
    }
   ],
   "source": [
    "# List are used to store homogenous data - data pf the same type\n",
    "\n",
    "c = [-45, 6, 0, 72, 1543]\n",
    "\n",
    "c"
   ]
  },
  {
   "cell_type": "code",
   "execution_count": 4,
   "metadata": {},
   "outputs": [
    {
     "output_type": "execute_result",
     "data": {
      "text/plain": [
       "-45"
      ]
     },
     "metadata": {},
     "execution_count": 4
    }
   ],
   "source": [
    "# List are mutable hence indexing is done from index number 0\n",
    "\n",
    "# Displaying the elements of a list\n",
    "\n",
    "c[0]"
   ]
  },
  {
   "cell_type": "code",
   "execution_count": 3,
   "metadata": {},
   "outputs": [
    {
     "output_type": "execute_result",
     "data": {
      "text/plain": [
       "6"
      ]
     },
     "metadata": {},
     "execution_count": 3
    }
   ],
   "source": [
    "# List are mutable hence indexing is done from index number 0\n",
    "\n",
    "# Displaying the elements of a list\n",
    "\n",
    "c[1]"
   ]
  },
  {
   "cell_type": "code",
   "execution_count": 5,
   "metadata": {},
   "outputs": [
    {
     "output_type": "execute_result",
     "data": {
      "text/plain": [
       "1543"
      ]
     },
     "metadata": {},
     "execution_count": 5
    }
   ],
   "source": [
    "# List are mutable hence indexing is done from index number 0\n",
    "\n",
    "# Displaying the elements of a list\n",
    "\n",
    "c[4]"
   ]
  },
  {
   "cell_type": "code",
   "execution_count": 6,
   "metadata": {},
   "outputs": [
    {
     "output_type": "execute_result",
     "data": {
      "text/plain": [
       "5"
      ]
     },
     "metadata": {},
     "execution_count": 6
    }
   ],
   "source": [
    "# The length of a list\n",
    "\n",
    "len(c)"
   ]
  },
  {
   "cell_type": "code",
   "execution_count": 7,
   "metadata": {},
   "outputs": [
    {
     "output_type": "execute_result",
     "data": {
      "text/plain": [
       "1543"
      ]
     },
     "metadata": {},
     "execution_count": 7
    }
   ],
   "source": [
    "# List are mutable hence indexing is done from index number 0\n",
    "\n",
    "# Displaying the elements of a list\n",
    "\n",
    "c[-1]"
   ]
  },
  {
   "cell_type": "code",
   "execution_count": 8,
   "metadata": {},
   "outputs": [
    {
     "output_type": "execute_result",
     "data": {
      "text/plain": [
       "-45"
      ]
     },
     "metadata": {},
     "execution_count": 8
    }
   ],
   "source": [
    "# List are mutable hence indexing is done from index number 0\n",
    "\n",
    "# Displaying the elements of a list\n",
    "\n",
    "c[-5]"
   ]
  },
  {
   "cell_type": "code",
   "execution_count": 9,
   "metadata": {},
   "outputs": [
    {
     "output_type": "execute_result",
     "data": {
      "text/plain": [
       "0"
      ]
     },
     "metadata": {},
     "execution_count": 9
    }
   ],
   "source": [
    "# List are mutable hence indexing is done from index number 0\n",
    "\n",
    "# Displaying the elements of a list\n",
    "\n",
    "c[-3]"
   ]
  },
  {
   "cell_type": "code",
   "execution_count": 11,
   "metadata": {},
   "outputs": [
    {
     "output_type": "execute_result",
     "data": {
      "text/plain": [
       "[-45, 6, 0, 72, 100]"
      ]
     },
     "metadata": {},
     "execution_count": 11
    }
   ],
   "source": [
    "# Changing the elements of a list\n",
    "\n",
    "c[4] = 100\n",
    "\n",
    "c"
   ]
  },
  {
   "cell_type": "code",
   "execution_count": 16,
   "metadata": {},
   "outputs": [
    {
     "output_type": "execute_result",
     "data": {
      "text/plain": [
       "[-45, 6, 0, 72, 100, 130]"
      ]
     },
     "metadata": {},
     "execution_count": 16
    }
   ],
   "source": [
    "c + [130]"
   ]
  },
  {
   "cell_type": "code",
   "execution_count": 12,
   "metadata": {},
   "outputs": [
    {
     "output_type": "execute_result",
     "data": {
      "text/plain": [
       "'a'"
      ]
     },
     "metadata": {},
     "execution_count": 12
    }
   ],
   "source": [
    "s = \"Marvin\"\n",
    "\n",
    "\n",
    "s[1]"
   ]
  },
  {
   "cell_type": "code",
   "execution_count": 13,
   "metadata": {},
   "outputs": [
    {
     "output_type": "error",
     "ename": "TypeError",
     "evalue": "'str' object does not support item assignment",
     "traceback": [
      "\u001b[0;31m---------------------------------------------------------------------------\u001b[0m",
      "\u001b[0;31mTypeError\u001b[0m                                 Traceback (most recent call last)",
      "\u001b[0;32m<ipython-input-13-f691ec4f6b50>\u001b[0m in \u001b[0;36m<module>\u001b[0;34m\u001b[0m\n\u001b[0;32m----> 1\u001b[0;31m \u001b[0ms\u001b[0m\u001b[0;34m[\u001b[0m\u001b[0;36m1\u001b[0m\u001b[0;34m]\u001b[0m \u001b[0;34m=\u001b[0m \u001b[0;34m\"Q\"\u001b[0m\u001b[0;34m\u001b[0m\u001b[0;34m\u001b[0m\u001b[0m\n\u001b[0m\u001b[1;32m      2\u001b[0m \u001b[0;34m\u001b[0m\u001b[0m\n\u001b[1;32m      3\u001b[0m \u001b[0ms\u001b[0m\u001b[0;34m\u001b[0m\u001b[0;34m\u001b[0m\u001b[0m\n",
      "\u001b[0;31mTypeError\u001b[0m: 'str' object does not support item assignment"
     ]
    }
   ],
   "source": [
    "# Strings are NOT imutable\n",
    "\n",
    "s[1] = \"Q\"\n",
    "\n",
    "s"
   ]
  },
  {
   "cell_type": "code",
   "execution_count": 15,
   "metadata": {},
   "outputs": [
    {
     "output_type": "execute_result",
     "data": {
      "text/plain": [
       "[10, 20, 30]"
      ]
     },
     "metadata": {},
     "execution_count": 15
    }
   ],
   "source": [
    "# Lists are modifiable\n",
    "\n",
    "a_list = []\n",
    "\n",
    "\n",
    "for number in [10, 20, 30]:\n",
    "    a_list += [number]\n",
    "\n",
    "a_list"
   ]
  },
  {
   "cell_type": "code",
   "execution_count": 17,
   "metadata": {},
   "outputs": [
    {
     "output_type": "execute_result",
     "data": {
      "text/plain": [
       "['P', 'y', 't', 'h', 'o', 'n']"
      ]
     },
     "metadata": {},
     "execution_count": 17
    }
   ],
   "source": [
    "letters = []\n",
    "\n",
    "letters += \"Python\"\n",
    "\n",
    "letters"
   ]
  },
  {
   "cell_type": "code",
   "execution_count": 19,
   "metadata": {},
   "outputs": [
    {
     "output_type": "execute_result",
     "data": {
      "text/plain": [
       "[10, 20, 30, 1000, 2000]"
      ]
     },
     "metadata": {},
     "execution_count": 19
    }
   ],
   "source": [
    "list_1 = [10, 20, 30]\n",
    "\n",
    "list_2 = [1000, 2000]\n",
    "\n",
    "concatenated_list = list_1 + list_2\n",
    "\n",
    "concatenated_list"
   ]
  },
  {
   "cell_type": "code",
   "execution_count": 20,
   "metadata": {},
   "outputs": [
    {
     "output_type": "stream",
     "name": "stdout",
     "text": [
      " 0: 10 \n 1: 20 \n 2: 30 \n 3: 1000 \n 4: 2000 \n"
     ]
    }
   ],
   "source": [
    "for i in range(len(concatenated_list)):\n",
    "    print(f\" {i}: {concatenated_list[i]} \")"
   ]
  },
  {
   "cell_type": "code",
   "execution_count": 21,
   "metadata": {},
   "outputs": [],
   "source": [
    "# Comparing Lists\n",
    "\n",
    "a = [1, 2, 3]\n",
    "\n",
    "b = [1, 2, 3]\n",
    "\n",
    "c = [3, 1, 2]\n",
    "\n",
    "d = [1, 2, 3, 4, 5]"
   ]
  },
  {
   "cell_type": "code",
   "execution_count": 22,
   "metadata": {},
   "outputs": [
    {
     "output_type": "execute_result",
     "data": {
      "text/plain": [
       "True"
      ]
     },
     "metadata": {},
     "execution_count": 22
    }
   ],
   "source": [
    "a == b"
   ]
  },
  {
   "cell_type": "code",
   "execution_count": 23,
   "metadata": {},
   "outputs": [
    {
     "output_type": "execute_result",
     "data": {
      "text/plain": [
       "False"
      ]
     },
     "metadata": {},
     "execution_count": 23
    }
   ],
   "source": [
    "a == d"
   ]
  },
  {
   "cell_type": "code",
   "execution_count": 24,
   "metadata": {},
   "outputs": [
    {
     "output_type": "execute_result",
     "data": {
      "text/plain": [
       "True"
      ]
     },
     "metadata": {},
     "execution_count": 24
    }
   ],
   "source": [
    "a <= d"
   ]
  },
  {
   "cell_type": "code",
   "execution_count": 25,
   "metadata": {},
   "outputs": [
    {
     "output_type": "execute_result",
     "data": {
      "text/plain": [
       "False"
      ]
     },
     "metadata": {},
     "execution_count": 25
    }
   ],
   "source": [
    "b == c "
   ]
  },
  {
   "cell_type": "code",
   "execution_count": 29,
   "metadata": {},
   "outputs": [
    {
     "output_type": "execute_result",
     "data": {
      "text/plain": [
       "[1, 8, 27, 64, 125, 216, 343, 512, 729, 1000]"
      ]
     },
     "metadata": {},
     "execution_count": 29
    }
   ],
   "source": [
    "# Creating a list of 1 through 10\n",
    "\n",
    "y = [1, 2, 3, 4, 5, 6, 7, 8, 9, 10]\n",
    "\n",
    "def cube_list(numbers):\n",
    "\n",
    "    \"\"\" This function takes in a list and provides the cube of each member \"\"\"\n",
    "\n",
    "    x = []\n",
    "\n",
    "    for i in numbers:\n",
    "        \n",
    "        z = i ** 3\n",
    "\n",
    "        x += [z]\n",
    "\n",
    "    return x\n",
    "\n",
    "\n",
    "\n",
    "cube_list(y)    "
   ]
  },
  {
   "cell_type": "code",
   "execution_count": 30,
   "metadata": {},
   "outputs": [
    {
     "output_type": "execute_result",
     "data": {
      "text/plain": [
       "['B', 'i', 'r', 't', 'h', 'd', 'a', 'y']"
      ]
     },
     "metadata": {},
     "execution_count": 30
    }
   ],
   "source": [
    "characters = []\n",
    "\n",
    "characters += \"Birthday\"\n",
    "\n",
    "characters"
   ]
  },
  {
   "cell_type": "code",
   "execution_count": 37,
   "metadata": {},
   "outputs": [
    {
     "output_type": "execute_result",
     "data": {
      "text/plain": [
       "()"
      ]
     },
     "metadata": {},
     "execution_count": 37
    }
   ],
   "source": [
    "# Tuples\n",
    "\n",
    "student_tuple = ()\n",
    "\n",
    "student_tuple"
   ]
  },
  {
   "cell_type": "code",
   "execution_count": 39,
   "metadata": {},
   "outputs": [
    {
     "output_type": "execute_result",
     "data": {
      "text/plain": [
       "('John', 'Green', 3.9)"
      ]
     },
     "metadata": {},
     "execution_count": 39
    }
   ],
   "source": [
    "student_tuple = \"John\", \"Green\", 3.9\n",
    "\n",
    "student_tuple"
   ]
  },
  {
   "cell_type": "code",
   "execution_count": 40,
   "metadata": {},
   "outputs": [
    {
     "output_type": "execute_result",
     "data": {
      "text/plain": [
       "3"
      ]
     },
     "metadata": {},
     "execution_count": 40
    }
   ],
   "source": [
    "# Lets check the length of this tuple\n",
    "\n",
    "len(student_tuple)"
   ]
  },
  {
   "cell_type": "code",
   "execution_count": 41,
   "metadata": {},
   "outputs": [
    {
     "output_type": "execute_result",
     "data": {
      "text/plain": [
       "('Mary', 'Red', 4.0)"
      ]
     },
     "metadata": {},
     "execution_count": 41
    }
   ],
   "source": [
    "student_tuple_2 = (\"Mary\", \"Red\", 4.0)\n",
    "\n",
    "student_tuple_2"
   ]
  },
  {
   "cell_type": "code",
   "execution_count": 43,
   "metadata": {},
   "outputs": [
    {
     "output_type": "execute_result",
     "data": {
      "text/plain": [
       "('red',)"
      ]
     },
     "metadata": {},
     "execution_count": 43
    }
   ],
   "source": [
    "# Note that its only a comma that creates a tuple\n",
    "\n",
    "a_single_tuple = (\"red\", )\n",
    "\n",
    "a_single_tuple"
   ]
  },
  {
   "cell_type": "code",
   "execution_count": 44,
   "metadata": {},
   "outputs": [
    {
     "output_type": "execute_result",
     "data": {
      "text/plain": [
       "(9, 16, 24)"
      ]
     },
     "metadata": {},
     "execution_count": 44
    }
   ],
   "source": [
    "# Accessing tuple elements\n",
    "\n",
    "time_tuple = (9, 16, 24)\n",
    "\n",
    "time_tuple"
   ]
  },
  {
   "cell_type": "code",
   "execution_count": 45,
   "metadata": {},
   "outputs": [
    {
     "output_type": "execute_result",
     "data": {
      "text/plain": [
       "33384"
      ]
     },
     "metadata": {},
     "execution_count": 45
    }
   ],
   "source": [
    "# Calculations with the tuple\n",
    "\n",
    "time_tuple[0] * 3600 + time_tuple[1] * 60 + time_tuple[2]"
   ]
  },
  {
   "cell_type": "code",
   "execution_count": 47,
   "metadata": {},
   "outputs": [
    {
     "output_type": "execute_result",
     "data": {
      "text/plain": [
       "(10, 20, 30)"
      ]
     },
     "metadata": {},
     "execution_count": 47
    }
   ],
   "source": [
    "tuple_1 = (10, 20, 30)\n",
    "\n",
    "tuple_2 = tuple_1\n",
    "\n",
    "tuple_2"
   ]
  },
  {
   "cell_type": "code",
   "execution_count": 48,
   "metadata": {},
   "outputs": [
    {
     "output_type": "execute_result",
     "data": {
      "text/plain": [
       "(10, 20, 30, 40, 50)"
      ]
     },
     "metadata": {},
     "execution_count": 48
    }
   ],
   "source": [
    "tuple_1 += (40, 50)\n",
    "\n",
    "tuple_1"
   ]
  },
  {
   "cell_type": "code",
   "execution_count": 49,
   "metadata": {},
   "outputs": [
    {
     "output_type": "execute_result",
     "data": {
      "text/plain": [
       "(10, 20, 30)"
      ]
     },
     "metadata": {},
     "execution_count": 49
    }
   ],
   "source": [
    "tuple_2"
   ]
  },
  {
   "cell_type": "code",
   "execution_count": 50,
   "metadata": {},
   "outputs": [
    {
     "output_type": "execute_result",
     "data": {
      "text/plain": [
       "[1, 2, 3, 4, 5, 6, 7]"
      ]
     },
     "metadata": {},
     "execution_count": 50
    }
   ],
   "source": [
    "# Interaction between lists and tuples\n",
    "\n",
    "numbers = [1, 2, 3, 4, 5]\n",
    "\n",
    "numbers += (6, 7)\n",
    "\n",
    "numbers"
   ]
  },
  {
   "cell_type": "code",
   "execution_count": 54,
   "metadata": {},
   "outputs": [
    {
     "output_type": "execute_result",
     "data": {
      "text/plain": [
       "75"
      ]
     },
     "metadata": {},
     "execution_count": 54
    }
   ],
   "source": [
    "# Accessing the a list within the tuple\n",
    "\n",
    "student_tuple = (\"Amanda\", \"Blue\", [98, 75, 87])\n",
    "\n",
    "student_tuple[2][1]"
   ]
  },
  {
   "cell_type": "code",
   "execution_count": 58,
   "metadata": {},
   "outputs": [
    {
     "output_type": "execute_result",
     "data": {
      "text/plain": [
       "[1, 2, 3, 4, 5, 6]"
      ]
     },
     "metadata": {},
     "execution_count": 58
    }
   ],
   "source": [
    "# List and tuples \n",
    "\n",
    "x = [1, 2, 3]\n",
    "\n",
    "y = (4, 5, 6)\n",
    "\n",
    "# You can only add the tuple to the list indexes and not perform ususal addition operations\n",
    "x += y\n",
    "\n",
    "x"
   ]
  },
  {
   "cell_type": "code",
   "execution_count": 2,
   "metadata": {},
   "outputs": [
    {
     "output_type": "execute_result",
     "data": {
      "text/plain": [
       "['P', 'y', 't', 'h', 'o', 'n']"
      ]
     },
     "metadata": {},
     "execution_count": 2
    }
   ],
   "source": [
    "letters = []\n",
    "\n",
    "letters += \"Python\"\n",
    "\n",
    "letters"
   ]
  },
  {
   "cell_type": "code",
   "execution_count": 1,
   "metadata": {},
   "outputs": [],
   "source": [
    "#Unpacking a tuple\n",
    "\n",
    "student_tuple = (\"Amanda\", [98, 85, 87])\n",
    "\n",
    "first_name, grades = student_tuple\n"
   ]
  },
  {
   "cell_type": "code",
   "execution_count": 3,
   "metadata": {},
   "outputs": [
    {
     "output_type": "execute_result",
     "data": {
      "text/plain": [
       "'Amanda'"
      ]
     },
     "metadata": {},
     "execution_count": 3
    }
   ],
   "source": [
    "first_name"
   ]
  },
  {
   "cell_type": "code",
   "execution_count": 4,
   "metadata": {},
   "outputs": [
    {
     "output_type": "execute_result",
     "data": {
      "text/plain": [
       "[98, 85, 87]"
      ]
     },
     "metadata": {},
     "execution_count": 4
    }
   ],
   "source": [
    "grades"
   ]
  },
  {
   "cell_type": "code",
   "execution_count": 5,
   "metadata": {},
   "outputs": [
    {
     "output_type": "stream",
     "name": "stdout",
     "text": [
      "P E\n"
     ]
    }
   ],
   "source": [
    "# Unpacking a string\n",
    "\n",
    "first, second = \"PE\"\n",
    "\n",
    "print(f\"{first} {second}\")"
   ]
  },
  {
   "cell_type": "code",
   "execution_count": 6,
   "metadata": {},
   "outputs": [
    {
     "output_type": "stream",
     "name": "stdout",
     "text": [
      "2 7 9\n"
     ]
    }
   ],
   "source": [
    "# Unpacking a list\n",
    "\n",
    "number_1, number_2, number_3 = [2, 7, 9]\n",
    "\n",
    "print(f\"{number_1} {number_2} {number_3}\")"
   ]
  },
  {
   "cell_type": "code",
   "execution_count": 7,
   "metadata": {},
   "outputs": [
    {
     "output_type": "stream",
     "name": "stdout",
     "text": [
      "7 14 21\n"
     ]
    }
   ],
   "source": [
    "# Unpacking a sequence / range\n",
    "\n",
    "number_1, number_2, number_3 = range(7, 25, 7)\n",
    "\n",
    "print(f\"{number_1} {number_2} {number_3}\")"
   ]
  },
  {
   "cell_type": "code",
   "execution_count": 8,
   "metadata": {},
   "outputs": [
    {
     "output_type": "stream",
     "name": "stdout",
     "text": [
      "40 90\n"
     ]
    }
   ],
   "source": [
    "# Swapping\n",
    "\n",
    "number_1 = 90\n",
    "\n",
    "number_2 = 40\n",
    "\n",
    "number_1, number_2 = (number_2, number_1)\n",
    "\n",
    "print(f\"{number_1} {number_2}\")"
   ]
  },
  {
   "cell_type": "code",
   "execution_count": 10,
   "metadata": {},
   "outputs": [
    {
     "output_type": "execute_result",
     "data": {
      "text/plain": [
       "[(0, 'red'), (1, 'yellow'), (2, 'green')]"
      ]
     },
     "metadata": {},
     "execution_count": 10
    }
   ],
   "source": [
    "# Using the enumerate function\n",
    "\n",
    "colors = [\"red\", \"yellow\", \"green\"]\n",
    "\n",
    "list(enumerate(colors)). #This produces a list"
   ]
  },
  {
   "cell_type": "code",
   "execution_count": 11,
   "metadata": {},
   "outputs": [
    {
     "output_type": "execute_result",
     "data": {
      "text/plain": [
       "((0, 'red'), (1, 'yellow'), (2, 'green'))"
      ]
     },
     "metadata": {},
     "execution_count": 11
    }
   ],
   "source": [
    "# Using the enumerate function\n",
    "\n",
    "colors = [\"red\", \"yellow\", \"green\"]\n",
    "\n",
    "tuple(enumerate(colors)) # This produces a tuple"
   ]
  },
  {
   "cell_type": "code",
   "execution_count": 12,
   "metadata": {},
   "outputs": [
    {
     "output_type": "stream",
     "name": "stdout",
     "text": [
      " 0 : red \n 1 : yellow \n 2 : green \n"
     ]
    }
   ],
   "source": [
    "for index, value in enumerate(colors):\n",
    "    print(f\" {index} : {value} \")"
   ]
  },
  {
   "cell_type": "code",
   "execution_count": 25,
   "metadata": {},
   "outputs": [
    {
     "output_type": "execute_result",
     "data": {
      "text/plain": [
       "True"
      ]
     },
     "metadata": {},
     "execution_count": 25
    }
   ],
   "source": [
    "def is_valid_email(some_string):\n",
    "    pos_at = some_string.find(\"@\")\n",
    "    pos_dot = some_string.find(\".\")\n",
    "    # find returns a -1 if criterion is not found\n",
    "    if pos_at == -1 or pos_dot == -1:\n",
    "        return False\n",
    "    if pos_at > pos_dot:\n",
    "        return False\n",
    "    if abs(pos_at-pos_dot) == 1:\n",
    "        return False\n",
    "    if some_string.count(\".\") > 2 or some_string.count(\"@\") > 1:\n",
    "        return False\n",
    "    #if pos_at == 0 or pos_dot == len(some_string)-1:\n",
    "        return False\n",
    "    else:\n",
    "        return True\n",
    "\n",
    "is_valid_email(\"aa@aa.\")\n"
   ]
  },
  {
   "cell_type": "code",
   "execution_count": 26,
   "metadata": {},
   "outputs": [],
   "source": [
    "# Self Check\n",
    "\n",
    "high_low = (\"Monday\", [28, 56])\n",
    "\n",
    "day, temp_range = high_low"
   ]
  },
  {
   "cell_type": "code",
   "execution_count": 27,
   "metadata": {},
   "outputs": [
    {
     "output_type": "execute_result",
     "data": {
      "text/plain": [
       "'Monday'"
      ]
     },
     "metadata": {},
     "execution_count": 27
    }
   ],
   "source": [
    "day"
   ]
  },
  {
   "cell_type": "code",
   "execution_count": 28,
   "metadata": {},
   "outputs": [
    {
     "output_type": "execute_result",
     "data": {
      "text/plain": [
       "[28, 56]"
      ]
     },
     "metadata": {},
     "execution_count": 28
    }
   ],
   "source": [
    "temp_range"
   ]
  },
  {
   "cell_type": "code",
   "execution_count": 31,
   "metadata": {},
   "outputs": [
    {
     "output_type": "stream",
     "name": "stdout",
     "text": [
      "28 56\n"
     ]
    }
   ],
   "source": [
    "high, low = temp_range\n",
    "\n",
    "print(high, low)"
   ]
  },
  {
   "cell_type": "code",
   "execution_count": 29,
   "metadata": {},
   "outputs": [
    {
     "output_type": "stream",
     "name": "stdout",
     "text": [
      " 0 : Morgan\n 1 : Yaw\n 2 : Paul\n"
     ]
    }
   ],
   "source": [
    "# Using the enumerate function\n",
    "\n",
    "names = [\"Morgan\", \"Yaw\", \"Paul\"]\n",
    "\n",
    "for index, string in list(enumerate(names)):\n",
    "    print(f\" {index} : {string}\")"
   ]
  },
  {
   "cell_type": "code",
   "execution_count": 43,
   "metadata": {},
   "outputs": [
    {
     "output_type": "execute_result",
     "data": {
      "text/plain": [
       "[3, 4, 5]"
      ]
     },
     "metadata": {},
     "execution_count": 43
    }
   ],
   "source": [
    "# Slicing techniques for lists, strings and tuples\n",
    "\n",
    "numbers = [1, 2, 3, 4, 5, 10]\n",
    "\n",
    "\n",
    "numbers[2:5]"
   ]
  },
  {
   "cell_type": "code",
   "execution_count": 34,
   "metadata": {},
   "outputs": [
    {
     "output_type": "execute_result",
     "data": {
      "text/plain": [
       "[1, 2, 3]"
      ]
     },
     "metadata": {},
     "execution_count": 34
    }
   ],
   "source": [
    "# More slicing\n",
    "\n",
    "numbers[ : 3]"
   ]
  },
  {
   "cell_type": "code",
   "execution_count": 35,
   "metadata": {},
   "outputs": [
    {
     "output_type": "execute_result",
     "data": {
      "text/plain": [
       "[4, 5, 10]"
      ]
     },
     "metadata": {},
     "execution_count": 35
    }
   ],
   "source": [
    "# More Slicing\n",
    "\n",
    "numbers[3 : ]"
   ]
  },
  {
   "cell_type": "code",
   "execution_count": 36,
   "metadata": {},
   "outputs": [
    {
     "output_type": "execute_result",
     "data": {
      "text/plain": [
       "[1, 2, 3, 4, 5, 10]"
      ]
     },
     "metadata": {},
     "execution_count": 36
    }
   ],
   "source": [
    "# Making a copy of the list\n",
    "\n",
    "numbers[ : ] # This is a shallow copy"
   ]
  },
  {
   "cell_type": "code",
   "execution_count": 37,
   "metadata": {},
   "outputs": [
    {
     "output_type": "execute_result",
     "data": {
      "text/plain": [
       "[1, 3, 5]"
      ]
     },
     "metadata": {},
     "execution_count": 37
    }
   ],
   "source": [
    "# Stepping \n",
    "\n",
    "numbers[ : : 2]"
   ]
  },
  {
   "cell_type": "code",
   "execution_count": 38,
   "metadata": {},
   "outputs": [
    {
     "output_type": "execute_result",
     "data": {
      "text/plain": [
       "[10, 5, 4, 3, 2, 1]"
      ]
     },
     "metadata": {},
     "execution_count": 38
    }
   ],
   "source": [
    "# Stepping to get a reversed list\n",
    "\n",
    "numbers[ : : -1]"
   ]
  },
  {
   "cell_type": "code",
   "execution_count": 40,
   "metadata": {},
   "outputs": [
    {
     "output_type": "execute_result",
     "data": {
      "text/plain": [
       "[10, 5, 4, 3, 2, 1]"
      ]
     },
     "metadata": {},
     "execution_count": 40
    }
   ],
   "source": [
    "# Stepping to get a reversed list\n",
    "\n",
    "numbers[ -1 : -7 : -1]"
   ]
  },
  {
   "cell_type": "code",
   "execution_count": 41,
   "metadata": {},
   "outputs": [
    {
     "output_type": "execute_result",
     "data": {
      "text/plain": [
       "['Jesus', 'is', 'King', 4, 5, 10]"
      ]
     },
     "metadata": {},
     "execution_count": 41
    }
   ],
   "source": [
    "# Replacing the elements of a s;ice\n",
    "\n",
    "numbers[0 : 3] = [\"Jesus\", \"is\", \"King\"]\n",
    "\n",
    "numbers"
   ]
  },
  {
   "cell_type": "code",
   "execution_count": 42,
   "metadata": {},
   "outputs": [
    {
     "output_type": "execute_result",
     "data": {
      "text/plain": [
       "['Jesus', 'is', 'King', 10]"
      ]
     },
     "metadata": {},
     "execution_count": 42
    }
   ],
   "source": [
    "# Deleting elements from a slice\n",
    "\n",
    "numbers[3 : 5] = []\n",
    "\n",
    "numbers"
   ]
  },
  {
   "cell_type": "code",
   "execution_count": 46,
   "metadata": {},
   "outputs": [
    {
     "output_type": "execute_result",
     "data": {
      "text/plain": [
       "['Jesus', 2, 'is', 4, 'King', 10]"
      ]
     },
     "metadata": {},
     "execution_count": 46
    }
   ],
   "source": [
    "numbers[ : : 2] = [\"Jesus\", \"is\", \"King\"]\n",
    "\n",
    "numbers"
   ]
  },
  {
   "cell_type": "code",
   "execution_count": 49,
   "metadata": {},
   "outputs": [
    {
     "output_type": "execute_result",
     "data": {
      "text/plain": [
       "[]"
      ]
     },
     "metadata": {},
     "execution_count": 49
    }
   ],
   "source": [
    "# Deleting all elements from the original list\n",
    "\n",
    "numbers[ : ] = []\n",
    "\n",
    "numbers"
   ]
  },
  {
   "cell_type": "code",
   "execution_count": 50,
   "metadata": {},
   "outputs": [
    {
     "output_type": "execute_result",
     "data": {
      "text/plain": [
       "[0, 1, 2, 3, 4, 5, 6, 7, 8]"
      ]
     },
     "metadata": {},
     "execution_count": 50
    }
   ],
   "source": [
    "# Using the delete statement\n",
    "\n",
    "numbers = list(range(0, 9))\n",
    "\n",
    "numbers"
   ]
  },
  {
   "cell_type": "code",
   "execution_count": 53,
   "metadata": {},
   "outputs": [
    {
     "output_type": "execute_result",
     "data": {
      "text/plain": [
       "[0, 1, 2, 3, 4, 5, 6]"
      ]
     },
     "metadata": {},
     "execution_count": 53
    }
   ],
   "source": [
    "# Delete the last element of the slice\n",
    "\n",
    "del(numbers[-1])\n",
    "\n",
    "numbers"
   ]
  },
  {
   "cell_type": "code",
   "execution_count": 54,
   "metadata": {},
   "outputs": [
    {
     "output_type": "execute_result",
     "data": {
      "text/plain": [
       "[2, 3, 4, 5, 6]"
      ]
     },
     "metadata": {},
     "execution_count": 54
    }
   ],
   "source": [
    "# deleting a slice of numbers\n",
    "\n",
    "del(numbers[0:2])\n",
    "\n",
    "numbers"
   ]
  },
  {
   "cell_type": "code",
   "execution_count": 55,
   "metadata": {},
   "outputs": [
    {
     "output_type": "execute_result",
     "data": {
      "text/plain": [
       "[3, 5]"
      ]
     },
     "metadata": {},
     "execution_count": 55
    }
   ],
   "source": [
    "# Deleting every other element\n",
    "\n",
    "del(numbers[ : : 2])\n",
    "\n",
    "numbers"
   ]
  },
  {
   "cell_type": "code",
   "execution_count": 59,
   "metadata": {},
   "outputs": [
    {
     "output_type": "execute_result",
     "data": {
      "text/plain": [
       "[2, 6]"
      ]
     },
     "metadata": {},
     "execution_count": 59
    }
   ],
   "source": [
    "# Deleting all elements in a slice\n",
    "\n",
    "numbers = list(range(0, 10, 2))\n",
    "\n",
    "del(numbers[ : : 2])\n",
    "\n",
    "numbers"
   ]
  },
  {
   "cell_type": "code",
   "execution_count": 61,
   "metadata": {},
   "outputs": [],
   "source": [
    "# Delete a variable from the namespace/environment\n",
    "\n",
    "del numbers\n"
   ]
  },
  {
   "cell_type": "code",
   "execution_count": 86,
   "metadata": {},
   "outputs": [],
   "source": [
    "# Passing lists to functions\n",
    "\n",
    "def modify_elements(items):\n",
    "    \"\"\" Multiplies all element values in items by 2. \"\"\"\n",
    "    for index in range(len(items)):\n",
    "        items[index] *= 2\n",
    "    return items\n"
   ]
  },
  {
   "cell_type": "code",
   "execution_count": 87,
   "metadata": {},
   "outputs": [
    {
     "output_type": "execute_result",
     "data": {
      "text/plain": [
       "[20, 40, 60, 80, 100]"
      ]
     },
     "metadata": {},
     "execution_count": 87
    }
   ],
   "source": [
    "\n",
    "numbers = [10, 20, 30, 40, 50]\n",
    "\n",
    "modify_elements(numbers)"
   ]
  },
  {
   "cell_type": "code",
   "execution_count": 88,
   "metadata": {},
   "outputs": [
    {
     "output_type": "error",
     "ename": "TypeError",
     "evalue": "'tuple' object does not support item assignment",
     "traceback": [
      "\u001b[0;31m---------------------------------------------------------------------------\u001b[0m",
      "\u001b[0;31mTypeError\u001b[0m                                 Traceback (most recent call last)",
      "\u001b[0;32m<ipython-input-88-0f9c81d4e65a>\u001b[0m in \u001b[0;36m<module>\u001b[0;34m\u001b[0m\n\u001b[1;32m      3\u001b[0m \u001b[0mnumber_tuple\u001b[0m \u001b[0;34m=\u001b[0m \u001b[0;34m(\u001b[0m\u001b[0;36m10\u001b[0m\u001b[0;34m,\u001b[0m \u001b[0;36m20\u001b[0m\u001b[0;34m,\u001b[0m \u001b[0;36m30\u001b[0m\u001b[0;34m)\u001b[0m\u001b[0;34m\u001b[0m\u001b[0;34m\u001b[0m\u001b[0m\n\u001b[1;32m      4\u001b[0m \u001b[0;34m\u001b[0m\u001b[0m\n\u001b[0;32m----> 5\u001b[0;31m \u001b[0mmodify_elements\u001b[0m\u001b[0;34m(\u001b[0m\u001b[0mnumber_tuple\u001b[0m\u001b[0;34m)\u001b[0m\u001b[0;34m\u001b[0m\u001b[0;34m\u001b[0m\u001b[0m\n\u001b[0m",
      "\u001b[0;32m<ipython-input-86-12448fedb2db>\u001b[0m in \u001b[0;36mmodify_elements\u001b[0;34m(items)\u001b[0m\n\u001b[1;32m      4\u001b[0m     \u001b[0;34m\"\"\" Multiplies all element values in items by 2. \"\"\"\u001b[0m\u001b[0;34m\u001b[0m\u001b[0;34m\u001b[0m\u001b[0m\n\u001b[1;32m      5\u001b[0m     \u001b[0;32mfor\u001b[0m \u001b[0mindex\u001b[0m \u001b[0;32min\u001b[0m \u001b[0mrange\u001b[0m\u001b[0;34m(\u001b[0m\u001b[0mlen\u001b[0m\u001b[0;34m(\u001b[0m\u001b[0mitems\u001b[0m\u001b[0;34m)\u001b[0m\u001b[0;34m)\u001b[0m\u001b[0;34m:\u001b[0m\u001b[0;34m\u001b[0m\u001b[0;34m\u001b[0m\u001b[0m\n\u001b[0;32m----> 6\u001b[0;31m         \u001b[0mitems\u001b[0m\u001b[0;34m[\u001b[0m\u001b[0mindex\u001b[0m\u001b[0;34m]\u001b[0m \u001b[0;34m*=\u001b[0m \u001b[0;36m2\u001b[0m\u001b[0;34m\u001b[0m\u001b[0;34m\u001b[0m\u001b[0m\n\u001b[0m\u001b[1;32m      7\u001b[0m     \u001b[0;32mreturn\u001b[0m \u001b[0mitems\u001b[0m\u001b[0;34m\u001b[0m\u001b[0;34m\u001b[0m\u001b[0m\n",
      "\u001b[0;31mTypeError\u001b[0m: 'tuple' object does not support item assignment"
     ]
    }
   ],
   "source": [
    "# The modify_elements function is  limited to just lists because tuples are NOT modifiable\n",
    "\n",
    "number_tuple = (10, 20, 30)\n",
    "\n",
    "modify_elements(number_tuple)"
   ]
  },
  {
   "cell_type": "code",
   "execution_count": 91,
   "metadata": {},
   "outputs": [
    {
     "output_type": "execute_result",
     "data": {
      "text/plain": [
       "[2, 11, 29, 62, 85, 89, 94, 100]"
      ]
     },
     "metadata": {},
     "execution_count": 91
    }
   ],
   "source": [
    "# Sorting\n",
    "\n",
    "numbers = [89, 85, 62, 100, 94, 29, 11, 2]\n",
    "\n",
    "numbers.sort()\n",
    "\n",
    "numbers"
   ]
  },
  {
   "cell_type": "code",
   "execution_count": 92,
   "metadata": {},
   "outputs": [
    {
     "output_type": "execute_result",
     "data": {
      "text/plain": [
       "[100, 94, 89, 85, 62, 29, 11, 2]"
      ]
     },
     "metadata": {},
     "execution_count": 92
    }
   ],
   "source": [
    "# Numbers sorted in descending order\n",
    "\n",
    "numbers.reverse()\n",
    "\n",
    "numbers"
   ]
  },
  {
   "cell_type": "code",
   "execution_count": 93,
   "metadata": {},
   "outputs": [
    {
     "output_type": "execute_result",
     "data": {
      "text/plain": [
       "[2, 11, 29, 62, 85, 89, 94, 100]"
      ]
     },
     "metadata": {},
     "execution_count": 93
    }
   ],
   "source": [
    "# Sorting using the sorted function\n",
    "\n",
    "ascending_number = sorted(numbers)\n",
    "\n",
    "ascending_number # Does not modify the numbers list"
   ]
  },
  {
   "cell_type": "code",
   "execution_count": 94,
   "metadata": {},
   "outputs": [
    {
     "output_type": "execute_result",
     "data": {
      "text/plain": [
       "['e', 'f', 'f', 'j', 'j', 'j', 'k', 'n', 's', 's', 'v']"
      ]
     },
     "metadata": {},
     "execution_count": 94
    }
   ],
   "source": [
    "# Sorting strings\n",
    "\n",
    "letters = \"sfjnvjejskf\"\n",
    "\n",
    "ascending_letters = sorted(letters)\n",
    "\n",
    "ascending_letters"
   ]
  },
  {
   "cell_type": "code",
   "execution_count": 95,
   "metadata": {},
   "outputs": [
    {
     "output_type": "execute_result",
     "data": {
      "text/plain": [
       "['blue', 'green', 'orange', 'red']"
      ]
     },
     "metadata": {},
     "execution_count": 95
    }
   ],
   "source": [
    "# Sorting a tuple\n",
    "\n",
    "colors = (\"red\", \"green\", \"blue\", \"orange\")\n",
    "\n",
    "ascending_colors = sorted(colors)\n",
    "\n",
    "ascending_colors #Be mindful of upper and lower cses in lexicographical order"
   ]
  },
  {
   "cell_type": "code",
   "execution_count": 96,
   "metadata": {},
   "outputs": [
    {
     "output_type": "execute_result",
     "data": {
      "text/plain": [
       "['Bacon', 'Cookies', 'Grapes', 'apples', 'pizza', 'steak']"
      ]
     },
     "metadata": {},
     "execution_count": 96
    }
   ],
   "source": [
    "# Self check on lexicographical ordering\n",
    "\n",
    "food = [\"Cookies\", \"pizza\", \"Grapes\", \"apples\", \"steak\", \"Bacon\"]\n",
    "\n",
    "food.sort()\n",
    "\n",
    "food"
   ]
  },
  {
   "cell_type": "code",
   "execution_count": 97,
   "metadata": {},
   "outputs": [
    {
     "output_type": "execute_result",
     "data": {
      "text/plain": [
       "2"
      ]
     },
     "metadata": {},
     "execution_count": 97
    }
   ],
   "source": [
    "# Methods or functions for determine index position of values\n",
    "\n",
    "numbers = [89, 85, 62, 100, 94, 29, 11, 2]\n",
    "\n",
    "# determining the index of the number list\n",
    "\n",
    "numbers.index(62)"
   ]
  },
  {
   "cell_type": "code",
   "execution_count": 98,
   "metadata": {},
   "outputs": [
    {
     "output_type": "execute_result",
     "data": {
      "text/plain": [
       "[89, 85, 62, 100, 94, 29, 11, 2, 89, 85, 62, 100, 94, 29, 11, 2]"
      ]
     },
     "metadata": {},
     "execution_count": 98
    }
   ],
   "source": [
    "# Lets elongate the list\n",
    "\n",
    "numbers *= 2 \n",
    "\n",
    "numbers"
   ]
  },
  {
   "cell_type": "code",
   "execution_count": 99,
   "metadata": {},
   "outputs": [
    {
     "output_type": "execute_result",
     "data": {
      "text/plain": [
       "14"
      ]
     },
     "metadata": {},
     "execution_count": 99
    }
   ],
   "source": [
    "# Lets determine the index of 94 starting from the 8th element \n",
    "\n",
    "numbers.index(11, 8)"
   ]
  },
  {
   "cell_type": "code",
   "execution_count": 100,
   "metadata": {},
   "outputs": [
    {
     "output_type": "execute_result",
     "data": {
      "text/plain": [
       "False"
      ]
     },
     "metadata": {},
     "execution_count": 100
    }
   ],
   "source": [
    "# Does numbers contain 1000?\n",
    "\n",
    "1000 in numbers"
   ]
  },
  {
   "cell_type": "code",
   "execution_count": 102,
   "metadata": {},
   "outputs": [
    {
     "output_type": "execute_result",
     "data": {
      "text/plain": [
       "True"
      ]
     },
     "metadata": {},
     "execution_count": 102
    }
   ],
   "source": [
    "# Does numbers contain 1000?\n",
    "\n",
    "1000 not in numbers"
   ]
  },
  {
   "cell_type": "code",
   "execution_count": 101,
   "metadata": {},
   "outputs": [
    {
     "output_type": "execute_result",
     "data": {
      "text/plain": [
       "True"
      ]
     },
     "metadata": {},
     "execution_count": 101
    }
   ],
   "source": [
    "# Does numbers contain 11?\n",
    "\n",
    "11 in numbers"
   ]
  },
  {
   "cell_type": "code",
   "execution_count": 103,
   "metadata": {},
   "outputs": [
    {
     "output_type": "stream",
     "name": "stdout",
     "text": [
      "1000 not found\n"
     ]
    }
   ],
   "source": [
    "key = 1000\n",
    "\n",
    "if key in numbers:\n",
    "    print(f\"found {key} at index {numbers.index(key)}\")\n",
    "\n",
    "else:\n",
    "    print(f\"{key} not found\")\n",
    "\n"
   ]
  },
  {
   "cell_type": "code",
   "execution_count": 104,
   "metadata": {},
   "outputs": [
    {
     "output_type": "execute_result",
     "data": {
      "text/plain": [
       "['red', 'orange', 'yellow', 'green']"
      ]
     },
     "metadata": {},
     "execution_count": 104
    }
   ],
   "source": [
    "# In PYTHON, ZERO is FALSE and NON-ZERO is TRUE\n",
    "\n",
    "\n",
    "# Using the insert method\n",
    "\n",
    "color_names = [\"orange\", \"yellow\", \"green\"]\n",
    "\n",
    "color_names.insert(0, \"red\")\n",
    "\n",
    "color_names"
   ]
  },
  {
   "cell_type": "code",
   "execution_count": 107,
   "metadata": {},
   "outputs": [
    {
     "output_type": "execute_result",
     "data": {
      "text/plain": [
       "['red', 'orange', 'yellow', 'green', 'blue', 'blue']"
      ]
     },
     "metadata": {},
     "execution_count": 107
    }
   ],
   "source": [
    "# Using the append method\n",
    "\n",
    "color_names.append(\"blue\")\n",
    "\n",
    "color_names # insert and append add only one element at a time to the list"
   ]
  },
  {
   "cell_type": "code",
   "execution_count": 109,
   "metadata": {},
   "outputs": [
    {
     "output_type": "execute_result",
     "data": {
      "text/plain": [
       "['red', 'orange', 'yellow', 'green', 'blue', 'blue', 'indigo', 'voilet']"
      ]
     },
     "metadata": {},
     "execution_count": 109
    }
   ],
   "source": [
    "# To insert more than one element i.e. a list into an existing list\n",
    "\n",
    "color_names.extend([\"indigo\", \"voilet\"])\n",
    "\n",
    "color_names"
   ]
  },
  {
   "cell_type": "code",
   "execution_count": 110,
   "metadata": {},
   "outputs": [
    {
     "output_type": "execute_result",
     "data": {
      "text/plain": [
       "['k', 's', 'd', 'j']"
      ]
     },
     "metadata": {},
     "execution_count": 110
    }
   ],
   "source": [
    "# Investigating the sample list function\n",
    "\n",
    "sample_list = []\n",
    "\n",
    "s = \"ksdj\"\n",
    "\n",
    "sample_list.extend(s)\n",
    "\n",
    "sample_list"
   ]
  },
  {
   "cell_type": "code",
   "execution_count": 112,
   "metadata": {},
   "outputs": [
    {
     "output_type": "execute_result",
     "data": {
      "text/plain": [
       "['ksdj']"
      ]
     },
     "metadata": {},
     "execution_count": 112
    }
   ],
   "source": [
    "# Investigating the sample list function\n",
    "\n",
    "sample_list = []\n",
    "\n",
    "s = [\"ksdj\"]\n",
    "\n",
    "sample_list.extend(s)\n",
    "\n",
    "sample_list"
   ]
  },
  {
   "cell_type": "code",
   "execution_count": 113,
   "metadata": {},
   "outputs": [
    {
     "output_type": "execute_result",
     "data": {
      "text/plain": [
       "['ksdj', 1, 2, 3]"
      ]
     },
     "metadata": {},
     "execution_count": 113
    }
   ],
   "source": [
    "# Passing a tuple into the extend function\n",
    "\n",
    "t = (1, 2, 3)\n",
    "\n",
    "sample_list.extend(t)\n",
    "\n",
    "sample_list         # extend method requires just one argument"
   ]
  },
  {
   "cell_type": "code",
   "execution_count": 114,
   "metadata": {},
   "outputs": [
    {
     "output_type": "execute_result",
     "data": {
      "text/plain": [
       "['ksdj', 1, 2, 3, 10, 20, 30]"
      ]
     },
     "metadata": {},
     "execution_count": 114
    }
   ],
   "source": [
    "# Passing another tuple\n",
    "\n",
    "sample_list.extend((10, 20, 30))\n",
    "\n",
    "sample_list"
   ]
  },
  {
   "cell_type": "code",
   "execution_count": 115,
   "metadata": {},
   "outputs": [
    {
     "output_type": "execute_result",
     "data": {
      "text/plain": [
       "['red', 'orange', 'yellow', 'green', 'blue', 'indigo', 'voilet']"
      ]
     },
     "metadata": {},
     "execution_count": 115
    }
   ],
   "source": [
    "# Removing a string from\n",
    "\n",
    "color_names.remove(\"blue\")\n",
    "\n",
    "color_names"
   ]
  },
  {
   "cell_type": "code",
   "execution_count": 116,
   "metadata": {},
   "outputs": [
    {
     "output_type": "execute_result",
     "data": {
      "text/plain": [
       "[]"
      ]
     },
     "metadata": {},
     "execution_count": 116
    }
   ],
   "source": [
    "# Deleting all elements of a list\n",
    "\n",
    "color_names[ : ] = []\n",
    "\n",
    "color_names"
   ]
  },
  {
   "cell_type": "code",
   "execution_count": 118,
   "metadata": {},
   "outputs": [
    {
     "output_type": "stream",
     "name": "stdout",
     "text": [
      "1 appears 1 times in responses\n2 appears 3 times in responses\n3 appears 1 times in responses\n4 appears 0 times in responses\n5 appears 2 times in responses\n6 appears 2 times in responses\n7 appears 1 times in responses\n8 appears 1 times in responses\n9 appears 2 times in responses\n"
     ]
    }
   ],
   "source": [
    "# Counting up elements in a list\n",
    "\n",
    "responses = [2, 5, 6 , 9, 2, 8, 5, 6, 3, 7, 9, 2, 1]\n",
    "\n",
    "for index in range(1, 10):\n",
    "    print(f\"{index} appears {responses.count(index)} times in responses\")\n",
    "\n"
   ]
  },
  {
   "cell_type": "code",
   "execution_count": 120,
   "metadata": {},
   "outputs": [
    {
     "output_type": "execute_result",
     "data": {
      "text/plain": [
       "['green', 'yellow', 'orange']"
      ]
     },
     "metadata": {},
     "execution_count": 120
    }
   ],
   "source": [
    "# Reversing a list element\n",
    "\n",
    "color_names = [\"orange\", \"yellow\", \"green\"]\n",
    "\n",
    "color_names.reverse()\n",
    "\n",
    "color_names"
   ]
  },
  {
   "cell_type": "code",
   "execution_count": 122,
   "metadata": {},
   "outputs": [
    {
     "output_type": "execute_result",
     "data": {
      "text/plain": [
       "['green', 'yellow', 'orange']"
      ]
     },
     "metadata": {},
     "execution_count": 122
    }
   ],
   "source": [
    "# Shallow copy\n",
    "\n",
    "copied_color_names = color_names.copy()\n",
    "\n",
    "copied_color_names"
   ]
  },
  {
   "cell_type": "code",
   "execution_count": 123,
   "metadata": {},
   "outputs": [
    {
     "output_type": "execute_result",
     "data": {
      "text/plain": [
       "6"
      ]
     },
     "metadata": {},
     "execution_count": 123
    }
   ],
   "source": [
    "# Self Check\n",
    "\n",
    "rainbow = [\"red\", \"orange\", \"yellow\", \"green\", \"blue\", \"indigo\", \"voilet\"]\n",
    "\n",
    "# Determining the index of voilet\n",
    "\n",
    "rainbow.index(\"voilet\")"
   ]
  },
  {
   "cell_type": "code",
   "execution_count": 124,
   "metadata": {},
   "outputs": [
    {
     "output_type": "execute_result",
     "data": {
      "text/plain": [
       "['voilet', 'red', 'orange', 'yellow', 'green', 'blue', 'indigo', 'voilet']"
      ]
     },
     "metadata": {},
     "execution_count": 124
    }
   ],
   "source": [
    "# Inserting voilet at index 0\n",
    "\n",
    "rainbow.insert(0, \"voilet\")\n",
    "\n",
    "rainbow"
   ]
  },
  {
   "cell_type": "code",
   "execution_count": 125,
   "metadata": {},
   "outputs": [
    {
     "output_type": "execute_result",
     "data": {
      "text/plain": [
       "['voilet', 'red', 'orange', 'yellow', 'green', 'blue', 'indigo']"
      ]
     },
     "metadata": {},
     "execution_count": 125
    }
   ],
   "source": [
    "# Deleting voilet at -1\n",
    "\n",
    "del(rainbow[7])\n",
    "\n",
    "rainbow"
   ]
  },
  {
   "cell_type": "code",
   "execution_count": 126,
   "metadata": {},
   "outputs": [
    {
     "output_type": "execute_result",
     "data": {
      "text/plain": [
       "['voilet', 'red', 'orange', 'yellow', 'green', 'blue', 'indigo', 'yellow']"
      ]
     },
     "metadata": {},
     "execution_count": 126
    }
   ],
   "source": [
    "# Appending yellow to the end of the list\n",
    "\n",
    "rainbow.append(\"yellow\")\n",
    "\n",
    "rainbow"
   ]
  },
  {
   "cell_type": "code",
   "execution_count": 129,
   "metadata": {},
   "outputs": [
    {
     "output_type": "execute_result",
     "data": {
      "text/plain": [
       "['yellow', 'indigo', 'blue', 'green', 'yellow', 'orange', 'red', 'voilet']"
      ]
     },
     "metadata": {},
     "execution_count": 129
    }
   ],
   "source": [
    "# Reversing elements in the list\n",
    "\n",
    "rainbow.reverse()\n",
    "\n",
    "rainbow"
   ]
  },
  {
   "cell_type": "code",
   "execution_count": 130,
   "metadata": {},
   "outputs": [
    {
     "output_type": "execute_result",
     "data": {
      "text/plain": [
       "5"
      ]
     },
     "metadata": {},
     "execution_count": 130
    }
   ],
   "source": [
    "# Deleting the orange element\n",
    "\n",
    "# Lets see the index of orange\n",
    "\n",
    "rainbow.index(\"orange\")"
   ]
  },
  {
   "cell_type": "code",
   "execution_count": 131,
   "metadata": {},
   "outputs": [
    {
     "output_type": "execute_result",
     "data": {
      "text/plain": [
       "['yellow', 'indigo', 'blue', 'green', 'yellow', 'red', 'voilet']"
      ]
     },
     "metadata": {},
     "execution_count": 131
    }
   ],
   "source": [
    "# Deleting the \"orange\" element in the list\n",
    "\n",
    "del(rainbow[5])\n",
    "\n",
    "rainbow"
   ]
  },
  {
   "cell_type": "code",
   "execution_count": 134,
   "metadata": {},
   "outputs": [
    {
     "output_type": "execute_result",
     "data": {
      "text/plain": [
       "['yellow', 'indigo', 'blue', 'green', 'yellow']"
      ]
     },
     "metadata": {},
     "execution_count": 134
    }
   ],
   "source": [
    "# Deleting more than one element\n",
    "\n",
    "del(rainbow[5:7])\n",
    "\n",
    "rainbow"
   ]
  },
  {
   "cell_type": "code",
   "execution_count": 143,
   "metadata": {},
   "outputs": [
    {
     "output_type": "execute_result",
     "data": {
      "text/plain": [
       "['indigo', 'blue', 'green', 'yellow']"
      ]
     },
     "metadata": {},
     "execution_count": 143
    }
   ],
   "source": [
    "# Deleting a group of colors\n",
    "\n",
    "rainbow.remove(\"yellow\")\n",
    "\n",
    "rainbow"
   ]
  },
  {
   "cell_type": "code",
   "execution_count": 141,
   "metadata": {},
   "outputs": [
    {
     "output_type": "execute_result",
     "data": {
      "text/plain": [
       "['yellow', 'indigo', 'blue', 'green', 'yellow']"
      ]
     },
     "metadata": {},
     "execution_count": 141
    }
   ],
   "source": [
    "rainbow"
   ]
  },
  {
   "cell_type": "code",
   "execution_count": 144,
   "metadata": {},
   "outputs": [
    {
     "output_type": "execute_result",
     "data": {
      "text/plain": [
       "['red']"
      ]
     },
     "metadata": {},
     "execution_count": 144
    }
   ],
   "source": [
    "# A stack is a last in first out data structure\n",
    "\n",
    "stack = []\n",
    "\n",
    "stack.append(\"red\")\n",
    "\n",
    "stack"
   ]
  },
  {
   "cell_type": "code",
   "execution_count": 146,
   "metadata": {},
   "outputs": [
    {
     "output_type": "execute_result",
     "data": {
      "text/plain": [
       "['red', 'green', 'green']"
      ]
     },
     "metadata": {},
     "execution_count": 146
    }
   ],
   "source": [
    "stack.append(\"green\")\n",
    "\n",
    "stack"
   ]
  },
  {
   "cell_type": "code",
   "execution_count": 148,
   "metadata": {},
   "outputs": [
    {
     "output_type": "execute_result",
     "data": {
      "text/plain": [
       "'green'"
      ]
     },
     "metadata": {},
     "execution_count": 148
    }
   ],
   "source": [
    "stack.pop()"
   ]
  },
  {
   "cell_type": "code",
   "execution_count": 149,
   "metadata": {},
   "outputs": [
    {
     "output_type": "execute_result",
     "data": {
      "text/plain": [
       "['red', 'green']"
      ]
     },
     "metadata": {},
     "execution_count": 149
    }
   ],
   "source": [
    "stack"
   ]
  },
  {
   "cell_type": "code",
   "execution_count": 150,
   "metadata": {},
   "outputs": [
    {
     "output_type": "execute_result",
     "data": {
      "text/plain": [
       "[1, 2, 3, 4, 5]"
      ]
     },
     "metadata": {},
     "execution_count": 150
    }
   ],
   "source": [
    "# List comprehensions\n",
    "\n",
    "list_1 = []\n",
    "\n",
    "for item in range(1, 6):\n",
    "    list_1.append(item)\n",
    "\n",
    "list_1"
   ]
  },
  {
   "cell_type": "code",
   "execution_count": 151,
   "metadata": {},
   "outputs": [
    {
     "output_type": "execute_result",
     "data": {
      "text/plain": [
       "[1, 2, 3, 4, 5]"
      ]
     },
     "metadata": {},
     "execution_count": 151
    }
   ],
   "source": [
    "# List comprehensions\n",
    "\n",
    "list_2 = [item for item in range(1, 6)]\n",
    "\n",
    "list_2"
   ]
  },
  {
   "cell_type": "code",
   "execution_count": 152,
   "metadata": {},
   "outputs": [
    {
     "output_type": "execute_result",
     "data": {
      "text/plain": [
       "[1, 8, 27, 64, 125]"
      ]
     },
     "metadata": {},
     "execution_count": 152
    }
   ],
   "source": [
    "# List comprehensions\n",
    "\n",
    "list_3 = [item ** 3 for item in range(1, 6)]\n",
    "\n",
    "list_3"
   ]
  },
  {
   "cell_type": "code",
   "execution_count": 153,
   "metadata": {},
   "outputs": [
    {
     "output_type": "execute_result",
     "data": {
      "text/plain": [
       "[2, 4, 6, 8, 10]"
      ]
     },
     "metadata": {},
     "execution_count": 153
    }
   ],
   "source": [
    "# list comprehension 4\n",
    "\n",
    "list_4 = [ item for item in range(1, 11) if item % 2 == 0 ]\n",
    "\n",
    "list_4"
   ]
  },
  {
   "cell_type": "code",
   "execution_count": 154,
   "metadata": {},
   "outputs": [
    {
     "output_type": "execute_result",
     "data": {
      "text/plain": [
       "['RED', 'BLUE', 'GREEN', 'YELLOW']"
      ]
     },
     "metadata": {},
     "execution_count": 154
    }
   ],
   "source": [
    "colors = [ \"red\", \"blue\", \"green\", \"yellow\"]\n",
    "\n",
    "colors_2 = [item.upper() for item in colors]\n",
    "\n",
    "colors_2"
   ]
  },
  {
   "cell_type": "code",
   "execution_count": 155,
   "metadata": {},
   "outputs": [
    {
     "output_type": "execute_result",
     "data": {
      "text/plain": [
       "[(1, 1), (2, 8), (3, 27), (4, 64), (5, 125)]"
      ]
     },
     "metadata": {},
     "execution_count": 155
    }
   ],
   "source": [
    "numbers = tuple(range(1, 6))\n",
    "\n",
    "number_2 = [ (item, item ** 3) for item in numbers ]\n",
    "\n",
    "number_2"
   ]
  },
  {
   "cell_type": "code",
   "execution_count": 157,
   "metadata": {},
   "outputs": [
    {
     "output_type": "execute_result",
     "data": {
      "text/plain": [
       "[3, 6, 9, 12, 15, 18, 21, 24, 27]"
      ]
     },
     "metadata": {},
     "execution_count": 157
    }
   ],
   "source": [
    "multiples = [ item for item in range(1, 30) if item % 3 == 0 ]\n",
    "\n",
    "multiples"
   ]
  },
  {
   "cell_type": "code",
   "execution_count": 159,
   "metadata": {},
   "outputs": [
    {
     "output_type": "execute_result",
     "data": {
      "text/plain": [
       "[5, 29, 9]"
      ]
     },
     "metadata": {},
     "execution_count": 159
    }
   ],
   "source": [
    "# Filter, Map and Reduce\n",
    "\n",
    "\n",
    "numbers = [10, 4, 5, 8, 29, 2, 9, 4]\n",
    "\n",
    "# Lets define a flitering function \n",
    "\n",
    "def is_odd(x):\n",
    "    \"\"\" This functionreturns True if x is odd \"\"\"\n",
    "    return x % 2 != 0\n",
    "\n",
    "list(filter(is_odd, numbers))"
   ]
  },
  {
   "cell_type": "code",
   "execution_count": 160,
   "metadata": {},
   "outputs": [
    {
     "output_type": "execute_result",
     "data": {
      "text/plain": [
       "[5, 29, 9]"
      ]
     },
     "metadata": {},
     "execution_count": 160
    }
   ],
   "source": [
    "list_2 = [ item for item in numbers if is_odd(item)]\n",
    "\n",
    "list_2"
   ]
  },
  {
   "cell_type": "code",
   "execution_count": 161,
   "metadata": {},
   "outputs": [
    {
     "output_type": "execute_result",
     "data": {
      "text/plain": [
       "[5, 29, 9]"
      ]
     },
     "metadata": {},
     "execution_count": 161
    }
   ],
   "source": [
    "# For simple functions, you can define the function inline \n",
    "\n",
    "list( filter(lambda x: x % 2 != 0, numbers) )"
   ]
  },
  {
   "cell_type": "code",
   "execution_count": 162,
   "metadata": {},
   "outputs": [
    {
     "output_type": "execute_result",
     "data": {
      "text/plain": [
       "[100, 16, 25, 64, 841, 4, 81, 16]"
      ]
     },
     "metadata": {},
     "execution_count": 162
    }
   ],
   "source": [
    "# Using a map function\n",
    "\n",
    "list(map(lambda x: x ** 2, numbers))"
   ]
  },
  {
   "cell_type": "code",
   "execution_count": 163,
   "metadata": {},
   "outputs": [
    {
     "output_type": "execute_result",
     "data": {
      "text/plain": [
       "[1000, 64, 125, 512, 24389, 8, 729, 64]"
      ]
     },
     "metadata": {},
     "execution_count": 163
    }
   ],
   "source": [
    "list_3 = [ item ** 3 for item in numbers]\n",
    "\n",
    "list_3"
   ]
  },
  {
   "cell_type": "code",
   "execution_count": 167,
   "metadata": {},
   "outputs": [
    {
     "output_type": "execute_result",
     "data": {
      "text/plain": [
       "[25, 841, 81]"
      ]
     },
     "metadata": {},
     "execution_count": 167
    }
   ],
   "source": [
    "list( map(lambda x: x ** 2, filter(lambda x: x % 2 != 0, numbers)))"
   ]
  },
  {
   "cell_type": "code",
   "execution_count": 169,
   "metadata": {},
   "outputs": [
    {
     "output_type": "execute_result",
     "data": {
      "text/plain": [
       "[100, 16, 64, 4, 16]"
      ]
     },
     "metadata": {},
     "execution_count": 169
    }
   ],
   "source": [
    "# Performing code block 167 using list comprehension\n",
    "\n",
    "[ item ** 2 for item in numbers if item % 2 == 0]"
   ]
  },
  {
   "cell_type": "code",
   "execution_count": 171,
   "metadata": {},
   "outputs": [
    {
     "output_type": "execute_result",
     "data": {
      "text/plain": [
       "[2, 4, 6, 8, 10, 12, 14]"
      ]
     },
     "metadata": {},
     "execution_count": 171
    }
   ],
   "source": [
    "numbers = list(range(1,16))\n",
    "\n",
    "list(filter(lambda x: x % 2 == 0, numbers))"
   ]
  },
  {
   "cell_type": "code",
   "execution_count": 172,
   "metadata": {},
   "outputs": [
    {
     "output_type": "execute_result",
     "data": {
      "text/plain": [
       "[1, 4, 9, 16, 25, 36, 49, 64, 81, 100, 121, 144, 169, 196, 225]"
      ]
     },
     "metadata": {},
     "execution_count": 172
    }
   ],
   "source": [
    "list(map(lambda x: x ** 2, numbers))"
   ]
  },
  {
   "cell_type": "code",
   "execution_count": 173,
   "metadata": {},
   "outputs": [
    {
     "output_type": "execute_result",
     "data": {
      "text/plain": [
       "[4, 16, 36, 64, 100, 144, 196]"
      ]
     },
     "metadata": {},
     "execution_count": 173
    }
   ],
   "source": [
    "list_4 = list(map(lambda x: x ** 2, filter(lambda x: x % 2 == 0, numbers)))\n",
    "\n",
    "list_4"
   ]
  },
  {
   "cell_type": "code",
   "execution_count": 175,
   "metadata": {},
   "outputs": [
    {
     "output_type": "execute_result",
     "data": {
      "text/plain": [
       "((41, 5.0), (32, 0.0), (212, 100.0))"
      ]
     },
     "metadata": {},
     "execution_count": 175
    }
   ],
   "source": [
    "# Fahrenheit to Celsius\n",
    "\n",
    "Fahrenheit = [41, 32, 212]\n",
    "\n",
    "tuple(map(lambda x: (x, (x - 32) * (5/9)), Fahrenheit))"
   ]
  },
  {
   "cell_type": "code",
   "execution_count": 176,
   "metadata": {},
   "outputs": [
    {
     "output_type": "execute_result",
     "data": {
      "text/plain": [
       "True"
      ]
     },
     "metadata": {},
     "execution_count": 176
    }
   ],
   "source": [
    "# Min and Max functions\n",
    "\n",
    "# Remember that upper-case letters are ordered before lower case letters hence,\n",
    "\n",
    "\"Red\" < \"orange\"\n",
    "\n",
    "# You can check the ordering by using the ord() function"
   ]
  },
  {
   "cell_type": "code",
   "execution_count": 177,
   "metadata": {},
   "outputs": [
    {
     "output_type": "execute_result",
     "data": {
      "text/plain": [
       "'green'"
      ]
     },
     "metadata": {},
     "execution_count": 177
    }
   ],
   "source": [
    "colors = [\"Red\", \"green\", \"0range\", \"indigo\"]\n",
    "\n",
    "min(colors, key = lambda s: s.lower())"
   ]
  },
  {
   "cell_type": "code",
   "execution_count": 178,
   "metadata": {},
   "outputs": [
    {
     "output_type": "execute_result",
     "data": {
      "text/plain": [
       "'red'"
      ]
     },
     "metadata": {},
     "execution_count": 178
    }
   ],
   "source": [
    "max(colors, key= lambda s: s.lower())"
   ]
  },
  {
   "cell_type": "code",
   "execution_count": 179,
   "metadata": {},
   "outputs": [
    {
     "output_type": "execute_result",
     "data": {
      "text/plain": [
       "[16, 81, 4, 841, 64, 25, 16, 100]"
      ]
     },
     "metadata": {},
     "execution_count": 179
    }
   ],
   "source": [
    "# Producing an iterator with the reverse function\n",
    "\n",
    "numbers = [10, 4, 5, 8, 29, 2, 9, 4]\n",
    "\n",
    "reversed_numbers = [ item ** 2 for item in reversed(numbers) ]\n",
    "\n",
    "reversed_numbers"
   ]
  },
  {
   "cell_type": "code",
   "execution_count": 181,
   "metadata": {},
   "outputs": [
    {
     "output_type": "stream",
     "name": "stdout",
     "text": [
      "Name = Marvin; GPA = 3.5\nName = Maame; GPA = 4.0\nName = George; GPA = 3.2\n"
     ]
    }
   ],
   "source": [
    "# Using the zip function/generator\n",
    "\n",
    "names = [\"Marvin\", \"Maame\", \"George\"]\n",
    "\n",
    "gpa = [3.5, 4.0, 3.2]\n",
    "\n",
    "\n",
    "for names, gpa in zip(names, gpa):\n",
    "    print(f\"Name = {names}; GPA = {gpa}\")"
   ]
  },
  {
   "cell_type": "code",
   "execution_count": 182,
   "metadata": {},
   "outputs": [
    {
     "output_type": "stream",
     "name": "stdout",
     "text": [
      "sum of the two corresponding  indeices = 19\nsum of the two corresponding  indeices = 22\nsum of the two corresponding  indeices = 34\nsum of the two corresponding  indeices = 45\nsum of the two corresponding  indeices = 15\nsum of the two corresponding  indeices = 104\n"
     ]
    }
   ],
   "source": [
    "numbers_1 = [10, 20, 30, 40, 9, 4, 2, 7]\n",
    "\n",
    "\n",
    "numbers_2 = [9, 2, 4, 5, 6, 100]\n",
    "\n",
    "for numbers_1, numbers_2 in zip(numbers_1, numbers_2):\n",
    "    print(f\"sum of the two corresponding  indeices = {numbers_1 + numbers_2}\")"
   ]
  },
  {
   "cell_type": "code",
   "execution_count": 183,
   "metadata": {},
   "outputs": [
    {
     "output_type": "stream",
     "name": "stdout",
     "text": [
      "90 78 45 32 \n98 43 65 23 \n67 45 43 93 \n"
     ]
    }
   ],
   "source": [
    "# Two Dimensional Lists \n",
    "\n",
    "# Every lists within the list is a row\n",
    "\n",
    "a = [[90,78,45,32], [98,43,65,23],[67,45,43,93]]\n",
    "\n",
    "# a has three rows and 4 columns\n",
    "\n",
    "\n",
    "# Nested for loop\n",
    "\n",
    "for row in a:\n",
    "    for item in row:\n",
    "        print(item, end=\" \")\n",
    "    print()"
   ]
  },
  {
   "cell_type": "code",
   "execution_count": null,
   "metadata": {},
   "outputs": [],
   "source": []
  }
 ]
}