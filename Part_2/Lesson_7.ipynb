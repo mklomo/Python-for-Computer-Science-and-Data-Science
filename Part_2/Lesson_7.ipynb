{
 "metadata": {
  "language_info": {
   "codemirror_mode": {
    "name": "ipython",
    "version": 3
   },
   "file_extension": ".py",
   "mimetype": "text/x-python",
   "name": "python",
   "nbconvert_exporter": "python",
   "pygments_lexer": "ipython3",
   "version": "3.9.0-final"
  },
  "orig_nbformat": 2,
  "kernelspec": {
   "name": "python3",
   "display_name": "Python 3.9.0 64-bit",
   "metadata": {
    "interpreter": {
     "hash": "aee8b7b246df8f9039afb4144a1f6fd8d2ca17a180786b69acc140d282b71a49"
    }
   }
  }
 },
 "nbformat": 4,
 "nbformat_minor": 2,
 "cells": [
  {
   "cell_type": "code",
   "execution_count": 1,
   "metadata": {},
   "outputs": [],
   "source": [
    "# Array Oriented Programming\n",
    "\n",
    "import numpy as np\n",
    "\n",
    "numbers = np.array([2, 3, 5, 7, 11])"
   ]
  },
  {
   "cell_type": "code",
   "execution_count": 2,
   "metadata": {},
   "outputs": [
    {
     "output_type": "execute_result",
     "data": {
      "text/plain": [
       "numpy.ndarray"
      ]
     },
     "metadata": {},
     "execution_count": 2
    }
   ],
   "source": [
    "type(numbers)"
   ]
  },
  {
   "cell_type": "code",
   "execution_count": 3,
   "metadata": {},
   "outputs": [
    {
     "output_type": "execute_result",
     "data": {
      "text/plain": [
       "array([ 2,  3,  5,  7, 11])"
      ]
     },
     "metadata": {},
     "execution_count": 3
    }
   ],
   "source": [
    "numbers"
   ]
  },
  {
   "cell_type": "code",
   "execution_count": 4,
   "metadata": {},
   "outputs": [
    {
     "output_type": "execute_result",
     "data": {
      "text/plain": [
       "array([[ 1,  2,  3],\n",
       "       [10, 20, 30]])"
      ]
     },
     "metadata": {},
     "execution_count": 4
    }
   ],
   "source": [
    "np.array([[1, 2, 3], [10, 20, 30]])"
   ]
  },
  {
   "cell_type": "code",
   "execution_count": 6,
   "metadata": {},
   "outputs": [
    {
     "output_type": "execute_result",
     "data": {
      "text/plain": [
       "array([ 2,  4,  6,  8, 10, 12, 14, 16, 18, 20])"
      ]
     },
     "metadata": {},
     "execution_count": 6
    }
   ],
   "source": [
    "# Self Check\n",
    "\n",
    "even = np.array([number for number in range(1, 21) if number % 2 == 0])\n",
    "\n",
    "even"
   ]
  },
  {
   "cell_type": "code",
   "execution_count": 10,
   "metadata": {},
   "outputs": [
    {
     "output_type": "execute_result",
     "data": {
      "text/plain": [
       "array([[ 2,  4,  6,  8, 10],\n",
       "       [ 1,  3,  5,  7,  9]])"
      ]
     },
     "metadata": {},
     "execution_count": 10
    }
   ],
   "source": [
    "# Self Check \n",
    "\n",
    "numbers = np.array([[number for number in range(1,11) if number % 2 == 0], [number for number in range(1,10) if number % 2 != 0]])\n",
    "\n",
    "numbers"
   ]
  },
  {
   "cell_type": "code",
   "execution_count": 11,
   "metadata": {},
   "outputs": [
    {
     "output_type": "execute_result",
     "data": {
      "text/plain": [
       "array([0. , 0.1, 0.2, 0.3, 0.4])"
      ]
     },
     "metadata": {},
     "execution_count": 11
    }
   ],
   "source": [
    "import numpy as np\n",
    "\n",
    "floats = np.array([0.0, 0.1, 0.2, 0.3, 0.4])\n",
    "\n",
    "floats"
   ]
  },
  {
   "cell_type": "code",
   "execution_count": 13,
   "metadata": {},
   "outputs": [
    {
     "output_type": "execute_result",
     "data": {
      "text/plain": [
       "dtype('int64')"
      ]
     },
     "metadata": {},
     "execution_count": 13
    }
   ],
   "source": [
    "numbers.dtype"
   ]
  },
  {
   "cell_type": "code",
   "execution_count": 14,
   "metadata": {},
   "outputs": [
    {
     "output_type": "execute_result",
     "data": {
      "text/plain": [
       "dtype('float64')"
      ]
     },
     "metadata": {},
     "execution_count": 14
    }
   ],
   "source": [
    "floats.dtype"
   ]
  },
  {
   "cell_type": "code",
   "execution_count": 15,
   "metadata": {},
   "outputs": [
    {
     "output_type": "execute_result",
     "data": {
      "text/plain": [
       "2"
      ]
     },
     "metadata": {},
     "execution_count": 15
    }
   ],
   "source": [
    "# Dimensions in numpy\n",
    "\n",
    "numbers.ndim       # This returns the number of columns "
   ]
  },
  {
   "cell_type": "code",
   "execution_count": 16,
   "metadata": {},
   "outputs": [
    {
     "output_type": "execute_result",
     "data": {
      "text/plain": [
       "(2, 5)"
      ]
     },
     "metadata": {},
     "execution_count": 16
    }
   ],
   "source": [
    "#Shapes in np\n",
    "\n",
    "numbers.shape. # This returns the number of rows and columns"
   ]
  },
  {
   "cell_type": "code",
   "execution_count": 17,
   "metadata": {},
   "outputs": [
    {
     "output_type": "execute_result",
     "data": {
      "text/plain": [
       "(5,)"
      ]
     },
     "metadata": {},
     "execution_count": 17
    }
   ],
   "source": [
    "floats.shape    #This returns only the row"
   ]
  },
  {
   "cell_type": "code",
   "execution_count": 18,
   "metadata": {},
   "outputs": [
    {
     "output_type": "execute_result",
     "data": {
      "text/plain": [
       "10"
      ]
     },
     "metadata": {},
     "execution_count": 18
    }
   ],
   "source": [
    "# Size of the array\n",
    "\n",
    "numbers.size"
   ]
  },
  {
   "cell_type": "code",
   "execution_count": 19,
   "metadata": {},
   "outputs": [
    {
     "output_type": "execute_result",
     "data": {
      "text/plain": [
       "5"
      ]
     },
     "metadata": {},
     "execution_count": 19
    }
   ],
   "source": [
    "floats.size"
   ]
  },
  {
   "cell_type": "code",
   "execution_count": 21,
   "metadata": {},
   "outputs": [
    {
     "output_type": "stream",
     "name": "stdout",
     "text": [
      "2 4 6 8 10 \n1 3 5 7 9 \n"
     ]
    }
   ],
   "source": [
    "for row in numbers:\n",
    "    for column in row:\n",
    "        print(column, end=\" \")\n",
    "    print()"
   ]
  },
  {
   "cell_type": "code",
   "execution_count": 24,
   "metadata": {},
   "outputs": [
    {
     "output_type": "execute_result",
     "data": {
      "text/plain": [
       "[2, 4, 6, 8, 10, 1, 3, 5, 7, 9]"
      ]
     },
     "metadata": {},
     "execution_count": 24
    }
   ],
   "source": [
    "# Flattening the array\n",
    "\n",
    "k = []\n",
    "\n",
    "for i in numbers.flat:\n",
    "    k.append(i)\n",
    "\n",
    "k"
   ]
  },
  {
   "cell_type": "code",
   "execution_count": 23,
   "metadata": {},
   "outputs": [
    {
     "output_type": "execute_result",
     "data": {
      "text/plain": [
       "array([[ 2,  4,  6,  8, 10],\n",
       "       [ 1,  3,  5,  7,  9]])"
      ]
     },
     "metadata": {},
     "execution_count": 23
    }
   ],
   "source": [
    "numbers"
   ]
  },
  {
   "cell_type": "code",
   "execution_count": 25,
   "metadata": {},
   "outputs": [
    {
     "output_type": "execute_result",
     "data": {
      "text/plain": [
       "array([0., 0., 0., 0., 0., 0., 0., 0., 0., 0.])"
      ]
     },
     "metadata": {},
     "execution_count": 25
    }
   ],
   "source": [
    "# Numpy functions\n",
    "\n",
    "np.zeros(10)"
   ]
  },
  {
   "cell_type": "code",
   "execution_count": 26,
   "metadata": {},
   "outputs": [
    {
     "output_type": "execute_result",
     "data": {
      "text/plain": [
       "array([[1, 1, 1, 1],\n",
       "       [1, 1, 1, 1]])"
      ]
     },
     "metadata": {},
     "execution_count": 26
    }
   ],
   "source": [
    "# Numpy functions\n",
    "\n",
    "np.ones((2,4), dtype= int)"
   ]
  },
  {
   "cell_type": "code",
   "execution_count": 27,
   "metadata": {},
   "outputs": [
    {
     "output_type": "execute_result",
     "data": {
      "text/plain": [
       "array([[7, 7, 7],\n",
       "       [7, 7, 7]])"
      ]
     },
     "metadata": {},
     "execution_count": 27
    }
   ],
   "source": [
    "# Numpy functions\n",
    "\n",
    "np.full((2,3), 7)"
   ]
  },
  {
   "cell_type": "code",
   "execution_count": 28,
   "metadata": {},
   "outputs": [
    {
     "output_type": "execute_result",
     "data": {
      "text/plain": [
       "array([0, 1, 2, 3, 4])"
      ]
     },
     "metadata": {},
     "execution_count": 28
    }
   ],
   "source": [
    "# Turning ranges of values into array objects\n",
    "\n",
    "np.arange(5)"
   ]
  },
  {
   "cell_type": "code",
   "execution_count": 29,
   "metadata": {},
   "outputs": [
    {
     "output_type": "execute_result",
     "data": {
      "text/plain": [
       "array([ 5,  6,  7,  8,  9, 10, 11, 12, 13, 14, 15, 16, 17, 18, 19])"
      ]
     },
     "metadata": {},
     "execution_count": 29
    }
   ],
   "source": [
    "# Turning ranges of values into array objects\n",
    "\n",
    "np.arange(5, 20)"
   ]
  },
  {
   "cell_type": "code",
   "execution_count": 30,
   "metadata": {},
   "outputs": [
    {
     "output_type": "execute_result",
     "data": {
      "text/plain": [
       "array([10,  8,  6,  4,  2])"
      ]
     },
     "metadata": {},
     "execution_count": 30
    }
   ],
   "source": [
    "# Turning ranges of values into array objects\n",
    "\n",
    "np.arange(10, 1, -2)"
   ]
  },
  {
   "cell_type": "code",
   "execution_count": 31,
   "metadata": {},
   "outputs": [
    {
     "output_type": "execute_result",
     "data": {
      "text/plain": [
       "array([0.  , 0.25, 0.5 , 0.75, 1.  ])"
      ]
     },
     "metadata": {},
     "execution_count": 31
    }
   ],
   "source": [
    "# Turning ranges of values into array objects\n",
    "\n",
    "np.linspace(0.0, 1, num= 5)"
   ]
  },
  {
   "cell_type": "code",
   "execution_count": 33,
   "metadata": {},
   "outputs": [
    {
     "output_type": "execute_result",
     "data": {
      "text/plain": [
       "array([[ 1,  2,  3,  4,  5],\n",
       "       [ 6,  7,  8,  9, 10]])"
      ]
     },
     "metadata": {},
     "execution_count": 33
    }
   ],
   "source": [
    "# Reshape a range\n",
    "\n",
    "np.arange(1, 11).reshape(2, 5)"
   ]
  },
  {
   "cell_type": "code",
   "execution_count": 34,
   "metadata": {},
   "outputs": [
    {
     "output_type": "execute_result",
     "data": {
      "text/plain": [
       "array([[     1,      2,      3, ...,  24998,  24999,  25000],\n",
       "       [ 25001,  25002,  25003, ...,  49998,  49999,  50000],\n",
       "       [ 50001,  50002,  50003, ...,  74998,  74999,  75000],\n",
       "       [ 75001,  75002,  75003, ...,  99998,  99999, 100000]])"
      ]
     },
     "metadata": {},
     "execution_count": 34
    }
   ],
   "source": [
    "# Reshape a range\n",
    "\n",
    "np.arange(1, 100001).reshape(4,25000)"
   ]
  },
  {
   "cell_type": "code",
   "execution_count": 35,
   "metadata": {},
   "outputs": [
    {
     "output_type": "execute_result",
     "data": {
      "text/plain": [
       "array([[     1,      2,      3, ...,    998,    999,   1000],\n",
       "       [  1001,   1002,   1003, ...,   1998,   1999,   2000],\n",
       "       [  2001,   2002,   2003, ...,   2998,   2999,   3000],\n",
       "       ...,\n",
       "       [ 97001,  97002,  97003, ...,  97998,  97999,  98000],\n",
       "       [ 98001,  98002,  98003, ...,  98998,  98999,  99000],\n",
       "       [ 99001,  99002,  99003, ...,  99998,  99999, 100000]])"
      ]
     },
     "metadata": {},
     "execution_count": 35
    }
   ],
   "source": [
    "# Reshape a range\n",
    "\n",
    "np.arange(1, 100001).reshape(100,1000)"
   ]
  },
  {
   "cell_type": "code",
   "execution_count": 36,
   "metadata": {},
   "outputs": [
    {
     "output_type": "execute_result",
     "data": {
      "text/plain": [
       "array([[ 2,  4,  6,  8, 10],\n",
       "       [12, 14, 16, 18, 20],\n",
       "       [22, 24, 26, 28, 30],\n",
       "       [32, 34, 36, 38, 40]])"
      ]
     },
     "metadata": {},
     "execution_count": 36
    }
   ],
   "source": [
    "# Self Check\n",
    "\n",
    "np.arange(2, 41, 2).reshape(4,5)"
   ]
  },
  {
   "cell_type": "code",
   "execution_count": 37,
   "metadata": {},
   "outputs": [
    {
     "output_type": "execute_result",
     "data": {
      "text/plain": [
       "array([2, 4, 6, 8])"
      ]
     },
     "metadata": {},
     "execution_count": 37
    }
   ],
   "source": [
    "# Array Operations\n",
    "\n",
    "numbers = np.arange(1, 5)\n",
    "\n",
    "numbers * 2 # Broadcasting"
   ]
  },
  {
   "cell_type": "code",
   "execution_count": 39,
   "metadata": {},
   "outputs": [
    {
     "output_type": "execute_result",
     "data": {
      "text/plain": [
       "array([21, 22, 23, 24])"
      ]
     },
     "metadata": {},
     "execution_count": 39
    }
   ],
   "source": [
    "# Array Operations\n",
    "\n",
    "numbers += 10\n",
    "\n",
    "numbers"
   ]
  },
  {
   "cell_type": "code",
   "execution_count": 42,
   "metadata": {},
   "outputs": [
    {
     "output_type": "execute_result",
     "data": {
      "text/plain": [
       "array([1.1       , 2.56666667, 4.03333333, 5.5       ])"
      ]
     },
     "metadata": {},
     "execution_count": 42
    }
   ],
   "source": [
    "# Array Operations\n",
    "\n",
    "numbers_2 = np.linspace(1.1, 5.5, 4)\n",
    "\n",
    "numbers_2"
   ]
  },
  {
   "cell_type": "code",
   "execution_count": 43,
   "metadata": {},
   "outputs": [
    {
     "output_type": "execute_result",
     "data": {
      "text/plain": [
       "array([22.1       , 24.56666667, 27.03333333, 29.5       ])"
      ]
     },
     "metadata": {},
     "execution_count": 43
    }
   ],
   "source": [
    "# Array Operations\n",
    "\n",
    "numbers + numbers_2"
   ]
  },
  {
   "cell_type": "code",
   "execution_count": 44,
   "metadata": {},
   "outputs": [
    {
     "output_type": "execute_result",
     "data": {
      "text/plain": [
       "array([ 23.1       ,  56.46666667,  92.76666667, 132.        ])"
      ]
     },
     "metadata": {},
     "execution_count": 44
    }
   ],
   "source": [
    "# Array Operations\n",
    "\n",
    "numbers * numbers_2"
   ]
  },
  {
   "cell_type": "code",
   "execution_count": 46,
   "metadata": {},
   "outputs": [
    {
     "output_type": "execute_result",
     "data": {
      "text/plain": [
       "array([ True,  True, False, False])"
      ]
     },
     "metadata": {},
     "execution_count": 46
    }
   ],
   "source": [
    "# Array Operations\n",
    "\n",
    "numbers_2 <= 3"
   ]
  },
  {
   "cell_type": "code",
   "execution_count": 48,
   "metadata": {},
   "outputs": [
    {
     "output_type": "execute_result",
     "data": {
      "text/plain": [
       "array([ 1,  4,  9, 16, 25])"
      ]
     },
     "metadata": {},
     "execution_count": 48
    }
   ],
   "source": [
    "# Array Operations\n",
    "\n",
    "np.arange(1, 6, 1) ** 2"
   ]
  },
  {
   "cell_type": "code",
   "execution_count": 51,
   "metadata": {},
   "outputs": [
    {
     "output_type": "execute_result",
     "data": {
      "text/plain": [
       "array([[ 87,  96,  70],\n",
       "       [100,  87,  90],\n",
       "       [ 94,  77,  90],\n",
       "       [100,  81,  82]])"
      ]
     },
     "metadata": {},
     "execution_count": 51
    }
   ],
   "source": [
    "# Numpy calculation methods\n",
    "\n",
    "grades = np.array([[87, 96, 70], [100, 87, 90],\n",
    "[94, 77, 90], [100, 81, 82]])\n",
    "\n",
    "grades\n"
   ]
  },
  {
   "cell_type": "code",
   "execution_count": 52,
   "metadata": {},
   "outputs": [
    {
     "output_type": "execute_result",
     "data": {
      "text/plain": [
       "1054"
      ]
     },
     "metadata": {},
     "execution_count": 52
    }
   ],
   "source": [
    "# Numpy calculation methods\n",
    "\n",
    "\n",
    "grades.sum()"
   ]
  },
  {
   "cell_type": "code",
   "execution_count": 53,
   "metadata": {},
   "outputs": [
    {
     "output_type": "execute_result",
     "data": {
      "text/plain": [
       "70"
      ]
     },
     "metadata": {},
     "execution_count": 53
    }
   ],
   "source": [
    "# Numpy calculation methods\n",
    "\n",
    "grades.min()"
   ]
  },
  {
   "cell_type": "code",
   "execution_count": 55,
   "metadata": {},
   "outputs": [
    {
     "output_type": "execute_result",
     "data": {
      "text/plain": [
       "87.83"
      ]
     },
     "metadata": {},
     "execution_count": 55
    }
   ],
   "source": [
    "# Numpy calculation methods\n",
    "\n",
    "round(grades.mean(),2)"
   ]
  },
  {
   "cell_type": "code",
   "execution_count": 57,
   "metadata": {},
   "outputs": [
    {
     "output_type": "execute_result",
     "data": {
      "text/plain": [
       "8.792"
      ]
     },
     "metadata": {},
     "execution_count": 57
    }
   ],
   "source": [
    "# Numpy calculation methods\n",
    "\n",
    "round(grades.std(),3)"
   ]
  },
  {
   "cell_type": "code",
   "execution_count": 58,
   "metadata": {},
   "outputs": [
    {
     "output_type": "execute_result",
     "data": {
      "text/plain": [
       "77.306"
      ]
     },
     "metadata": {},
     "execution_count": 58
    }
   ],
   "source": [
    "# Numpy calculation methods\n",
    "\n",
    "round(grades.var(), 3)"
   ]
  },
  {
   "cell_type": "code",
   "execution_count": 60,
   "metadata": {},
   "outputs": [
    {
     "output_type": "execute_result",
     "data": {
      "text/plain": [
       "array([95.25, 85.25, 83.  ])"
      ]
     },
     "metadata": {},
     "execution_count": 60
    }
   ],
   "source": [
    "# Numpy calculation methods axes specific\n",
    "\n",
    "grades.mean(axis=0) # axes = 0 means column\n"
   ]
  },
  {
   "cell_type": "code",
   "execution_count": 62,
   "metadata": {},
   "outputs": [
    {
     "output_type": "execute_result",
     "data": {
      "text/plain": [
       "array([84.33333333, 92.33333333, 87.        , 87.66666667])"
      ]
     },
     "metadata": {},
     "execution_count": 62
    }
   ],
   "source": [
    "# Numpy calculation methods axes specific\n",
    "\n",
    "grades.mean(axis=1) # axes = 1 means row"
   ]
  },
  {
   "cell_type": "code",
   "execution_count": 63,
   "metadata": {},
   "outputs": [
    {
     "output_type": "stream",
     "text": [
      "\u001b[0;31mDocstring:\u001b[0m\n",
      "a.mean(axis=None, dtype=None, out=None, keepdims=False)\n",
      "\n",
      "Returns the average of the array elements along given axis.\n",
      "\n",
      "Refer to `numpy.mean` for full documentation.\n",
      "\n",
      "See Also\n",
      "--------\n",
      "numpy.mean : equivalent function\n",
      "\u001b[0;31mType:\u001b[0m      builtin_function_or_method\n"
     ],
     "name": "stdout"
    }
   ],
   "source": [
    "grades.mean?"
   ]
  },
  {
   "cell_type": "code",
   "execution_count": 64,
   "metadata": {},
   "outputs": [
    {
     "output_type": "stream",
     "text": [
      "\u001b[0;31mDocstring:\u001b[0m\n",
      "randint(low, high=None, size=None, dtype=int)\n",
      "\n",
      "Return random integers from `low` (inclusive) to `high` (exclusive).\n",
      "\n",
      "Return random integers from the \"discrete uniform\" distribution of\n",
      "the specified dtype in the \"half-open\" interval [`low`, `high`). If\n",
      "`high` is None (the default), then results are from [0, `low`).\n",
      "\n",
      ".. note::\n",
      "    New code should use the ``integers`` method of a ``default_rng()``\n",
      "    instance instead; please see the :ref:`random-quick-start`.\n",
      "\n",
      "Parameters\n",
      "----------\n",
      "low : int or array-like of ints\n",
      "    Lowest (signed) integers to be drawn from the distribution (unless\n",
      "    ``high=None``, in which case this parameter is one above the\n",
      "    *highest* such integer).\n",
      "high : int or array-like of ints, optional\n",
      "    If provided, one above the largest (signed) integer to be drawn\n",
      "    from the distribution (see above for behavior if ``high=None``).\n",
      "    If array-like, must contain integer values\n",
      "size : int or tuple of ints, optional\n",
      "    Output shape.  If the given shape is, e.g., ``(m, n, k)``, then\n",
      "    ``m * n * k`` samples are drawn.  Default is None, in which case a\n",
      "    single value is returned.\n",
      "dtype : dtype, optional\n",
      "    Desired dtype of the result. Byteorder must be native.\n",
      "    The default value is int.\n",
      "\n",
      "    .. versionadded:: 1.11.0\n",
      "\n",
      "Returns\n",
      "-------\n",
      "out : int or ndarray of ints\n",
      "    `size`-shaped array of random integers from the appropriate\n",
      "    distribution, or a single such random int if `size` not provided.\n",
      "\n",
      "See Also\n",
      "--------\n",
      "random_integers : similar to `randint`, only for the closed\n",
      "    interval [`low`, `high`], and 1 is the lowest value if `high` is\n",
      "    omitted.\n",
      "Generator.integers: which should be used for new code.\n",
      "\n",
      "Examples\n",
      "--------\n",
      ">>> np.random.randint(2, size=10)\n",
      "array([1, 0, 0, 0, 1, 1, 0, 0, 1, 0]) # random\n",
      ">>> np.random.randint(1, size=10)\n",
      "array([0, 0, 0, 0, 0, 0, 0, 0, 0, 0])\n",
      "\n",
      "Generate a 2 x 4 array of ints between 0 and 4, inclusive:\n",
      "\n",
      ">>> np.random.randint(5, size=(2, 4))\n",
      "array([[4, 0, 2, 1], # random\n",
      "       [3, 2, 2, 0]])\n",
      "\n",
      "Generate a 1 x 3 array with 3 different upper bounds\n",
      "\n",
      ">>> np.random.randint(1, [3, 5, 10])\n",
      "array([2, 2, 9]) # random\n",
      "\n",
      "Generate a 1 by 3 array with 3 different lower bounds\n",
      "\n",
      ">>> np.random.randint([1, 5, 7], 10)\n",
      "array([9, 8, 7]) # random\n",
      "\n",
      "Generate a 2 by 4 array using broadcasting with dtype of uint8\n",
      "\n",
      ">>> np.random.randint([1, 3, 5, 7], [[10], [20]], dtype=np.uint8)\n",
      "array([[ 8,  6,  9,  7], # random\n",
      "       [ 1, 16,  9, 12]], dtype=uint8)\n",
      "\u001b[0;31mType:\u001b[0m      builtin_function_or_method\n"
     ],
     "name": "stdout"
    }
   ],
   "source": [
    "# Self Check\n",
    "\n",
    "np.random.randint?"
   ]
  },
  {
   "cell_type": "code",
   "execution_count": 68,
   "metadata": {},
   "outputs": [
    {
     "output_type": "execute_result",
     "data": {
      "text/plain": [
       "array([75.66666667, 76.66666667, 86.33333333, 76.66666667])"
      ]
     },
     "metadata": {},
     "execution_count": 68
    }
   ],
   "source": [
    "# Self Check\n",
    "\n",
    "grades = np.random.randint(60, 100, 12).reshape(3,4)\n",
    "\n",
    "# Running column means\n",
    "\n",
    "grades.mean(axis= 0)"
   ]
  },
  {
   "cell_type": "code",
   "execution_count": 69,
   "metadata": {},
   "outputs": [
    {
     "output_type": "execute_result",
     "data": {
      "text/plain": [
       "array([72. , 81.5, 83. ])"
      ]
     },
     "metadata": {},
     "execution_count": 69
    }
   ],
   "source": [
    "# Running row means\n",
    "\n",
    "grades.mean(axis= 1)"
   ]
  },
  {
   "cell_type": "code",
   "execution_count": 71,
   "metadata": {},
   "outputs": [
    {
     "output_type": "execute_result",
     "data": {
      "text/plain": [
       "array([4.58257569, 4.69041576, 4.79583152, 4.89897949])"
      ]
     },
     "metadata": {},
     "execution_count": 71
    }
   ],
   "source": [
    "# Numpy Universal Functions\n",
    "\n",
    "np.sqrt(numbers)"
   ]
  },
  {
   "cell_type": "code",
   "execution_count": 74,
   "metadata": {},
   "outputs": [],
   "source": [
    "# Numpy Universal Functions\n",
    "\n",
    "numbers_2 = np.arange(1, 10) * 100\n",
    "\n",
    "numbers_3 = np.arange(11, 20)"
   ]
  },
  {
   "cell_type": "code",
   "execution_count": 75,
   "metadata": {},
   "outputs": [
    {
     "output_type": "execute_result",
     "data": {
      "text/plain": [
       "array([111, 212, 313, 414, 515, 616, 717, 818, 919])"
      ]
     },
     "metadata": {},
     "execution_count": 75
    }
   ],
   "source": [
    "# Numpy Universal Functions\n",
    "\n",
    "np.add(numbers_2, numbers_3)"
   ]
  },
  {
   "cell_type": "code",
   "execution_count": 78,
   "metadata": {},
   "outputs": [
    {
     "output_type": "execute_result",
     "data": {
      "text/plain": [
       "array([ 1100,  2400,  3900,  5600,  7500,  9600, 11900, 14400, 17100])"
      ]
     },
     "metadata": {},
     "execution_count": 78
    }
   ],
   "source": [
    "# Numpy Universal Functions\n",
    "\n",
    "\n",
    "np.multiply(numbers_2, numbers_3)"
   ]
  },
  {
   "cell_type": "code",
   "execution_count": 80,
   "metadata": {},
   "outputs": [
    {
     "output_type": "execute_result",
     "data": {
      "text/plain": [
       "array([55, 60, 65, 70, 75, 80, 85, 90, 95])"
      ]
     },
     "metadata": {},
     "execution_count": 80
    }
   ],
   "source": [
    "# Numpy Universal Functions\n",
    "\n",
    "\n",
    "np.multiply(numbers_3, 5)"
   ]
  },
  {
   "cell_type": "code",
   "execution_count": 82,
   "metadata": {},
   "outputs": [],
   "source": [
    "numbers_4 = numbers.reshape(2, 2)"
   ]
  },
  {
   "cell_type": "code",
   "execution_count": 83,
   "metadata": {},
   "outputs": [
    {
     "output_type": "execute_result",
     "data": {
      "text/plain": [
       "array([ 20, 100])"
      ]
     },
     "metadata": {},
     "execution_count": 83
    }
   ],
   "source": [
    "numbers_5 = np.array([20, 100])\n",
    "\n",
    "numbers_5"
   ]
  },
  {
   "cell_type": "code",
   "execution_count": 84,
   "metadata": {},
   "outputs": [
    {
     "output_type": "execute_result",
     "data": {
      "text/plain": [
       "array([[ 420, 2200],\n",
       "       [ 460, 2400]])"
      ]
     },
     "metadata": {},
     "execution_count": 84
    }
   ],
   "source": [
    "np.multiply(numbers_4, numbers_5)"
   ]
  },
  {
   "cell_type": "code",
   "execution_count": 85,
   "metadata": {},
   "outputs": [
    {
     "output_type": "execute_result",
     "data": {
      "text/plain": [
       "array([[21, 22],\n",
       "       [23, 24]])"
      ]
     },
     "metadata": {},
     "execution_count": 85
    }
   ],
   "source": [
    "numbers_4"
   ]
  },
  {
   "cell_type": "code",
   "execution_count": 89,
   "metadata": {},
   "outputs": [
    {
     "output_type": "execute_result",
     "data": {
      "text/plain": [
       "array([2248091, 4096000, 5545233, 1860867, 5735339])"
      ]
     },
     "metadata": {},
     "execution_count": 89
    }
   ],
   "source": [
    "# Self Check\n",
    "\n",
    "array_1 = np.random.randint(90, 200, 5)\n",
    "\n",
    "np.power(array_1, 3)"
   ]
  },
  {
   "cell_type": "code",
   "execution_count": 91,
   "metadata": {},
   "outputs": [
    {
     "output_type": "execute_result",
     "data": {
      "text/plain": [
       "64"
      ]
     },
     "metadata": {},
     "execution_count": 91
    }
   ],
   "source": [
    "# Indexing and slicing Numpy arrays\n",
    "\n",
    "grades = np.random.randint(60, 100, 12).reshape(3,4)\n",
    "\n",
    "grades[0,1] # Assessing row 0 and column 1\n"
   ]
  },
  {
   "cell_type": "code",
   "execution_count": 92,
   "metadata": {},
   "outputs": [
    {
     "output_type": "execute_result",
     "data": {
      "text/plain": [
       "array([79, 99, 88, 79])"
      ]
     },
     "metadata": {},
     "execution_count": 92
    }
   ],
   "source": [
    "# Indexing and slicing Numpy arrays\n",
    "\n",
    "# Assessing the last row\n",
    "\n",
    "grades[2]"
   ]
  },
  {
   "cell_type": "code",
   "execution_count": 95,
   "metadata": {},
   "outputs": [
    {
     "output_type": "execute_result",
     "data": {
      "text/plain": [
       "array([[63, 64, 82, 80],\n",
       "       [62, 69, 65, 77]])"
      ]
     },
     "metadata": {},
     "execution_count": 95
    }
   ],
   "source": [
    "# Indexing and slicing Numpy arrays\n",
    "\n",
    "# Assessing the rows 0 and 1 only\n",
    "\n",
    "grades[0:2]"
   ]
  },
  {
   "cell_type": "code",
   "execution_count": 96,
   "metadata": {},
   "outputs": [
    {
     "output_type": "execute_result",
     "data": {
      "text/plain": [
       "array([[63, 64, 82, 80],\n",
       "       [79, 99, 88, 79]])"
      ]
     },
     "metadata": {},
     "execution_count": 96
    }
   ],
   "source": [
    "# Indexing and slicing Numpy arrays\n",
    "\n",
    "# Assessing the rows 0 and 2 only\n",
    "\n",
    "grades[[0,2]]"
   ]
  },
  {
   "cell_type": "code",
   "execution_count": 98,
   "metadata": {},
   "outputs": [
    {
     "output_type": "execute_result",
     "data": {
      "text/plain": [
       "array([82, 65, 88])"
      ]
     },
     "metadata": {},
     "execution_count": 98
    }
   ],
   "source": [
    "# Indexing and slicing Numpy arrays\n",
    "\n",
    "# Assessing all the rows in column 2\n",
    "\n",
    "grades[ : , 2]"
   ]
  },
  {
   "cell_type": "code",
   "execution_count": 102,
   "metadata": {},
   "outputs": [
    {
     "output_type": "execute_result",
     "data": {
      "text/plain": [
       "array([[64, 82],\n",
       "       [69, 65],\n",
       "       [99, 88]])"
      ]
     },
     "metadata": {},
     "execution_count": 102
    }
   ],
   "source": [
    "# Indexing and slicing Numpy arrays\n",
    "\n",
    "# Assessing all the rows 0 and 2 in columns 1 and 2\n",
    "\n",
    "grades[ : , 1:3]"
   ]
  },
  {
   "cell_type": "code",
   "execution_count": 110,
   "metadata": {},
   "outputs": [
    {
     "output_type": "execute_result",
     "data": {
      "text/plain": [
       "array([[63, 82],\n",
       "       [62, 65],\n",
       "       [79, 88]])"
      ]
     },
     "metadata": {},
     "execution_count": 110
    }
   ],
   "source": [
    "# Indexing and slicing Numpy arrays\n",
    "\n",
    "# Assessing all the rows in columns 0 and 2\n",
    "\n",
    "grades[ : , [0,2]]"
   ]
  },
  {
   "cell_type": "code",
   "execution_count": null,
   "metadata": {},
   "outputs": [],
   "source": []
  },
  {
   "cell_type": "code",
   "execution_count": 112,
   "metadata": {},
   "outputs": [
    {
     "output_type": "execute_result",
     "data": {
      "text/plain": [
       "array([[64, 82],\n",
       "       [99, 88]])"
      ]
     },
     "metadata": {},
     "execution_count": 112
    }
   ],
   "source": [
    "# Indexing and slicing Numpy arrays\n",
    "\n",
    "# Assessing the rows 0 and 2 in columns 1 and 2\n",
    "\n",
    "grades[[0,2] , 1:3]"
   ]
  },
  {
   "cell_type": "code",
   "execution_count": 113,
   "metadata": {},
   "outputs": [
    {
     "output_type": "execute_result",
     "data": {
      "text/plain": [
       "array([63, 88])"
      ]
     },
     "metadata": {},
     "execution_count": 113
    }
   ],
   "source": [
    "# Indexing and slicing Numpy arrays\n",
    "\n",
    "# Assessing the rows 0 and 2 in columns 0 and 2\n",
    "\n",
    "grades[[0,2] , [0,2]]"
   ]
  },
  {
   "cell_type": "code",
   "execution_count": 106,
   "metadata": {},
   "outputs": [
    {
     "output_type": "execute_result",
     "data": {
      "text/plain": [
       "array([[64, 82],\n",
       "       [69, 65]])"
      ]
     },
     "metadata": {},
     "execution_count": 106
    }
   ],
   "source": [
    "# Indexing and slicing Numpy arrays\n",
    "\n",
    "# Assessing  the rows 0 and 1 in columns 1 and 2\n",
    "\n",
    "grades[ 0:2 , 1:3]"
   ]
  },
  {
   "cell_type": "code",
   "execution_count": null,
   "metadata": {},
   "outputs": [],
   "source": [
    "# Indexing and slicing Numpy arrays\n",
    "\n",
    "# Assessing  the rows 0 and 1 in columns 1 and 2\n",
    "\n",
    "grades[ 0:2 , 1:3]"
   ]
  },
  {
   "cell_type": "code",
   "execution_count": 104,
   "metadata": {},
   "outputs": [
    {
     "output_type": "execute_result",
     "data": {
      "text/plain": [
       "array([[63, 64, 82, 80],\n",
       "       [62, 69, 65, 77],\n",
       "       [79, 99, 88, 79]])"
      ]
     },
     "metadata": {},
     "execution_count": 104
    }
   ],
   "source": [
    "grades"
   ]
  },
  {
   "cell_type": "code",
   "execution_count": 114,
   "metadata": {},
   "outputs": [],
   "source": [
    "# Shallow Copies\n",
    "array_1 = np.arange(1,11)\n",
    "\n",
    "array_2 = array_1.view()"
   ]
  },
  {
   "cell_type": "code",
   "execution_count": 115,
   "metadata": {},
   "outputs": [],
   "source": [
    "# Shallow Copies\n",
    "\n",
    "array_1[4] **= 3\n"
   ]
  },
  {
   "cell_type": "code",
   "execution_count": 116,
   "metadata": {},
   "outputs": [
    {
     "output_type": "execute_result",
     "data": {
      "text/plain": [
       "array([  1,   2,   3,   4, 125,   6,   7,   8,   9,  10])"
      ]
     },
     "metadata": {},
     "execution_count": 116
    }
   ],
   "source": [
    "array_2\n",
    "\n",
    "# Because array_2 is a view into array_1"
   ]
  },
  {
   "cell_type": "code",
   "execution_count": 117,
   "metadata": {},
   "outputs": [],
   "source": [
    "array_3 = array_1[0:5]"
   ]
  },
  {
   "cell_type": "code",
   "execution_count": 118,
   "metadata": {},
   "outputs": [
    {
     "output_type": "execute_result",
     "data": {
      "text/plain": [
       "array([  1,   2,   3,   4, 125])"
      ]
     },
     "metadata": {},
     "execution_count": 118
    }
   ],
   "source": [
    "array_3"
   ]
  },
  {
   "cell_type": "code",
   "execution_count": 126,
   "metadata": {},
   "outputs": [
    {
     "output_type": "execute_result",
     "data": {
      "text/plain": [
       "array([  1,  64,   1,   4, 125,   6,   7,   8,   9,  10])"
      ]
     },
     "metadata": {},
     "execution_count": 126
    }
   ],
   "source": [
    "array_3[1] **= 6\n",
    "\n",
    "array_1"
   ]
  },
  {
   "cell_type": "code",
   "execution_count": 127,
   "metadata": {},
   "outputs": [
    {
     "output_type": "execute_result",
     "data": {
      "text/plain": [
       "array([10000,    64,     1,     4,   125,     6,     7,     8,     9,\n",
       "          10])"
      ]
     },
     "metadata": {},
     "execution_count": 127
    }
   ],
   "source": [
    "# Deep Copies\n",
    "\n",
    "array_5 = array_1.copy()\n",
    "\n",
    "array_5[0] = 10000\n",
    "\n",
    "array_5"
   ]
  },
  {
   "cell_type": "code",
   "execution_count": 129,
   "metadata": {},
   "outputs": [
    {
     "output_type": "execute_result",
     "data": {
      "text/plain": [
       "array([[ 87,  96,  70, 100,  87,  90]])"
      ]
     },
     "metadata": {},
     "execution_count": 129
    }
   ],
   "source": [
    "# Reshaping and transposing arrays\n",
    "\n",
    "grades = np.array([[87, 96, 70], [100, 87, 90]])\n",
    "\n",
    "grades.reshape(1,6) # This is just a view"
   ]
  },
  {
   "cell_type": "code",
   "execution_count": 131,
   "metadata": {},
   "outputs": [
    {
     "output_type": "execute_result",
     "data": {
      "text/plain": [
       "array([[ 87,  96],\n",
       "       [ 70, 100],\n",
       "       [ 87,  90]])"
      ]
     },
     "metadata": {},
     "execution_count": 131
    }
   ],
   "source": [
    "# Resizing grades\n",
    "\n",
    "grades.resize(3,2)\n",
    "\n",
    "grades"
   ]
  },
  {
   "cell_type": "code",
   "execution_count": 133,
   "metadata": {},
   "outputs": [
    {
     "output_type": "execute_result",
     "data": {
      "text/plain": [
       "array([ 87,  96,  70, 100,  87,  90])"
      ]
     },
     "metadata": {},
     "execution_count": 133
    }
   ],
   "source": [
    "# Flatten and ravel\n",
    "\n",
    "flattened = grades.flatten()\n",
    "\n",
    "flattened # This creates a deep copy"
   ]
  },
  {
   "cell_type": "code",
   "execution_count": 134,
   "metadata": {},
   "outputs": [
    {
     "output_type": "execute_result",
     "data": {
      "text/plain": [
       "array([    87,     96,     70,    100,     87, 100000])"
      ]
     },
     "metadata": {},
     "execution_count": 134
    }
   ],
   "source": [
    "flattened[-1] = 100000\n",
    "\n",
    "flattened"
   ]
  },
  {
   "cell_type": "code",
   "execution_count": 135,
   "metadata": {},
   "outputs": [
    {
     "output_type": "execute_result",
     "data": {
      "text/plain": [
       "array([[ 87,  96],\n",
       "       [ 70, 100],\n",
       "       [ 87,  90]])"
      ]
     },
     "metadata": {},
     "execution_count": 135
    }
   ],
   "source": [
    "grades"
   ]
  },
  {
   "cell_type": "code",
   "execution_count": 137,
   "metadata": {},
   "outputs": [
    {
     "output_type": "execute_result",
     "data": {
      "text/plain": [
       "array([ 87,  96,  70, 100,  87,  90])"
      ]
     },
     "metadata": {},
     "execution_count": 137
    }
   ],
   "source": [
    "raveled = grades.ravel()\n",
    "\n",
    "\n",
    "raveled\n",
    "# This creates a shallow copy"
   ]
  },
  {
   "cell_type": "code",
   "execution_count": 138,
   "metadata": {},
   "outputs": [
    {
     "output_type": "execute_result",
     "data": {
      "text/plain": [
       "array([[ 87,  96],\n",
       "       [ 70, 100],\n",
       "       [ 87,  90]])"
      ]
     },
     "metadata": {},
     "execution_count": 138
    }
   ],
   "source": [
    "# Still multidimensional\n",
    "\n",
    "grades "
   ]
  },
  {
   "cell_type": "code",
   "execution_count": 139,
   "metadata": {},
   "outputs": [
    {
     "output_type": "execute_result",
     "data": {
      "text/plain": [
       "array([[    87,     96],\n",
       "       [100000,    100],\n",
       "       [    87,     90]])"
      ]
     },
     "metadata": {},
     "execution_count": 139
    }
   ],
   "source": [
    "# modifying ravel affects grades (hence shallow copy)\n",
    "\n",
    "\n",
    "raveled[2] = 100000\n",
    "\n",
    "grades"
   ]
  },
  {
   "cell_type": "code",
   "execution_count": 140,
   "metadata": {},
   "outputs": [
    {
     "output_type": "execute_result",
     "data": {
      "text/plain": [
       "array([[    87, 100000,     87],\n",
       "       [    96,    100,     90]])"
      ]
     },
     "metadata": {},
     "execution_count": 140
    }
   ],
   "source": [
    "# Transposing rows and columns\n",
    "\n",
    "grades.T"
   ]
  },
  {
   "cell_type": "code",
   "execution_count": 141,
   "metadata": {},
   "outputs": [
    {
     "output_type": "execute_result",
     "data": {
      "text/plain": [
       "array([[98, 34],\n",
       "       [88, 78],\n",
       "       [90, 79]])"
      ]
     },
     "metadata": {},
     "execution_count": 141
    }
   ],
   "source": [
    "# Horizontal and Vertical stacking\n",
    "\n",
    "grades_2 = np.array([[98, 34], [88,78], [90,79]])\n",
    "\n",
    "grades_2"
   ]
  },
  {
   "cell_type": "code",
   "execution_count": 142,
   "metadata": {},
   "outputs": [
    {
     "output_type": "execute_result",
     "data": {
      "text/plain": [
       "array([[    87,     96,     98,     34],\n",
       "       [100000,    100,     88,     78],\n",
       "       [    87,     90,     90,     79]])"
      ]
     },
     "metadata": {},
     "execution_count": 142
    }
   ],
   "source": [
    "# Using the hstack method\n",
    "\n",
    "np.hstack((grades, grades_2))"
   ]
  },
  {
   "cell_type": "code",
   "execution_count": 143,
   "metadata": {},
   "outputs": [
    {
     "output_type": "execute_result",
     "data": {
      "text/plain": [
       "array([[    87,     96],\n",
       "       [100000,    100],\n",
       "       [    87,     90],\n",
       "       [    98,     34],\n",
       "       [    88,     78],\n",
       "       [    90,     79]])"
      ]
     },
     "metadata": {},
     "execution_count": 143
    }
   ],
   "source": [
    "# Using the vstack method\n",
    "\n",
    "np.vstack((grades, grades_2))"
   ]
  },
  {
   "cell_type": "code",
   "execution_count": 144,
   "metadata": {},
   "outputs": [
    {
     "output_type": "execute_result",
     "data": {
      "text/plain": [
       "0     87\n",
       "1    100\n",
       "2     94\n",
       "dtype: int64"
      ]
     },
     "metadata": {},
     "execution_count": 144
    }
   ],
   "source": [
    "# Pandas: Series and Dataframes\n",
    "\n",
    "import pandas as pd\n",
    "\n",
    "grades = pd.Series([87, 100, 94])\n",
    "\n",
    "grades"
   ]
  },
  {
   "cell_type": "code",
   "execution_count": 146,
   "metadata": {},
   "outputs": [
    {
     "output_type": "execute_result",
     "data": {
      "text/plain": [
       "0     90.2\n",
       "1     90.2\n",
       "2     90.2\n",
       "3     90.2\n",
       "4     90.2\n",
       "5     90.2\n",
       "6     90.2\n",
       "7     90.2\n",
       "8     90.2\n",
       "9     90.2\n",
       "10    90.2\n",
       "dtype: float64"
      ]
     },
     "metadata": {},
     "execution_count": 146
    }
   ],
   "source": [
    "# Produce a repeat series with the same number\n",
    "\n",
    "pd.Series(90.2, range(11))"
   ]
  },
  {
   "cell_type": "code",
   "execution_count": 147,
   "metadata": {},
   "outputs": [
    {
     "output_type": "execute_result",
     "data": {
      "text/plain": [
       "87"
      ]
     },
     "metadata": {},
     "execution_count": 147
    }
   ],
   "source": [
    "grades[0]"
   ]
  },
  {
   "cell_type": "code",
   "execution_count": 148,
   "metadata": {},
   "outputs": [
    {
     "output_type": "execute_result",
     "data": {
      "text/plain": [
       "93.66666666666667"
      ]
     },
     "metadata": {},
     "execution_count": 148
    }
   ],
   "source": [
    "grades.mean()"
   ]
  },
  {
   "cell_type": "code",
   "execution_count": 149,
   "metadata": {},
   "outputs": [
    {
     "output_type": "execute_result",
     "data": {
      "text/plain": [
       "count      3.000000\n",
       "mean      93.666667\n",
       "std        6.506407\n",
       "min       87.000000\n",
       "25%       90.500000\n",
       "50%       94.000000\n",
       "75%       97.000000\n",
       "max      100.000000\n",
       "dtype: float64"
      ]
     },
     "metadata": {},
     "execution_count": 149
    }
   ],
   "source": [
    "# Producing summary descriptive statistics\n",
    "\n",
    "grades.describe()\n"
   ]
  },
  {
   "cell_type": "code",
   "execution_count": 150,
   "metadata": {},
   "outputs": [
    {
     "output_type": "execute_result",
     "data": {
      "text/plain": [
       "Wally    87\n",
       "Maame    98\n",
       "Ewura    79\n",
       "dtype: int64"
      ]
     },
     "metadata": {},
     "execution_count": 150
    }
   ],
   "source": [
    "# Custom indices\n",
    "\n",
    "grades = pd.Series([87, 98, 79], index=[\"Wally\", \"Maame\", \"Ewura\"])\n",
    "\n",
    "grades"
   ]
  },
  {
   "cell_type": "code",
   "execution_count": 151,
   "metadata": {},
   "outputs": [
    {
     "output_type": "execute_result",
     "data": {
      "text/plain": [
       "Wally    87\n",
       "Maame    98\n",
       "Ewura    79\n",
       "dtype: int64"
      ]
     },
     "metadata": {},
     "execution_count": 151
    }
   ],
   "source": [
    "# Same output as above with dictionaries\n",
    "\n",
    "grades_2 = pd.Series({\"Wally\": 87, \"Maame\": 98, \"Ewura\": 79})\n",
    "\n",
    "grades_2"
   ]
  },
  {
   "cell_type": "code",
   "execution_count": 152,
   "metadata": {},
   "outputs": [
    {
     "output_type": "execute_result",
     "data": {
      "text/plain": [
       "array([87, 98, 79])"
      ]
     },
     "metadata": {},
     "execution_count": 152
    }
   ],
   "source": [
    "# Indexing to produce a numpy array\n",
    "\n",
    "grades.values"
   ]
  },
  {
   "cell_type": "code",
   "execution_count": 153,
   "metadata": {},
   "outputs": [
    {
     "output_type": "execute_result",
     "data": {
      "text/plain": [
       "98"
      ]
     },
     "metadata": {},
     "execution_count": 153
    }
   ],
   "source": [
    "grades_2[\"Maame\"]"
   ]
  },
  {
   "cell_type": "code",
   "execution_count": 154,
   "metadata": {},
   "outputs": [
    {
     "output_type": "execute_result",
     "data": {
      "text/plain": [
       "0    Hammer\n",
       "1       Saw\n",
       "2    Wrench\n",
       "dtype: object"
      ]
     },
     "metadata": {},
     "execution_count": 154
    }
   ],
   "source": [
    "# Strings containng integers\n",
    "\n",
    "names = pd.Series([\"Hammer\", \"Saw\", \"Wrench\"])\n",
    "\n",
    "names"
   ]
  },
  {
   "cell_type": "code",
   "execution_count": 155,
   "metadata": {},
   "outputs": [
    {
     "output_type": "execute_result",
     "data": {
      "text/plain": [
       "0    False\n",
       "1    False\n",
       "2    False\n",
       "dtype: bool"
      ]
     },
     "metadata": {},
     "execution_count": 155
    }
   ],
   "source": [
    "# Which elements of the series have an \"s\"\n",
    "\n",
    "names.str.contains(\"s\")\n",
    "# Notice \"s\" != \"S\""
   ]
  },
  {
   "cell_type": "code",
   "execution_count": 158,
   "metadata": {},
   "outputs": [
    {
     "output_type": "execute_result",
     "data": {
      "text/plain": [
       "False"
      ]
     },
     "metadata": {},
     "execution_count": 158
    }
   ],
   "source": [
    "# Which elements of the series have an \"S\"\n",
    "\n",
    "names.str.contains(\"S\")"
   ]
  },
  {
   "cell_type": "code",
   "execution_count": 164,
   "metadata": {},
   "outputs": [
    {
     "output_type": "execute_result",
     "data": {
      "text/plain": [
       "0    HAMMER\n",
       "1       SAW\n",
       "2    WRENCH\n",
       "dtype: object"
      ]
     },
     "metadata": {},
     "execution_count": 164
    }
   ],
   "source": [
    "names.str.upper()"
   ]
  },
  {
   "cell_type": "code",
   "execution_count": 169,
   "metadata": {},
   "outputs": [
    {
     "output_type": "execute_result",
     "data": {
      "text/plain": [
       "count     5.000000\n",
       "mean     71.400000\n",
       "std       8.080842\n",
       "min      62.000000\n",
       "25%      69.000000\n",
       "50%      69.000000\n",
       "75%      73.000000\n",
       "max      84.000000\n",
       "dtype: float64"
      ]
     },
     "metadata": {},
     "execution_count": 169
    }
   ],
   "source": [
    "# Self Check\n",
    "\n",
    "from random import randrange\n",
    "\n",
    "temp = np.array([randrange(60, 100) for t in range(5)])\n",
    "\n",
    "\n",
    "# Converting from Numpy to pandas\n",
    "\n",
    "temperature = pd.Series(temp)\n",
    "\n",
    "# Producing Descriptive stats for the series\n",
    "\n",
    "temperature.describe()"
   ]
  },
  {
   "cell_type": "code",
   "execution_count": 171,
   "metadata": {},
   "outputs": [
    {
     "output_type": "execute_result",
     "data": {
      "text/plain": [
       "count     5.000000\n",
       "mean     83.800000\n",
       "std      12.029131\n",
       "min      63.000000\n",
       "25%      85.000000\n",
       "50%      87.000000\n",
       "75%      92.000000\n",
       "max      92.000000\n",
       "dtype: float64"
      ]
     },
     "metadata": {},
     "execution_count": 171
    }
   ],
   "source": [
    "# Self Check\n",
    "\n",
    "from random import randint\n",
    "\n",
    "\n",
    "# A series of five integers b/n 60-100\n",
    "temp = np.random.randint(60, 100, 5)\n",
    "\n",
    "\n",
    "# Converting from Numpy to pandas\n",
    "\n",
    "temperature = pd.Series(temp)\n",
    "\n",
    "# Producing Descriptive stats for the series\n",
    "\n",
    "temperature.describe()"
   ]
  },
  {
   "cell_type": "code",
   "execution_count": 184,
   "metadata": {},
   "outputs": [
    {
     "output_type": "execute_result",
     "data": {
      "text/plain": [
       "   Wally  Maame  Clive  John  Yaw\n",
       "0     83     86     70    94   87\n",
       "1     89     73     77    82   80\n",
       "2     81     71     80    86   88\n",
       "3     73     96     70    79   97\n",
       "4     90     99     90    95   75"
      ],
      "text/html": "<div>\n<style scoped>\n    .dataframe tbody tr th:only-of-type {\n        vertical-align: middle;\n    }\n\n    .dataframe tbody tr th {\n        vertical-align: top;\n    }\n\n    .dataframe thead th {\n        text-align: right;\n    }\n</style>\n<table border=\"1\" class=\"dataframe\">\n  <thead>\n    <tr style=\"text-align: right;\">\n      <th></th>\n      <th>Wally</th>\n      <th>Maame</th>\n      <th>Clive</th>\n      <th>John</th>\n      <th>Yaw</th>\n    </tr>\n  </thead>\n  <tbody>\n    <tr>\n      <th>0</th>\n      <td>83</td>\n      <td>86</td>\n      <td>70</td>\n      <td>94</td>\n      <td>87</td>\n    </tr>\n    <tr>\n      <th>1</th>\n      <td>89</td>\n      <td>73</td>\n      <td>77</td>\n      <td>82</td>\n      <td>80</td>\n    </tr>\n    <tr>\n      <th>2</th>\n      <td>81</td>\n      <td>71</td>\n      <td>80</td>\n      <td>86</td>\n      <td>88</td>\n    </tr>\n    <tr>\n      <th>3</th>\n      <td>73</td>\n      <td>96</td>\n      <td>70</td>\n      <td>79</td>\n      <td>97</td>\n    </tr>\n    <tr>\n      <th>4</th>\n      <td>90</td>\n      <td>99</td>\n      <td>90</td>\n      <td>95</td>\n      <td>75</td>\n    </tr>\n  </tbody>\n</table>\n</div>"
     },
     "metadata": {},
     "execution_count": 184
    }
   ],
   "source": [
    "# Pandas: Dataframes\n",
    "\n",
    "import pandas as pd\n",
    "\n",
    "import random\n",
    "\n",
    "\n",
    "# Create a grades dataframes\n",
    "\n",
    "grades_dict = {\"Wally\" : [random.randint(70, 100) for i in range(5)], \"Maame\" : [random.randint(70, 100) for i in range(5)], \"Clive\" : [random.randint(70, 100) for i in range(5)], \"John\" : [random.randint(70, 100) for i in range(5)], \"Yaw\" : [random.randint(70, 100) for i in range(5)] }\n",
    "\n",
    "# Converting the grades dictionary to pandas Dataframe\n",
    "\n",
    "grades = pd.DataFrame(grades_dict)\n",
    "\n",
    "\n",
    "grades"
   ]
  },
  {
   "cell_type": "code",
   "execution_count": 235,
   "metadata": {},
   "outputs": [
    {
     "output_type": "execute_result",
     "data": {
      "text/plain": [
       "   Wally  Maame  Clive  John    Yaw\n",
       "a     83     86     70    94     87\n",
       "b     89     73     77    82     80\n",
       "c     81     71     80    86     88\n",
       "d     73     96     70    79     97\n",
       "e     90     99     90    95  10000"
      ],
      "text/html": "<div>\n<style scoped>\n    .dataframe tbody tr th:only-of-type {\n        vertical-align: middle;\n    }\n\n    .dataframe tbody tr th {\n        vertical-align: top;\n    }\n\n    .dataframe thead th {\n        text-align: right;\n    }\n</style>\n<table border=\"1\" class=\"dataframe\">\n  <thead>\n    <tr style=\"text-align: right;\">\n      <th></th>\n      <th>Wally</th>\n      <th>Maame</th>\n      <th>Clive</th>\n      <th>John</th>\n      <th>Yaw</th>\n    </tr>\n  </thead>\n  <tbody>\n    <tr>\n      <th>a</th>\n      <td>83</td>\n      <td>86</td>\n      <td>70</td>\n      <td>94</td>\n      <td>87</td>\n    </tr>\n    <tr>\n      <th>b</th>\n      <td>89</td>\n      <td>73</td>\n      <td>77</td>\n      <td>82</td>\n      <td>80</td>\n    </tr>\n    <tr>\n      <th>c</th>\n      <td>81</td>\n      <td>71</td>\n      <td>80</td>\n      <td>86</td>\n      <td>88</td>\n    </tr>\n    <tr>\n      <th>d</th>\n      <td>73</td>\n      <td>96</td>\n      <td>70</td>\n      <td>79</td>\n      <td>97</td>\n    </tr>\n    <tr>\n      <th>e</th>\n      <td>90</td>\n      <td>99</td>\n      <td>90</td>\n      <td>95</td>\n      <td>10000</td>\n    </tr>\n  </tbody>\n</table>\n</div>"
     },
     "metadata": {},
     "execution_count": 235
    }
   ],
   "source": [
    "# New index for grades\n",
    "\n",
    "grades.index = [\"a\", \"b\", \"c\", \"d\", \"e\"]\n",
    "\n",
    "grades"
   ]
  },
  {
   "cell_type": "code",
   "execution_count": 186,
   "metadata": {},
   "outputs": [
    {
     "output_type": "execute_result",
     "data": {
      "text/plain": [
       "a    87\n",
       "b    80\n",
       "c    88\n",
       "d    97\n",
       "e    75\n",
       "Name: Yaw, dtype: int64"
      ]
     },
     "metadata": {},
     "execution_count": 186
    }
   ],
   "source": [
    "# Indexing Dataframes\n",
    "\n",
    "grades[\"Yaw\"]"
   ]
  },
  {
   "cell_type": "code",
   "execution_count": 187,
   "metadata": {},
   "outputs": [
    {
     "output_type": "execute_result",
     "data": {
      "text/plain": [
       "a    86\n",
       "b    73\n",
       "c    71\n",
       "d    96\n",
       "e    99\n",
       "Name: Maame, dtype: int64"
      ]
     },
     "metadata": {},
     "execution_count": 187
    }
   ],
   "source": [
    "# Indexing Dataframes\n",
    "\n",
    "grades.Maame"
   ]
  },
  {
   "cell_type": "code",
   "execution_count": 191,
   "metadata": {},
   "outputs": [
    {
     "output_type": "execute_result",
     "data": {
      "text/plain": [
       "Wally    83\n",
       "Maame    86\n",
       "Clive    70\n",
       "John     94\n",
       "Yaw      87\n",
       "Name: a, dtype: int64"
      ]
     },
     "metadata": {},
     "execution_count": 191
    }
   ],
   "source": [
    "# Assessing the rows\n",
    "\n",
    "grades.loc[\"a\"]"
   ]
  },
  {
   "cell_type": "code",
   "execution_count": 193,
   "metadata": {},
   "outputs": [
    {
     "output_type": "execute_result",
     "data": {
      "text/plain": [
       "Wally    73\n",
       "Maame    96\n",
       "Clive    70\n",
       "John     79\n",
       "Yaw      97\n",
       "Name: d, dtype: int64"
      ]
     },
     "metadata": {},
     "execution_count": 193
    }
   ],
   "source": [
    "# Assessing the rows \n",
    "\n",
    "grades.iloc[3]"
   ]
  },
  {
   "cell_type": "code",
   "execution_count": 194,
   "metadata": {},
   "outputs": [
    {
     "output_type": "execute_result",
     "data": {
      "text/plain": [
       "   Wally  Maame  Clive  John  Yaw\n",
       "a     83     86     70    94   87\n",
       "b     89     73     77    82   80\n",
       "c     81     71     80    86   88"
      ],
      "text/html": "<div>\n<style scoped>\n    .dataframe tbody tr th:only-of-type {\n        vertical-align: middle;\n    }\n\n    .dataframe tbody tr th {\n        vertical-align: top;\n    }\n\n    .dataframe thead th {\n        text-align: right;\n    }\n</style>\n<table border=\"1\" class=\"dataframe\">\n  <thead>\n    <tr style=\"text-align: right;\">\n      <th></th>\n      <th>Wally</th>\n      <th>Maame</th>\n      <th>Clive</th>\n      <th>John</th>\n      <th>Yaw</th>\n    </tr>\n  </thead>\n  <tbody>\n    <tr>\n      <th>a</th>\n      <td>83</td>\n      <td>86</td>\n      <td>70</td>\n      <td>94</td>\n      <td>87</td>\n    </tr>\n    <tr>\n      <th>b</th>\n      <td>89</td>\n      <td>73</td>\n      <td>77</td>\n      <td>82</td>\n      <td>80</td>\n    </tr>\n    <tr>\n      <th>c</th>\n      <td>81</td>\n      <td>71</td>\n      <td>80</td>\n      <td>86</td>\n      <td>88</td>\n    </tr>\n  </tbody>\n</table>\n</div>"
     },
     "metadata": {},
     "execution_count": 194
    }
   ],
   "source": [
    "# Assessing the rows 0, 1 and 2\n",
    "\n",
    "grades.iloc[0:3]"
   ]
  },
  {
   "cell_type": "code",
   "execution_count": 196,
   "metadata": {},
   "outputs": [
    {
     "output_type": "execute_result",
     "data": {
      "text/plain": [
       "   Wally  Maame  Clive  John  Yaw\n",
       "a     83     86     70    94   87\n",
       "c     81     71     80    86   88\n",
       "e     90     99     90    95   75"
      ],
      "text/html": "<div>\n<style scoped>\n    .dataframe tbody tr th:only-of-type {\n        vertical-align: middle;\n    }\n\n    .dataframe tbody tr th {\n        vertical-align: top;\n    }\n\n    .dataframe thead th {\n        text-align: right;\n    }\n</style>\n<table border=\"1\" class=\"dataframe\">\n  <thead>\n    <tr style=\"text-align: right;\">\n      <th></th>\n      <th>Wally</th>\n      <th>Maame</th>\n      <th>Clive</th>\n      <th>John</th>\n      <th>Yaw</th>\n    </tr>\n  </thead>\n  <tbody>\n    <tr>\n      <th>a</th>\n      <td>83</td>\n      <td>86</td>\n      <td>70</td>\n      <td>94</td>\n      <td>87</td>\n    </tr>\n    <tr>\n      <th>c</th>\n      <td>81</td>\n      <td>71</td>\n      <td>80</td>\n      <td>86</td>\n      <td>88</td>\n    </tr>\n    <tr>\n      <th>e</th>\n      <td>90</td>\n      <td>99</td>\n      <td>90</td>\n      <td>95</td>\n      <td>75</td>\n    </tr>\n  </tbody>\n</table>\n</div>"
     },
     "metadata": {},
     "execution_count": 196
    }
   ],
   "source": [
    "# Assessing the rows 0, 2 and 4\n",
    "\n",
    "grades.iloc[[0,2,4]]"
   ]
  },
  {
   "cell_type": "code",
   "execution_count": 198,
   "metadata": {},
   "outputs": [
    {
     "output_type": "execute_result",
     "data": {
      "text/plain": [
       "   Wally  Maame  Clive  John  Yaw\n",
       "a     83     86     70    94   87\n",
       "c     81     71     80    86   88\n",
       "e     90     99     90    95   75"
      ],
      "text/html": "<div>\n<style scoped>\n    .dataframe tbody tr th:only-of-type {\n        vertical-align: middle;\n    }\n\n    .dataframe tbody tr th {\n        vertical-align: top;\n    }\n\n    .dataframe thead th {\n        text-align: right;\n    }\n</style>\n<table border=\"1\" class=\"dataframe\">\n  <thead>\n    <tr style=\"text-align: right;\">\n      <th></th>\n      <th>Wally</th>\n      <th>Maame</th>\n      <th>Clive</th>\n      <th>John</th>\n      <th>Yaw</th>\n    </tr>\n  </thead>\n  <tbody>\n    <tr>\n      <th>a</th>\n      <td>83</td>\n      <td>86</td>\n      <td>70</td>\n      <td>94</td>\n      <td>87</td>\n    </tr>\n    <tr>\n      <th>c</th>\n      <td>81</td>\n      <td>71</td>\n      <td>80</td>\n      <td>86</td>\n      <td>88</td>\n    </tr>\n    <tr>\n      <th>e</th>\n      <td>90</td>\n      <td>99</td>\n      <td>90</td>\n      <td>95</td>\n      <td>75</td>\n    </tr>\n  </tbody>\n</table>\n</div>"
     },
     "metadata": {},
     "execution_count": 198
    }
   ],
   "source": [
    "# Assessing the rows 0, 2 and 4\n",
    "\n",
    "grades.loc[[\"a\", \"c\", \"e\"]]"
   ]
  },
  {
   "cell_type": "code",
   "execution_count": 199,
   "metadata": {},
   "outputs": [
    {
     "output_type": "execute_result",
     "data": {
      "text/plain": [
       "   Maame  Yaw\n",
       "a     86   87\n",
       "c     71   88\n",
       "e     99   75"
      ],
      "text/html": "<div>\n<style scoped>\n    .dataframe tbody tr th:only-of-type {\n        vertical-align: middle;\n    }\n\n    .dataframe tbody tr th {\n        vertical-align: top;\n    }\n\n    .dataframe thead th {\n        text-align: right;\n    }\n</style>\n<table border=\"1\" class=\"dataframe\">\n  <thead>\n    <tr style=\"text-align: right;\">\n      <th></th>\n      <th>Maame</th>\n      <th>Yaw</th>\n    </tr>\n  </thead>\n  <tbody>\n    <tr>\n      <th>a</th>\n      <td>86</td>\n      <td>87</td>\n    </tr>\n    <tr>\n      <th>c</th>\n      <td>71</td>\n      <td>88</td>\n    </tr>\n    <tr>\n      <th>e</th>\n      <td>99</td>\n      <td>75</td>\n    </tr>\n  </tbody>\n</table>\n</div>"
     },
     "metadata": {},
     "execution_count": 199
    }
   ],
   "source": [
    "# Assessing the rows and columns\n",
    "\n",
    "grades.iloc[[0,2,4], [1,4]]"
   ]
  },
  {
   "cell_type": "code",
   "execution_count": 200,
   "metadata": {},
   "outputs": [
    {
     "output_type": "execute_result",
     "data": {
      "text/plain": [
       "   Yaw  Clive\n",
       "a   87     70\n",
       "c   88     80"
      ],
      "text/html": "<div>\n<style scoped>\n    .dataframe tbody tr th:only-of-type {\n        vertical-align: middle;\n    }\n\n    .dataframe tbody tr th {\n        vertical-align: top;\n    }\n\n    .dataframe thead th {\n        text-align: right;\n    }\n</style>\n<table border=\"1\" class=\"dataframe\">\n  <thead>\n    <tr style=\"text-align: right;\">\n      <th></th>\n      <th>Yaw</th>\n      <th>Clive</th>\n    </tr>\n  </thead>\n  <tbody>\n    <tr>\n      <th>a</th>\n      <td>87</td>\n      <td>70</td>\n    </tr>\n    <tr>\n      <th>c</th>\n      <td>88</td>\n      <td>80</td>\n    </tr>\n  </tbody>\n</table>\n</div>"
     },
     "metadata": {},
     "execution_count": 200
    }
   ],
   "source": [
    "# Assessing the rows and columns\n",
    "\n",
    "grades.loc[[\"a\", \"c\"], [\"Yaw\", \"Clive\"]]"
   ]
  },
  {
   "cell_type": "code",
   "execution_count": 201,
   "metadata": {},
   "outputs": [
    {
     "output_type": "execute_result",
     "data": {
      "text/plain": [
       "   Wally  Maame  Clive  John   Yaw\n",
       "a    NaN    NaN    NaN  94.0   NaN\n",
       "b    NaN    NaN    NaN   NaN   NaN\n",
       "c    NaN    NaN    NaN   NaN   NaN\n",
       "d    NaN   96.0    NaN   NaN  97.0\n",
       "e   90.0   99.0   90.0  95.0   NaN"
      ],
      "text/html": "<div>\n<style scoped>\n    .dataframe tbody tr th:only-of-type {\n        vertical-align: middle;\n    }\n\n    .dataframe tbody tr th {\n        vertical-align: top;\n    }\n\n    .dataframe thead th {\n        text-align: right;\n    }\n</style>\n<table border=\"1\" class=\"dataframe\">\n  <thead>\n    <tr style=\"text-align: right;\">\n      <th></th>\n      <th>Wally</th>\n      <th>Maame</th>\n      <th>Clive</th>\n      <th>John</th>\n      <th>Yaw</th>\n    </tr>\n  </thead>\n  <tbody>\n    <tr>\n      <th>a</th>\n      <td>NaN</td>\n      <td>NaN</td>\n      <td>NaN</td>\n      <td>94.0</td>\n      <td>NaN</td>\n    </tr>\n    <tr>\n      <th>b</th>\n      <td>NaN</td>\n      <td>NaN</td>\n      <td>NaN</td>\n      <td>NaN</td>\n      <td>NaN</td>\n    </tr>\n    <tr>\n      <th>c</th>\n      <td>NaN</td>\n      <td>NaN</td>\n      <td>NaN</td>\n      <td>NaN</td>\n      <td>NaN</td>\n    </tr>\n    <tr>\n      <th>d</th>\n      <td>NaN</td>\n      <td>96.0</td>\n      <td>NaN</td>\n      <td>NaN</td>\n      <td>97.0</td>\n    </tr>\n    <tr>\n      <th>e</th>\n      <td>90.0</td>\n      <td>99.0</td>\n      <td>90.0</td>\n      <td>95.0</td>\n      <td>NaN</td>\n    </tr>\n  </tbody>\n</table>\n</div>"
     },
     "metadata": {},
     "execution_count": 201
    }
   ],
   "source": [
    "# Boolean indexing\n",
    "\n",
    "grades[grades >= 90 ]"
   ]
  },
  {
   "cell_type": "code",
   "execution_count": 202,
   "metadata": {},
   "outputs": [
    {
     "output_type": "execute_result",
     "data": {
      "text/plain": [
       "   Wally  Maame  Clive  John   Yaw\n",
       "a   83.0   86.0    NaN   NaN  87.0\n",
       "b   89.0    NaN    NaN  82.0  80.0\n",
       "c   81.0    NaN   80.0  86.0  88.0\n",
       "d    NaN    NaN    NaN   NaN   NaN\n",
       "e   90.0    NaN   90.0   NaN   NaN"
      ],
      "text/html": "<div>\n<style scoped>\n    .dataframe tbody tr th:only-of-type {\n        vertical-align: middle;\n    }\n\n    .dataframe tbody tr th {\n        vertical-align: top;\n    }\n\n    .dataframe thead th {\n        text-align: right;\n    }\n</style>\n<table border=\"1\" class=\"dataframe\">\n  <thead>\n    <tr style=\"text-align: right;\">\n      <th></th>\n      <th>Wally</th>\n      <th>Maame</th>\n      <th>Clive</th>\n      <th>John</th>\n      <th>Yaw</th>\n    </tr>\n  </thead>\n  <tbody>\n    <tr>\n      <th>a</th>\n      <td>83.0</td>\n      <td>86.0</td>\n      <td>NaN</td>\n      <td>NaN</td>\n      <td>87.0</td>\n    </tr>\n    <tr>\n      <th>b</th>\n      <td>89.0</td>\n      <td>NaN</td>\n      <td>NaN</td>\n      <td>82.0</td>\n      <td>80.0</td>\n    </tr>\n    <tr>\n      <th>c</th>\n      <td>81.0</td>\n      <td>NaN</td>\n      <td>80.0</td>\n      <td>86.0</td>\n      <td>88.0</td>\n    </tr>\n    <tr>\n      <th>d</th>\n      <td>NaN</td>\n      <td>NaN</td>\n      <td>NaN</td>\n      <td>NaN</td>\n      <td>NaN</td>\n    </tr>\n    <tr>\n      <th>e</th>\n      <td>90.0</td>\n      <td>NaN</td>\n      <td>90.0</td>\n      <td>NaN</td>\n      <td>NaN</td>\n    </tr>\n  </tbody>\n</table>\n</div>"
     },
     "metadata": {},
     "execution_count": 202
    }
   ],
   "source": [
    "# Boolean indexing\n",
    "\n",
    "grades[(grades >= 80) & (grades <= 90)]"
   ]
  },
  {
   "cell_type": "code",
   "execution_count": 203,
   "metadata": {},
   "outputs": [
    {
     "output_type": "execute_result",
     "data": {
      "text/plain": [
       "77"
      ]
     },
     "metadata": {},
     "execution_count": 203
    }
   ],
   "source": [
    "# Using the at atribute\n",
    "\n",
    "grades.at[\"b\", \"Clive\"]"
   ]
  },
  {
   "cell_type": "code",
   "execution_count": 204,
   "metadata": {},
   "outputs": [
    {
     "output_type": "execute_result",
     "data": {
      "text/plain": [
       "90"
      ]
     },
     "metadata": {},
     "execution_count": 204
    }
   ],
   "source": [
    "# Using the at atribute\n",
    "\n",
    "grades.iat[4, 0]"
   ]
  },
  {
   "cell_type": "code",
   "execution_count": 205,
   "metadata": {},
   "outputs": [
    {
     "output_type": "execute_result",
     "data": {
      "text/plain": [
       "   Wally  Maame  Clive  John    Yaw\n",
       "a     83     86     70    94     87\n",
       "b     89     73     77    82     80\n",
       "c     81     71     80    86     88\n",
       "d     73     96     70    79     97\n",
       "e     90     99     90    95  10000"
      ],
      "text/html": "<div>\n<style scoped>\n    .dataframe tbody tr th:only-of-type {\n        vertical-align: middle;\n    }\n\n    .dataframe tbody tr th {\n        vertical-align: top;\n    }\n\n    .dataframe thead th {\n        text-align: right;\n    }\n</style>\n<table border=\"1\" class=\"dataframe\">\n  <thead>\n    <tr style=\"text-align: right;\">\n      <th></th>\n      <th>Wally</th>\n      <th>Maame</th>\n      <th>Clive</th>\n      <th>John</th>\n      <th>Yaw</th>\n    </tr>\n  </thead>\n  <tbody>\n    <tr>\n      <th>a</th>\n      <td>83</td>\n      <td>86</td>\n      <td>70</td>\n      <td>94</td>\n      <td>87</td>\n    </tr>\n    <tr>\n      <th>b</th>\n      <td>89</td>\n      <td>73</td>\n      <td>77</td>\n      <td>82</td>\n      <td>80</td>\n    </tr>\n    <tr>\n      <th>c</th>\n      <td>81</td>\n      <td>71</td>\n      <td>80</td>\n      <td>86</td>\n      <td>88</td>\n    </tr>\n    <tr>\n      <th>d</th>\n      <td>73</td>\n      <td>96</td>\n      <td>70</td>\n      <td>79</td>\n      <td>97</td>\n    </tr>\n    <tr>\n      <th>e</th>\n      <td>90</td>\n      <td>99</td>\n      <td>90</td>\n      <td>95</td>\n      <td>10000</td>\n    </tr>\n  </tbody>\n</table>\n</div>"
     },
     "metadata": {},
     "execution_count": 205
    }
   ],
   "source": [
    "# Assignment with at\n",
    "\n",
    "grades.at[\"e\", \"Yaw\"] = 10000\n",
    "\n",
    "grades"
   ]
  },
  {
   "cell_type": "code",
   "execution_count": 208,
   "metadata": {},
   "outputs": [
    {
     "output_type": "execute_result",
     "data": {
      "text/plain": [
       "           Wally      Maame      Clive       John           Yaw\n",
       "count   5.000000   5.000000   5.000000   5.000000      5.000000\n",
       "mean   83.200000  85.000000  77.400000  87.200000   2070.400000\n",
       "std     6.870226  12.825755   8.294577   7.120393   4432.785276\n",
       "min    73.000000  71.000000  70.000000  79.000000     80.000000\n",
       "25%    81.000000  73.000000  70.000000  82.000000     87.000000\n",
       "50%    83.000000  86.000000  77.000000  86.000000     88.000000\n",
       "75%    89.000000  96.000000  80.000000  94.000000     97.000000\n",
       "max    90.000000  99.000000  90.000000  95.000000  10000.000000"
      ],
      "text/html": "<div>\n<style scoped>\n    .dataframe tbody tr th:only-of-type {\n        vertical-align: middle;\n    }\n\n    .dataframe tbody tr th {\n        vertical-align: top;\n    }\n\n    .dataframe thead th {\n        text-align: right;\n    }\n</style>\n<table border=\"1\" class=\"dataframe\">\n  <thead>\n    <tr style=\"text-align: right;\">\n      <th></th>\n      <th>Wally</th>\n      <th>Maame</th>\n      <th>Clive</th>\n      <th>John</th>\n      <th>Yaw</th>\n    </tr>\n  </thead>\n  <tbody>\n    <tr>\n      <th>count</th>\n      <td>5.000000</td>\n      <td>5.000000</td>\n      <td>5.000000</td>\n      <td>5.000000</td>\n      <td>5.000000</td>\n    </tr>\n    <tr>\n      <th>mean</th>\n      <td>83.200000</td>\n      <td>85.000000</td>\n      <td>77.400000</td>\n      <td>87.200000</td>\n      <td>2070.400000</td>\n    </tr>\n    <tr>\n      <th>std</th>\n      <td>6.870226</td>\n      <td>12.825755</td>\n      <td>8.294577</td>\n      <td>7.120393</td>\n      <td>4432.785276</td>\n    </tr>\n    <tr>\n      <th>min</th>\n      <td>73.000000</td>\n      <td>71.000000</td>\n      <td>70.000000</td>\n      <td>79.000000</td>\n      <td>80.000000</td>\n    </tr>\n    <tr>\n      <th>25%</th>\n      <td>81.000000</td>\n      <td>73.000000</td>\n      <td>70.000000</td>\n      <td>82.000000</td>\n      <td>87.000000</td>\n    </tr>\n    <tr>\n      <th>50%</th>\n      <td>83.000000</td>\n      <td>86.000000</td>\n      <td>77.000000</td>\n      <td>86.000000</td>\n      <td>88.000000</td>\n    </tr>\n    <tr>\n      <th>75%</th>\n      <td>89.000000</td>\n      <td>96.000000</td>\n      <td>80.000000</td>\n      <td>94.000000</td>\n      <td>97.000000</td>\n    </tr>\n    <tr>\n      <th>max</th>\n      <td>90.000000</td>\n      <td>99.000000</td>\n      <td>90.000000</td>\n      <td>95.000000</td>\n      <td>10000.000000</td>\n    </tr>\n  </tbody>\n</table>\n</div>"
     },
     "metadata": {},
     "execution_count": 208
    }
   ],
   "source": [
    "# Descriptive statistics on dataframes with numeric columns\n",
    "\n",
    "grades.describe()"
   ]
  },
  {
   "cell_type": "code",
   "execution_count": 209,
   "metadata": {},
   "outputs": [],
   "source": [
    "# seting the options for pandas\n",
    "\n",
    "pd.set_option(\"precision\", 3)"
   ]
  },
  {
   "cell_type": "code",
   "execution_count": 210,
   "metadata": {},
   "outputs": [
    {
     "output_type": "execute_result",
     "data": {
      "text/plain": [
       "       Wally   Maame   Clive   John        Yaw\n",
       "count   5.00   5.000   5.000   5.00      5.000\n",
       "mean   83.20  85.000  77.400  87.20   2070.400\n",
       "std     6.87  12.826   8.295   7.12   4432.785\n",
       "min    73.00  71.000  70.000  79.00     80.000\n",
       "25%    81.00  73.000  70.000  82.00     87.000\n",
       "50%    83.00  86.000  77.000  86.00     88.000\n",
       "75%    89.00  96.000  80.000  94.00     97.000\n",
       "max    90.00  99.000  90.000  95.00  10000.000"
      ],
      "text/html": "<div>\n<style scoped>\n    .dataframe tbody tr th:only-of-type {\n        vertical-align: middle;\n    }\n\n    .dataframe tbody tr th {\n        vertical-align: top;\n    }\n\n    .dataframe thead th {\n        text-align: right;\n    }\n</style>\n<table border=\"1\" class=\"dataframe\">\n  <thead>\n    <tr style=\"text-align: right;\">\n      <th></th>\n      <th>Wally</th>\n      <th>Maame</th>\n      <th>Clive</th>\n      <th>John</th>\n      <th>Yaw</th>\n    </tr>\n  </thead>\n  <tbody>\n    <tr>\n      <th>count</th>\n      <td>5.00</td>\n      <td>5.000</td>\n      <td>5.000</td>\n      <td>5.00</td>\n      <td>5.000</td>\n    </tr>\n    <tr>\n      <th>mean</th>\n      <td>83.20</td>\n      <td>85.000</td>\n      <td>77.400</td>\n      <td>87.20</td>\n      <td>2070.400</td>\n    </tr>\n    <tr>\n      <th>std</th>\n      <td>6.87</td>\n      <td>12.826</td>\n      <td>8.295</td>\n      <td>7.12</td>\n      <td>4432.785</td>\n    </tr>\n    <tr>\n      <th>min</th>\n      <td>73.00</td>\n      <td>71.000</td>\n      <td>70.000</td>\n      <td>79.00</td>\n      <td>80.000</td>\n    </tr>\n    <tr>\n      <th>25%</th>\n      <td>81.00</td>\n      <td>73.000</td>\n      <td>70.000</td>\n      <td>82.00</td>\n      <td>87.000</td>\n    </tr>\n    <tr>\n      <th>50%</th>\n      <td>83.00</td>\n      <td>86.000</td>\n      <td>77.000</td>\n      <td>86.00</td>\n      <td>88.000</td>\n    </tr>\n    <tr>\n      <th>75%</th>\n      <td>89.00</td>\n      <td>96.000</td>\n      <td>80.000</td>\n      <td>94.00</td>\n      <td>97.000</td>\n    </tr>\n    <tr>\n      <th>max</th>\n      <td>90.00</td>\n      <td>99.000</td>\n      <td>90.000</td>\n      <td>95.00</td>\n      <td>10000.000</td>\n    </tr>\n  </tbody>\n</table>\n</div>"
     },
     "metadata": {},
     "execution_count": 210
    }
   ],
   "source": [
    "# Descriptive statistics on dataframes with numeric columns\n",
    "\n",
    "grades.describe()"
   ]
  },
  {
   "cell_type": "code",
   "execution_count": 211,
   "metadata": {},
   "outputs": [
    {
     "output_type": "execute_result",
     "data": {
      "text/plain": [
       "Wally      83.2\n",
       "Maame      85.0\n",
       "Clive      77.4\n",
       "John       87.2\n",
       "Yaw      2070.4\n",
       "dtype: float64"
      ]
     },
     "metadata": {},
     "execution_count": 211
    }
   ],
   "source": [
    "# Column means\n",
    "\n",
    "grades.mean()"
   ]
  },
  {
   "cell_type": "code",
   "execution_count": 212,
   "metadata": {},
   "outputs": [
    {
     "output_type": "execute_result",
     "data": {
      "text/plain": [
       "a      84.0\n",
       "b      80.2\n",
       "c      81.2\n",
       "d      83.0\n",
       "e    2074.8\n",
       "dtype: float64"
      ]
     },
     "metadata": {},
     "execution_count": 212
    }
   ],
   "source": [
    "# Row means\n",
    "\n",
    "grades.T.mean()"
   ]
  },
  {
   "cell_type": "code",
   "execution_count": 213,
   "metadata": {},
   "outputs": [
    {
     "output_type": "execute_result",
     "data": {
      "text/plain": [
       "            a       b       c       d          e\n",
       "count   5.000   5.000   5.000   5.000      5.000\n",
       "mean   84.000  80.200  81.200  83.000   2074.800\n",
       "std     8.803   5.975   6.611  12.748   4430.323\n",
       "min    70.000  73.000  71.000  70.000     90.000\n",
       "25%    83.000  77.000  80.000  73.000     90.000\n",
       "50%    86.000  80.000  81.000  79.000     95.000\n",
       "75%    87.000  82.000  86.000  96.000     99.000\n",
       "max    94.000  89.000  88.000  97.000  10000.000"
      ],
      "text/html": "<div>\n<style scoped>\n    .dataframe tbody tr th:only-of-type {\n        vertical-align: middle;\n    }\n\n    .dataframe tbody tr th {\n        vertical-align: top;\n    }\n\n    .dataframe thead th {\n        text-align: right;\n    }\n</style>\n<table border=\"1\" class=\"dataframe\">\n  <thead>\n    <tr style=\"text-align: right;\">\n      <th></th>\n      <th>a</th>\n      <th>b</th>\n      <th>c</th>\n      <th>d</th>\n      <th>e</th>\n    </tr>\n  </thead>\n  <tbody>\n    <tr>\n      <th>count</th>\n      <td>5.000</td>\n      <td>5.000</td>\n      <td>5.000</td>\n      <td>5.000</td>\n      <td>5.000</td>\n    </tr>\n    <tr>\n      <th>mean</th>\n      <td>84.000</td>\n      <td>80.200</td>\n      <td>81.200</td>\n      <td>83.000</td>\n      <td>2074.800</td>\n    </tr>\n    <tr>\n      <th>std</th>\n      <td>8.803</td>\n      <td>5.975</td>\n      <td>6.611</td>\n      <td>12.748</td>\n      <td>4430.323</td>\n    </tr>\n    <tr>\n      <th>min</th>\n      <td>70.000</td>\n      <td>73.000</td>\n      <td>71.000</td>\n      <td>70.000</td>\n      <td>90.000</td>\n    </tr>\n    <tr>\n      <th>25%</th>\n      <td>83.000</td>\n      <td>77.000</td>\n      <td>80.000</td>\n      <td>73.000</td>\n      <td>90.000</td>\n    </tr>\n    <tr>\n      <th>50%</th>\n      <td>86.000</td>\n      <td>80.000</td>\n      <td>81.000</td>\n      <td>79.000</td>\n      <td>95.000</td>\n    </tr>\n    <tr>\n      <th>75%</th>\n      <td>87.000</td>\n      <td>82.000</td>\n      <td>86.000</td>\n      <td>96.000</td>\n      <td>99.000</td>\n    </tr>\n    <tr>\n      <th>max</th>\n      <td>94.000</td>\n      <td>89.000</td>\n      <td>88.000</td>\n      <td>97.000</td>\n      <td>10000.000</td>\n    </tr>\n  </tbody>\n</table>\n</div>"
     },
     "metadata": {},
     "execution_count": 213
    }
   ],
   "source": [
    "# Row summary\n",
    "\n",
    "grades.T.describe()"
   ]
  },
  {
   "cell_type": "code",
   "execution_count": 214,
   "metadata": {},
   "outputs": [
    {
     "output_type": "execute_result",
     "data": {
      "text/plain": [
       "   Wally  Maame  Clive  John    Yaw\n",
       "e     90     99     90    95  10000\n",
       "d     73     96     70    79     97\n",
       "c     81     71     80    86     88\n",
       "b     89     73     77    82     80\n",
       "a     83     86     70    94     87"
      ],
      "text/html": "<div>\n<style scoped>\n    .dataframe tbody tr th:only-of-type {\n        vertical-align: middle;\n    }\n\n    .dataframe tbody tr th {\n        vertical-align: top;\n    }\n\n    .dataframe thead th {\n        text-align: right;\n    }\n</style>\n<table border=\"1\" class=\"dataframe\">\n  <thead>\n    <tr style=\"text-align: right;\">\n      <th></th>\n      <th>Wally</th>\n      <th>Maame</th>\n      <th>Clive</th>\n      <th>John</th>\n      <th>Yaw</th>\n    </tr>\n  </thead>\n  <tbody>\n    <tr>\n      <th>e</th>\n      <td>90</td>\n      <td>99</td>\n      <td>90</td>\n      <td>95</td>\n      <td>10000</td>\n    </tr>\n    <tr>\n      <th>d</th>\n      <td>73</td>\n      <td>96</td>\n      <td>70</td>\n      <td>79</td>\n      <td>97</td>\n    </tr>\n    <tr>\n      <th>c</th>\n      <td>81</td>\n      <td>71</td>\n      <td>80</td>\n      <td>86</td>\n      <td>88</td>\n    </tr>\n    <tr>\n      <th>b</th>\n      <td>89</td>\n      <td>73</td>\n      <td>77</td>\n      <td>82</td>\n      <td>80</td>\n    </tr>\n    <tr>\n      <th>a</th>\n      <td>83</td>\n      <td>86</td>\n      <td>70</td>\n      <td>94</td>\n      <td>87</td>\n    </tr>\n  </tbody>\n</table>\n</div>"
     },
     "metadata": {},
     "execution_count": 214
    }
   ],
   "source": [
    "# Sorting by index\n",
    "\n",
    "grades.sort_index(ascending=False)"
   ]
  },
  {
   "cell_type": "code",
   "execution_count": 216,
   "metadata": {},
   "outputs": [
    {
     "output_type": "execute_result",
     "data": {
      "text/plain": [
       "   Clive  John  Maame  Wally    Yaw\n",
       "a     70    94     86     83     87\n",
       "b     77    82     73     89     80\n",
       "c     80    86     71     81     88\n",
       "d     70    79     96     73     97\n",
       "e     90    95     99     90  10000"
      ],
      "text/html": "<div>\n<style scoped>\n    .dataframe tbody tr th:only-of-type {\n        vertical-align: middle;\n    }\n\n    .dataframe tbody tr th {\n        vertical-align: top;\n    }\n\n    .dataframe thead th {\n        text-align: right;\n    }\n</style>\n<table border=\"1\" class=\"dataframe\">\n  <thead>\n    <tr style=\"text-align: right;\">\n      <th></th>\n      <th>Clive</th>\n      <th>John</th>\n      <th>Maame</th>\n      <th>Wally</th>\n      <th>Yaw</th>\n    </tr>\n  </thead>\n  <tbody>\n    <tr>\n      <th>a</th>\n      <td>70</td>\n      <td>94</td>\n      <td>86</td>\n      <td>83</td>\n      <td>87</td>\n    </tr>\n    <tr>\n      <th>b</th>\n      <td>77</td>\n      <td>82</td>\n      <td>73</td>\n      <td>89</td>\n      <td>80</td>\n    </tr>\n    <tr>\n      <th>c</th>\n      <td>80</td>\n      <td>86</td>\n      <td>71</td>\n      <td>81</td>\n      <td>88</td>\n    </tr>\n    <tr>\n      <th>d</th>\n      <td>70</td>\n      <td>79</td>\n      <td>96</td>\n      <td>73</td>\n      <td>97</td>\n    </tr>\n    <tr>\n      <th>e</th>\n      <td>90</td>\n      <td>95</td>\n      <td>99</td>\n      <td>90</td>\n      <td>10000</td>\n    </tr>\n  </tbody>\n</table>\n</div>"
     },
     "metadata": {},
     "execution_count": 216
    }
   ],
   "source": [
    "# Sorting by column names\n",
    "\n",
    "grades.sort_index(axis=1)\n",
    "\n",
    "# ordering by column heads"
   ]
  },
  {
   "cell_type": "code",
   "execution_count": 225,
   "metadata": {},
   "outputs": [
    {
     "output_type": "execute_result",
     "data": {
      "text/plain": [
       "     Yaw  Maame  John  Wally  Clive\n",
       "a     87     86    94     83     70\n",
       "b     80     73    82     89     77\n",
       "c     88     71    86     81     80\n",
       "d     97     96    79     73     70\n",
       "e  10000     99    95     90     90"
      ],
      "text/html": "<div>\n<style scoped>\n    .dataframe tbody tr th:only-of-type {\n        vertical-align: middle;\n    }\n\n    .dataframe tbody tr th {\n        vertical-align: top;\n    }\n\n    .dataframe thead th {\n        text-align: right;\n    }\n</style>\n<table border=\"1\" class=\"dataframe\">\n  <thead>\n    <tr style=\"text-align: right;\">\n      <th></th>\n      <th>Yaw</th>\n      <th>Maame</th>\n      <th>John</th>\n      <th>Wally</th>\n      <th>Clive</th>\n    </tr>\n  </thead>\n  <tbody>\n    <tr>\n      <th>a</th>\n      <td>87</td>\n      <td>86</td>\n      <td>94</td>\n      <td>83</td>\n      <td>70</td>\n    </tr>\n    <tr>\n      <th>b</th>\n      <td>80</td>\n      <td>73</td>\n      <td>82</td>\n      <td>89</td>\n      <td>77</td>\n    </tr>\n    <tr>\n      <th>c</th>\n      <td>88</td>\n      <td>71</td>\n      <td>86</td>\n      <td>81</td>\n      <td>80</td>\n    </tr>\n    <tr>\n      <th>d</th>\n      <td>97</td>\n      <td>96</td>\n      <td>79</td>\n      <td>73</td>\n      <td>70</td>\n    </tr>\n    <tr>\n      <th>e</th>\n      <td>10000</td>\n      <td>99</td>\n      <td>95</td>\n      <td>90</td>\n      <td>90</td>\n    </tr>\n  </tbody>\n</table>\n</div>"
     },
     "metadata": {},
     "execution_count": 225
    }
   ],
   "source": [
    "# Sorting by values within the dataframe\n",
    "\n",
    "grades.sort_values(by=\"e\", axis= 1, ascending=False)"
   ]
  },
  {
   "cell_type": "code",
   "execution_count": 226,
   "metadata": {},
   "outputs": [
    {
     "output_type": "execute_result",
     "data": {
      "text/plain": [
       "        a   b   c   d      e\n",
       "Yaw    87  80  88  97  10000\n",
       "Maame  86  73  71  96     99\n",
       "John   94  82  86  79     95\n",
       "Wally  83  89  81  73     90\n",
       "Clive  70  77  80  70     90"
      ],
      "text/html": "<div>\n<style scoped>\n    .dataframe tbody tr th:only-of-type {\n        vertical-align: middle;\n    }\n\n    .dataframe tbody tr th {\n        vertical-align: top;\n    }\n\n    .dataframe thead th {\n        text-align: right;\n    }\n</style>\n<table border=\"1\" class=\"dataframe\">\n  <thead>\n    <tr style=\"text-align: right;\">\n      <th></th>\n      <th>a</th>\n      <th>b</th>\n      <th>c</th>\n      <th>d</th>\n      <th>e</th>\n    </tr>\n  </thead>\n  <tbody>\n    <tr>\n      <th>Yaw</th>\n      <td>87</td>\n      <td>80</td>\n      <td>88</td>\n      <td>97</td>\n      <td>10000</td>\n    </tr>\n    <tr>\n      <th>Maame</th>\n      <td>86</td>\n      <td>73</td>\n      <td>71</td>\n      <td>96</td>\n      <td>99</td>\n    </tr>\n    <tr>\n      <th>John</th>\n      <td>94</td>\n      <td>82</td>\n      <td>86</td>\n      <td>79</td>\n      <td>95</td>\n    </tr>\n    <tr>\n      <th>Wally</th>\n      <td>83</td>\n      <td>89</td>\n      <td>81</td>\n      <td>73</td>\n      <td>90</td>\n    </tr>\n    <tr>\n      <th>Clive</th>\n      <td>70</td>\n      <td>77</td>\n      <td>80</td>\n      <td>70</td>\n      <td>90</td>\n    </tr>\n  </tbody>\n</table>\n</div>"
     },
     "metadata": {},
     "execution_count": 226
    }
   ],
   "source": [
    "grades.T.sort_values(by= \"e\", ascending=False)"
   ]
  },
  {
   "cell_type": "code",
   "execution_count": 227,
   "metadata": {},
   "outputs": [
    {
     "output_type": "execute_result",
     "data": {
      "text/plain": [
       "Yaw      10000\n",
       "Maame       99\n",
       "John        95\n",
       "Wally       90\n",
       "Clive       90\n",
       "Name: e, dtype: int64"
      ]
     },
     "metadata": {},
     "execution_count": 227
    }
   ],
   "source": [
    "# Returning a single column output\n",
    "\n",
    "grades.loc[\"e\"].sort_values(ascending=False)"
   ]
  },
  {
   "cell_type": "code",
   "execution_count": 233,
   "metadata": {},
   "outputs": [
    {
     "output_type": "execute_result",
     "data": {
      "text/plain": [
       "   Mon  Tue  Wed  Thu  Fri\n",
       "0   68   71   66   75   62\n",
       "1   89   93   82   97   79"
      ],
      "text/html": "<div>\n<style scoped>\n    .dataframe tbody tr th:only-of-type {\n        vertical-align: middle;\n    }\n\n    .dataframe tbody tr th {\n        vertical-align: top;\n    }\n\n    .dataframe thead th {\n        text-align: right;\n    }\n</style>\n<table border=\"1\" class=\"dataframe\">\n  <thead>\n    <tr style=\"text-align: right;\">\n      <th></th>\n      <th>Mon</th>\n      <th>Tue</th>\n      <th>Wed</th>\n      <th>Thu</th>\n      <th>Fri</th>\n    </tr>\n  </thead>\n  <tbody>\n    <tr>\n      <th>0</th>\n      <td>68</td>\n      <td>71</td>\n      <td>66</td>\n      <td>75</td>\n      <td>62</td>\n    </tr>\n    <tr>\n      <th>1</th>\n      <td>89</td>\n      <td>93</td>\n      <td>82</td>\n      <td>97</td>\n      <td>79</td>\n    </tr>\n  </tbody>\n</table>\n</div>"
     },
     "metadata": {},
     "execution_count": 233
    }
   ],
   "source": [
    "# Self Check\n",
    "temps = {\"Mon\" : [68, 89], \"Tue\" : [71, 93], \"Wed\" : [66, 82], \"Thu\" : [75, 97], \"Fri\" : [62, 79]}\n",
    "\n",
    "# Converting temps to a Dataframe\n",
    "\n",
    "temperatures = pd.DataFrame(temps)\n",
    "\n",
    "# Changing the indices\n",
    "\n",
    "temperatures.index = [\"low\", \"high\"]\n"
   ]
  },
  {
   "cell_type": "code",
   "execution_count": 255,
   "metadata": {},
   "outputs": [
    {
     "output_type": "execute_result",
     "data": {
      "text/plain": [
       "      Mon  Tue  Wed\n",
       "low    68   71   66\n",
       "high   89   93   82"
      ],
      "text/html": "<div>\n<style scoped>\n    .dataframe tbody tr th:only-of-type {\n        vertical-align: middle;\n    }\n\n    .dataframe tbody tr th {\n        vertical-align: top;\n    }\n\n    .dataframe thead th {\n        text-align: right;\n    }\n</style>\n<table border=\"1\" class=\"dataframe\">\n  <thead>\n    <tr style=\"text-align: right;\">\n      <th></th>\n      <th>Mon</th>\n      <th>Tue</th>\n      <th>Wed</th>\n    </tr>\n  </thead>\n  <tbody>\n    <tr>\n      <th>low</th>\n      <td>68</td>\n      <td>71</td>\n      <td>66</td>\n    </tr>\n    <tr>\n      <th>high</th>\n      <td>89</td>\n      <td>93</td>\n      <td>82</td>\n    </tr>\n  </tbody>\n</table>\n</div>"
     },
     "metadata": {},
     "execution_count": 255
    }
   ],
   "source": [
    "# Selecting only Mon and Tue\n",
    "\n",
    "temperatures.iloc[[0,1], [0,1,2]]"
   ]
  },
  {
   "cell_type": "code",
   "execution_count": 256,
   "metadata": {},
   "outputs": [
    {
     "output_type": "execute_result",
     "data": {
      "text/plain": [
       "Mon    68\n",
       "Tue    71\n",
       "Wed    66\n",
       "Thu    75\n",
       "Fri    62\n",
       "Name: low, dtype: int64"
      ]
     },
     "metadata": {},
     "execution_count": 256
    }
   ],
   "source": [
    "# Row index\n",
    "\n",
    "temperatures.loc[\"low\"]"
   ]
  },
  {
   "cell_type": "code",
   "execution_count": 257,
   "metadata": {},
   "outputs": [],
   "source": [
    "pd.set_option(\"precision\", 3)"
   ]
  },
  {
   "cell_type": "code",
   "execution_count": 260,
   "metadata": {},
   "outputs": [
    {
     "output_type": "execute_result",
     "data": {
      "text/plain": [
       "Mon    78.5\n",
       "Tue    82.0\n",
       "Wed    74.0\n",
       "Thu    86.0\n",
       "Fri    70.5\n",
       "dtype: float64"
      ]
     },
     "metadata": {},
     "execution_count": 260
    }
   ],
   "source": [
    "# Average Daily Temperature\n",
    "\n",
    "temperatures.mean()"
   ]
  }
 ]
}