{
 "metadata": {
  "language_info": {
   "codemirror_mode": {
    "name": "ipython",
    "version": 3
   },
   "file_extension": ".py",
   "mimetype": "text/x-python",
   "name": "python",
   "nbconvert_exporter": "python",
   "pygments_lexer": "ipython3",
   "version": "3.9.0-final"
  },
  "orig_nbformat": 2,
  "kernelspec": {
   "name": "python3",
   "display_name": "Python 3.9.0 64-bit",
   "metadata": {
    "interpreter": {
     "hash": "aee8b7b246df8f9039afb4144a1f6fd8d2ca17a180786b69acc140d282b71a49"
    }
   }
  }
 },
 "nbformat": 4,
 "nbformat_minor": 2,
 "cells": [
  {
   "cell_type": "code",
   "execution_count": 2,
   "metadata": {},
   "outputs": [
    {
     "output_type": "execute_result",
     "data": {
      "text/plain": [
       "'olleH'"
      ]
     },
     "metadata": {},
     "execution_count": 2
    }
   ],
   "source": [
    "# Reversing a String\n",
    "\n",
    "a = \"Hello\"\n",
    "\n",
    "a[ : : -1]"
   ]
  },
  {
   "cell_type": "code",
   "execution_count": 3,
   "metadata": {},
   "outputs": [
    {
     "output_type": "execute_result",
     "data": {
      "text/plain": [
       "0    4\n",
       "1    7\n",
       "2   -5\n",
       "3    3\n",
       "dtype: int64"
      ]
     },
     "metadata": {},
     "execution_count": 3
    }
   ],
   "source": [
    "import pandas as pd\n",
    "\n",
    "# Series\n",
    "\n",
    "obj = pd.Series([4, 7, -5, 3])\n",
    "\n",
    "obj"
   ]
  },
  {
   "cell_type": "code",
   "execution_count": 7,
   "metadata": {},
   "outputs": [
    {
     "output_type": "execute_result",
     "data": {
      "text/plain": [
       "array([ 4,  7, -5,  3])"
      ]
     },
     "metadata": {},
     "execution_count": 7
    }
   ],
   "source": [
    "# Object Values\n",
    "\n",
    "obj.values"
   ]
  },
  {
   "cell_type": "code",
   "execution_count": 10,
   "metadata": {},
   "outputs": [
    {
     "output_type": "execute_result",
     "data": {
      "text/plain": [
       "a    4\n",
       "b    7\n",
       "c   -5\n",
       "d    3\n",
       "dtype: int64"
      ]
     },
     "metadata": {},
     "execution_count": 10
    }
   ],
   "source": [
    "# Object index\n",
    "\n",
    "obj.index = [\"a\", \"b\", \"c\", \"d\"]\n",
    "\n",
    "obj"
   ]
  },
  {
   "cell_type": "code",
   "execution_count": 11,
   "metadata": {},
   "outputs": [
    {
     "output_type": "execute_result",
     "data": {
      "text/plain": [
       "p    10\n",
       "q    20\n",
       "r    30\n",
       "s    40\n",
       "dtype: int64"
      ]
     },
     "metadata": {},
     "execution_count": 11
    }
   ],
   "source": [
    "obj_2 = pd.Series([10, 20, 30, 40], index= [\"p\", \"q\", \"r\", \"s\"])\n",
    "\n",
    "obj_2"
   ]
  },
  {
   "cell_type": "code",
   "execution_count": 13,
   "metadata": {},
   "outputs": [
    {
     "output_type": "execute_result",
     "data": {
      "text/plain": [
       "p    10\n",
       "r    30\n",
       "dtype: int64"
      ]
     },
     "metadata": {},
     "execution_count": 13
    }
   ],
   "source": [
    "# Using list of labels to index Series array\n",
    "\n",
    "obj_2[[\"p\", \"r\"]]"
   ]
  },
  {
   "cell_type": "code",
   "execution_count": 14,
   "metadata": {},
   "outputs": [
    {
     "output_type": "execute_result",
     "data": {
      "text/plain": [
       "p    10\n",
       "q    20\n",
       "dtype: int64"
      ]
     },
     "metadata": {},
     "execution_count": 14
    }
   ],
   "source": [
    "# Filtering \n",
    "\n",
    "obj_2[obj_2 <= 25 ]"
   ]
  },
  {
   "cell_type": "code",
   "execution_count": 15,
   "metadata": {},
   "outputs": [
    {
     "output_type": "execute_result",
     "data": {
      "text/plain": [
       "a    40\n",
       "b    70\n",
       "c   -50\n",
       "d    30\n",
       "dtype: int64"
      ]
     },
     "metadata": {},
     "execution_count": 15
    }
   ],
   "source": [
    "# Multiplying the array\n",
    "\n",
    "obj * 10"
   ]
  },
  {
   "cell_type": "code",
   "execution_count": 17,
   "metadata": {},
   "outputs": [
    {
     "output_type": "execute_result",
     "data": {
      "text/plain": [
       "True"
      ]
     },
     "metadata": {},
     "execution_count": 17
    }
   ],
   "source": [
    "\"d\" in obj"
   ]
  },
  {
   "cell_type": "code",
   "execution_count": 19,
   "metadata": {},
   "outputs": [
    {
     "output_type": "execute_result",
     "data": {
      "text/plain": [
       "Ohio      3500\n",
       "Texas     7100\n",
       "Oregon    1600\n",
       "Utah       500\n",
       "dtype: int64"
      ]
     },
     "metadata": {},
     "execution_count": 19
    }
   ],
   "source": [
    "#Converting a dictionary to a series\n",
    "\n",
    "s_data = {\"Ohio\" : 3500, \"Texas\" : 7100, \"Oregon\" : 1600, \"Utah\" : 500}\n",
    "\n",
    "s_data_series = pd.Series(s_data)\n",
    "\n",
    "s_data_series"
   ]
  },
  {
   "cell_type": "code",
   "execution_count": 20,
   "metadata": {},
   "outputs": [
    {
     "output_type": "execute_result",
     "data": {
      "text/plain": [
       "State\n",
       "Ohio      3500\n",
       "Texas     7100\n",
       "Oregon    1600\n",
       "Utah       500\n",
       "Name: Population, dtype: int64"
      ]
     },
     "metadata": {},
     "execution_count": 20
    }
   ],
   "source": [
    "# The name of the series and index \n",
    "\n",
    "s_data_series.name = \"Population\"\n",
    "\n",
    "s_data_series.index.name = \"State\"\n",
    "\n",
    "s_data_series"
   ]
  },
  {
   "cell_type": "code",
   "execution_count": 21,
   "metadata": {},
   "outputs": [
    {
     "output_type": "execute_result",
     "data": {
      "text/plain": [
       "Accra       3500\n",
       "Kumasi      7100\n",
       "Swedru      1600\n",
       "Mankesim     500\n",
       "Name: Population, dtype: int64"
      ]
     },
     "metadata": {},
     "execution_count": 21
    }
   ],
   "source": [
    "# Altering index names\n",
    "\n",
    "s_data_series.index = [\"Accra\", \"Kumasi\", \"Swedru\", \"Mankesim\"]\n",
    "\n",
    "s_data_series"
   ]
  },
  {
   "cell_type": "code",
   "execution_count": 23,
   "metadata": {},
   "outputs": [
    {
     "output_type": "execute_result",
     "data": {
      "text/plain": [
       "     State  Year  Pop\n",
       "0    Accra  2000  1.5\n",
       "1  Sunyani  2002  1.7\n",
       "2       Wa  2005  3.6\n",
       "3   Tamale  2010  2.4\n",
       "4   Wenchi  2020  0.4"
      ],
      "text/html": "<div>\n<style scoped>\n    .dataframe tbody tr th:only-of-type {\n        vertical-align: middle;\n    }\n\n    .dataframe tbody tr th {\n        vertical-align: top;\n    }\n\n    .dataframe thead th {\n        text-align: right;\n    }\n</style>\n<table border=\"1\" class=\"dataframe\">\n  <thead>\n    <tr style=\"text-align: right;\">\n      <th></th>\n      <th>State</th>\n      <th>Year</th>\n      <th>Pop</th>\n    </tr>\n  </thead>\n  <tbody>\n    <tr>\n      <th>0</th>\n      <td>Accra</td>\n      <td>2000</td>\n      <td>1.5</td>\n    </tr>\n    <tr>\n      <th>1</th>\n      <td>Sunyani</td>\n      <td>2002</td>\n      <td>1.7</td>\n    </tr>\n    <tr>\n      <th>2</th>\n      <td>Wa</td>\n      <td>2005</td>\n      <td>3.6</td>\n    </tr>\n    <tr>\n      <th>3</th>\n      <td>Tamale</td>\n      <td>2010</td>\n      <td>2.4</td>\n    </tr>\n    <tr>\n      <th>4</th>\n      <td>Wenchi</td>\n      <td>2020</td>\n      <td>0.4</td>\n    </tr>\n  </tbody>\n</table>\n</div>"
     },
     "metadata": {},
     "execution_count": 23
    }
   ],
   "source": [
    "# Dataframes\n",
    "\n",
    "pop_data = { \"State\" : [\"Accra\", \"Sunyani\", \"Wa\", \"Tamale\", \"Wenchi\"], \"Year\" : [2000, 2002, 2005, 2010, 2020], \"Pop\" : [1.5, 1.7, 3.6, 2.4, 0.4]}\n",
    "\n",
    "pop_data_frame = pd.DataFrame(pop_data)\n",
    "\n",
    "pop_data_frame"
   ]
  },
  {
   "cell_type": "code",
   "execution_count": 24,
   "metadata": {},
   "outputs": [
    {
     "output_type": "execute_result",
     "data": {
      "text/plain": [
       "     State  Year  Pop\n",
       "0    Accra  2000  1.5\n",
       "1  Sunyani  2002  1.7\n",
       "2       Wa  2005  3.6\n",
       "3   Tamale  2010  2.4\n",
       "4   Wenchi  2020  0.4"
      ],
      "text/html": "<div>\n<style scoped>\n    .dataframe tbody tr th:only-of-type {\n        vertical-align: middle;\n    }\n\n    .dataframe tbody tr th {\n        vertical-align: top;\n    }\n\n    .dataframe thead th {\n        text-align: right;\n    }\n</style>\n<table border=\"1\" class=\"dataframe\">\n  <thead>\n    <tr style=\"text-align: right;\">\n      <th></th>\n      <th>State</th>\n      <th>Year</th>\n      <th>Pop</th>\n    </tr>\n  </thead>\n  <tbody>\n    <tr>\n      <th>0</th>\n      <td>Accra</td>\n      <td>2000</td>\n      <td>1.5</td>\n    </tr>\n    <tr>\n      <th>1</th>\n      <td>Sunyani</td>\n      <td>2002</td>\n      <td>1.7</td>\n    </tr>\n    <tr>\n      <th>2</th>\n      <td>Wa</td>\n      <td>2005</td>\n      <td>3.6</td>\n    </tr>\n    <tr>\n      <th>3</th>\n      <td>Tamale</td>\n      <td>2010</td>\n      <td>2.4</td>\n    </tr>\n    <tr>\n      <th>4</th>\n      <td>Wenchi</td>\n      <td>2020</td>\n      <td>0.4</td>\n    </tr>\n  </tbody>\n</table>\n</div>"
     },
     "metadata": {},
     "execution_count": 24
    }
   ],
   "source": [
    "# Selecting only a few rows to output\n",
    "\n",
    "pop_data_frame.head()"
   ]
  },
  {
   "cell_type": "code",
   "execution_count": 25,
   "metadata": {},
   "outputs": [
    {
     "output_type": "execute_result",
     "data": {
      "text/plain": [
       "   Year    State  Pop\n",
       "0  2000    Accra  1.5\n",
       "1  2002  Sunyani  1.7\n",
       "2  2005       Wa  3.6\n",
       "3  2010   Tamale  2.4\n",
       "4  2020   Wenchi  0.4"
      ],
      "text/html": "<div>\n<style scoped>\n    .dataframe tbody tr th:only-of-type {\n        vertical-align: middle;\n    }\n\n    .dataframe tbody tr th {\n        vertical-align: top;\n    }\n\n    .dataframe thead th {\n        text-align: right;\n    }\n</style>\n<table border=\"1\" class=\"dataframe\">\n  <thead>\n    <tr style=\"text-align: right;\">\n      <th></th>\n      <th>Year</th>\n      <th>State</th>\n      <th>Pop</th>\n    </tr>\n  </thead>\n  <tbody>\n    <tr>\n      <th>0</th>\n      <td>2000</td>\n      <td>Accra</td>\n      <td>1.5</td>\n    </tr>\n    <tr>\n      <th>1</th>\n      <td>2002</td>\n      <td>Sunyani</td>\n      <td>1.7</td>\n    </tr>\n    <tr>\n      <th>2</th>\n      <td>2005</td>\n      <td>Wa</td>\n      <td>3.6</td>\n    </tr>\n    <tr>\n      <th>3</th>\n      <td>2010</td>\n      <td>Tamale</td>\n      <td>2.4</td>\n    </tr>\n    <tr>\n      <th>4</th>\n      <td>2020</td>\n      <td>Wenchi</td>\n      <td>0.4</td>\n    </tr>\n  </tbody>\n</table>\n</div>"
     },
     "metadata": {},
     "execution_count": 25
    }
   ],
   "source": [
    "# Specifying a sequence of columns\n",
    "\n",
    "pop_data_frame = pd.DataFrame(pop_data, columns=[\"Year\", \"State\", \"Pop\"])\n",
    "\n",
    "pop_data_frame"
   ]
  },
  {
   "cell_type": "code",
   "execution_count": 28,
   "metadata": {},
   "outputs": [
    {
     "output_type": "execute_result",
     "data": {
      "text/plain": [
       "       Year    State  Pop  Prop\n",
       "one    2000    Accra  1.5  0.20\n",
       "two    2002  Sunyani  1.7  0.40\n",
       "three  2005       Wa  3.6  0.23\n",
       "four   2010   Tamale  2.4  0.19\n",
       "five   2020   Wenchi  0.4  0.30"
      ],
      "text/html": "<div>\n<style scoped>\n    .dataframe tbody tr th:only-of-type {\n        vertical-align: middle;\n    }\n\n    .dataframe tbody tr th {\n        vertical-align: top;\n    }\n\n    .dataframe thead th {\n        text-align: right;\n    }\n</style>\n<table border=\"1\" class=\"dataframe\">\n  <thead>\n    <tr style=\"text-align: right;\">\n      <th></th>\n      <th>Year</th>\n      <th>State</th>\n      <th>Pop</th>\n      <th>Prop</th>\n    </tr>\n  </thead>\n  <tbody>\n    <tr>\n      <th>one</th>\n      <td>2000</td>\n      <td>Accra</td>\n      <td>1.5</td>\n      <td>0.20</td>\n    </tr>\n    <tr>\n      <th>two</th>\n      <td>2002</td>\n      <td>Sunyani</td>\n      <td>1.7</td>\n      <td>0.40</td>\n    </tr>\n    <tr>\n      <th>three</th>\n      <td>2005</td>\n      <td>Wa</td>\n      <td>3.6</td>\n      <td>0.23</td>\n    </tr>\n    <tr>\n      <th>four</th>\n      <td>2010</td>\n      <td>Tamale</td>\n      <td>2.4</td>\n      <td>0.19</td>\n    </tr>\n    <tr>\n      <th>five</th>\n      <td>2020</td>\n      <td>Wenchi</td>\n      <td>0.4</td>\n      <td>0.30</td>\n    </tr>\n  </tbody>\n</table>\n</div>"
     },
     "metadata": {},
     "execution_count": 28
    }
   ],
   "source": [
    "# Adding index names a new column\n",
    "\n",
    "Prop = [0.2, 0.4, 0.23, 0.19, 0.3]\n",
    "\n",
    "pop_data_frame = pd.DataFrame(pop_data, columns= [\"Year\", \"State\", \"Pop\"], index= [\"one\", \"two\", \"three\", \"four\", \"five\"])\n",
    "\n",
    "pop_data_frame[\"Prop\"] = Prop\n",
    "\n",
    "pop_data_frame\n"
   ]
  },
  {
   "cell_type": "code",
   "execution_count": 29,
   "metadata": {},
   "outputs": [
    {
     "output_type": "execute_result",
     "data": {
      "text/plain": [
       "       Year    State  Pop  Prop  Labor_rate\n",
       "one    2000    Accra  1.5  0.20         5.0\n",
       "two    2002  Sunyani  1.7  0.40         NaN\n",
       "three  2005       Wa  3.6  0.23         NaN\n",
       "four   2010   Tamale  2.4  0.19         7.0\n",
       "five   2020   Wenchi  0.4  0.30         3.0"
      ],
      "text/html": "<div>\n<style scoped>\n    .dataframe tbody tr th:only-of-type {\n        vertical-align: middle;\n    }\n\n    .dataframe tbody tr th {\n        vertical-align: top;\n    }\n\n    .dataframe thead th {\n        text-align: right;\n    }\n</style>\n<table border=\"1\" class=\"dataframe\">\n  <thead>\n    <tr style=\"text-align: right;\">\n      <th></th>\n      <th>Year</th>\n      <th>State</th>\n      <th>Pop</th>\n      <th>Prop</th>\n      <th>Labor_rate</th>\n    </tr>\n  </thead>\n  <tbody>\n    <tr>\n      <th>one</th>\n      <td>2000</td>\n      <td>Accra</td>\n      <td>1.5</td>\n      <td>0.20</td>\n      <td>5.0</td>\n    </tr>\n    <tr>\n      <th>two</th>\n      <td>2002</td>\n      <td>Sunyani</td>\n      <td>1.7</td>\n      <td>0.40</td>\n      <td>NaN</td>\n    </tr>\n    <tr>\n      <th>three</th>\n      <td>2005</td>\n      <td>Wa</td>\n      <td>3.6</td>\n      <td>0.23</td>\n      <td>NaN</td>\n    </tr>\n    <tr>\n      <th>four</th>\n      <td>2010</td>\n      <td>Tamale</td>\n      <td>2.4</td>\n      <td>0.19</td>\n      <td>7.0</td>\n    </tr>\n    <tr>\n      <th>five</th>\n      <td>2020</td>\n      <td>Wenchi</td>\n      <td>0.4</td>\n      <td>0.30</td>\n      <td>3.0</td>\n    </tr>\n  </tbody>\n</table>\n</div>"
     },
     "metadata": {},
     "execution_count": 29
    }
   ],
   "source": [
    "# To assign values to exact labels, use a series\n",
    "\n",
    "Labor_rate = pd.Series([5, 7, 3], index=[\"one\", \"four\", \"five\"])\n",
    "\n",
    "pop_data_frame[\"Labor_rate\"] = Labor_rate\n",
    "\n",
    "pop_data_frame"
   ]
  },
  {
   "cell_type": "code",
   "execution_count": 30,
   "metadata": {},
   "outputs": [
    {
     "output_type": "execute_result",
     "data": {
      "text/plain": [
       "Index(['Year', 'State', 'Pop', 'Prop', 'Labor_rate'], dtype='object')"
      ]
     },
     "metadata": {},
     "execution_count": 30
    }
   ],
   "source": [
    "# Column headers\n",
    "\n",
    "pop_data_frame.columns"
   ]
  },
  {
   "cell_type": "code",
   "execution_count": 31,
   "metadata": {},
   "outputs": [
    {
     "output_type": "execute_result",
     "data": {
      "text/plain": [
       "      Nevada  Ohio\n",
       "2001     2.2   4.0\n",
       "2002     2.4   5.6\n",
       "2003     4.3   8.8\n",
       "2004     5.7   4.3"
      ],
      "text/html": "<div>\n<style scoped>\n    .dataframe tbody tr th:only-of-type {\n        vertical-align: middle;\n    }\n\n    .dataframe tbody tr th {\n        vertical-align: top;\n    }\n\n    .dataframe thead th {\n        text-align: right;\n    }\n</style>\n<table border=\"1\" class=\"dataframe\">\n  <thead>\n    <tr style=\"text-align: right;\">\n      <th></th>\n      <th>Nevada</th>\n      <th>Ohio</th>\n    </tr>\n  </thead>\n  <tbody>\n    <tr>\n      <th>2001</th>\n      <td>2.2</td>\n      <td>4.0</td>\n    </tr>\n    <tr>\n      <th>2002</th>\n      <td>2.4</td>\n      <td>5.6</td>\n    </tr>\n    <tr>\n      <th>2003</th>\n      <td>4.3</td>\n      <td>8.8</td>\n    </tr>\n    <tr>\n      <th>2004</th>\n      <td>5.7</td>\n      <td>4.3</td>\n    </tr>\n  </tbody>\n</table>\n</div>"
     },
     "metadata": {},
     "execution_count": 31
    }
   ],
   "source": [
    "# Nested Dicts\n",
    "\n",
    "pop = {\"Nevada\" : {2001: 2.2,2002: 2.4, 2003: 4.3, 2004: 5.7}, \"Ohio\" : {2001: 4, 2002: 5.6, 2003: 8.8, 2004: 4.3}}\n",
    "\n",
    "pop_frame = pd.DataFrame(pop)\n",
    "\n",
    "pop_frame"
   ]
  },
  {
   "cell_type": "code",
   "execution_count": 32,
   "metadata": {},
   "outputs": [
    {
     "output_type": "execute_result",
     "data": {
      "text/plain": [
       "        2001  2002  2003  2004\n",
       "Nevada   2.2   2.4   4.3   5.7\n",
       "Ohio     4.0   5.6   8.8   4.3"
      ],
      "text/html": "<div>\n<style scoped>\n    .dataframe tbody tr th:only-of-type {\n        vertical-align: middle;\n    }\n\n    .dataframe tbody tr th {\n        vertical-align: top;\n    }\n\n    .dataframe thead th {\n        text-align: right;\n    }\n</style>\n<table border=\"1\" class=\"dataframe\">\n  <thead>\n    <tr style=\"text-align: right;\">\n      <th></th>\n      <th>2001</th>\n      <th>2002</th>\n      <th>2003</th>\n      <th>2004</th>\n    </tr>\n  </thead>\n  <tbody>\n    <tr>\n      <th>Nevada</th>\n      <td>2.2</td>\n      <td>2.4</td>\n      <td>4.3</td>\n      <td>5.7</td>\n    </tr>\n    <tr>\n      <th>Ohio</th>\n      <td>4.0</td>\n      <td>5.6</td>\n      <td>8.8</td>\n      <td>4.3</td>\n    </tr>\n  </tbody>\n</table>\n</div>"
     },
     "metadata": {},
     "execution_count": 32
    }
   ],
   "source": [
    "# Transposing data\n",
    "\n",
    "pop_frame.T"
   ]
  },
  {
   "cell_type": "code",
   "execution_count": 36,
   "metadata": {},
   "outputs": [
    {
     "output_type": "execute_result",
     "data": {
      "text/plain": [
       "Index(['p', 'q', 'r', 's', 't'], dtype='object')"
      ]
     },
     "metadata": {},
     "execution_count": 36
    }
   ],
   "source": [
    "# Index Series\n",
    "\n",
    "\n",
    "import numpy as np\n",
    "\n",
    "\n",
    "obj = pd.Series(range(5), index= [\"p\", \"q\", \"r\", \"s\", \"t\"])\n",
    "\n",
    "indexes = obj.index\n",
    "\n",
    "indexes"
   ]
  },
  {
   "cell_type": "code",
   "execution_count": 35,
   "metadata": {},
   "outputs": [
    {
     "output_type": "execute_result",
     "data": {
      "text/plain": [
       "Index(['q', 'r', 's', 't'], dtype='object')"
      ]
     },
     "metadata": {},
     "execution_count": 35
    }
   ],
   "source": [
    "# Indexing\n",
    "\n",
    "indexes[1 : ]"
   ]
  },
  {
   "cell_type": "code",
   "execution_count": 39,
   "metadata": {},
   "outputs": [
    {
     "output_type": "execute_result",
     "data": {
      "text/plain": [
       "Int64Index([1, 2, 3, 4, 5], dtype='int64')"
      ]
     },
     "metadata": {},
     "execution_count": 39
    }
   ],
   "source": [
    "# Index\n",
    "\n",
    "labels = pd.Index(np.arange(1,6))\n",
    "\n",
    "labels"
   ]
  },
  {
   "cell_type": "code",
   "execution_count": 40,
   "metadata": {},
   "outputs": [
    {
     "output_type": "execute_result",
     "data": {
      "text/plain": [
       "1    10\n",
       "2    20\n",
       "3    30\n",
       "4    40\n",
       "5    50\n",
       "dtype: int64"
      ]
     },
     "metadata": {},
     "execution_count": 40
    }
   ],
   "source": [
    "# Index\n",
    "\n",
    "obj_2 = pd.Series([10, 20, 30, 40, 50], index= labels)\n",
    "\n",
    "obj_2"
   ]
  },
  {
   "cell_type": "code",
   "execution_count": 41,
   "metadata": {},
   "outputs": [
    {
     "output_type": "execute_result",
     "data": {
      "text/plain": [
       "w    4.5\n",
       "x    7.2\n",
       "y   -5.3\n",
       "z    3.6\n",
       "dtype: float64"
      ]
     },
     "metadata": {},
     "execution_count": 41
    }
   ],
   "source": [
    "# Essential Functionality\n",
    "\n",
    "obj = pd.Series([4.5, 7.2, -5.3, 3.6], index= [\"w\", \"x\", \"y\", \"z\"])\n",
    "\n",
    "obj"
   ]
  },
  {
   "cell_type": "code",
   "execution_count": 42,
   "metadata": {},
   "outputs": [
    {
     "output_type": "execute_result",
     "data": {
      "text/plain": [
       "z    3.6\n",
       "y   -5.3\n",
       "x    7.2\n",
       "w    4.5\n",
       "dtype: float64"
      ]
     },
     "metadata": {},
     "execution_count": 42
    }
   ],
   "source": [
    "# Reindex\n",
    "\n",
    "obj_2 = obj.reindex([\"z\", \"y\", \"x\", \"w\"])\n",
    "\n",
    "obj_2"
   ]
  },
  {
   "cell_type": "code",
   "execution_count": 43,
   "metadata": {},
   "outputs": [
    {
     "output_type": "execute_result",
     "data": {
      "text/plain": [
       "   Mankessim  KwameDanso\n",
       "p          0           1\n",
       "q          2           3\n",
       "r          4           5\n",
       "s          6           7\n",
       "t          8           9"
      ],
      "text/html": "<div>\n<style scoped>\n    .dataframe tbody tr th:only-of-type {\n        vertical-align: middle;\n    }\n\n    .dataframe tbody tr th {\n        vertical-align: top;\n    }\n\n    .dataframe thead th {\n        text-align: right;\n    }\n</style>\n<table border=\"1\" class=\"dataframe\">\n  <thead>\n    <tr style=\"text-align: right;\">\n      <th></th>\n      <th>Mankessim</th>\n      <th>KwameDanso</th>\n    </tr>\n  </thead>\n  <tbody>\n    <tr>\n      <th>p</th>\n      <td>0</td>\n      <td>1</td>\n    </tr>\n    <tr>\n      <th>q</th>\n      <td>2</td>\n      <td>3</td>\n    </tr>\n    <tr>\n      <th>r</th>\n      <td>4</td>\n      <td>5</td>\n    </tr>\n    <tr>\n      <th>s</th>\n      <td>6</td>\n      <td>7</td>\n    </tr>\n    <tr>\n      <th>t</th>\n      <td>8</td>\n      <td>9</td>\n    </tr>\n  </tbody>\n</table>\n</div>"
     },
     "metadata": {},
     "execution_count": 43
    }
   ],
   "source": [
    "# Dataframe\n",
    "\n",
    "frame = pd.DataFrame(np.arange(10).reshape((5,2)), index= [\"p\", \"q\", \"r\", \"s\", \"t\"], columns=[ \"Mankessim\", \"KwameDanso\"])\n",
    "\n",
    "frame"
   ]
  },
  {
   "cell_type": "code",
   "execution_count": 45,
   "metadata": {},
   "outputs": [
    {
     "output_type": "execute_result",
     "data": {
      "text/plain": [
       "   Mankessim  KwameDanso\n",
       "p          0           1\n",
       "q          2           3\n",
       "s          6           7\n",
       "t          8           9"
      ],
      "text/html": "<div>\n<style scoped>\n    .dataframe tbody tr th:only-of-type {\n        vertical-align: middle;\n    }\n\n    .dataframe tbody tr th {\n        vertical-align: top;\n    }\n\n    .dataframe thead th {\n        text-align: right;\n    }\n</style>\n<table border=\"1\" class=\"dataframe\">\n  <thead>\n    <tr style=\"text-align: right;\">\n      <th></th>\n      <th>Mankessim</th>\n      <th>KwameDanso</th>\n    </tr>\n  </thead>\n  <tbody>\n    <tr>\n      <th>p</th>\n      <td>0</td>\n      <td>1</td>\n    </tr>\n    <tr>\n      <th>q</th>\n      <td>2</td>\n      <td>3</td>\n    </tr>\n    <tr>\n      <th>s</th>\n      <td>6</td>\n      <td>7</td>\n    </tr>\n    <tr>\n      <th>t</th>\n      <td>8</td>\n      <td>9</td>\n    </tr>\n  </tbody>\n</table>\n</div>"
     },
     "metadata": {},
     "execution_count": 45
    }
   ],
   "source": [
    "# Dropping Entries from an Axis\n",
    "\n",
    "frame_2 = frame.drop(\"r\")\n",
    "\n",
    "frame_2"
   ]
  },
  {
   "cell_type": "code",
   "execution_count": 46,
   "metadata": {},
   "outputs": [
    {
     "output_type": "execute_result",
     "data": {
      "text/plain": [
       "   Mankessim  KwameDanso\n",
       "q          2           3\n",
       "s          6           7\n",
       "t          8           9"
      ],
      "text/html": "<div>\n<style scoped>\n    .dataframe tbody tr th:only-of-type {\n        vertical-align: middle;\n    }\n\n    .dataframe tbody tr th {\n        vertical-align: top;\n    }\n\n    .dataframe thead th {\n        text-align: right;\n    }\n</style>\n<table border=\"1\" class=\"dataframe\">\n  <thead>\n    <tr style=\"text-align: right;\">\n      <th></th>\n      <th>Mankessim</th>\n      <th>KwameDanso</th>\n    </tr>\n  </thead>\n  <tbody>\n    <tr>\n      <th>q</th>\n      <td>2</td>\n      <td>3</td>\n    </tr>\n    <tr>\n      <th>s</th>\n      <td>6</td>\n      <td>7</td>\n    </tr>\n    <tr>\n      <th>t</th>\n      <td>8</td>\n      <td>9</td>\n    </tr>\n  </tbody>\n</table>\n</div>"
     },
     "metadata": {},
     "execution_count": 46
    }
   ],
   "source": [
    "# Dropping more than one entry\n",
    "\n",
    "frame_3 = frame.drop([\"p\", \"r\"])\n",
    "\n",
    "frame_3"
   ]
  },
  {
   "cell_type": "code",
   "execution_count": 47,
   "metadata": {},
   "outputs": [
    {
     "output_type": "execute_result",
     "data": {
      "text/plain": [
       "   Mankessim  KwameDanso\n",
       "p          0           1\n",
       "r          4           5\n",
       "t          8           9"
      ],
      "text/html": "<div>\n<style scoped>\n    .dataframe tbody tr th:only-of-type {\n        vertical-align: middle;\n    }\n\n    .dataframe tbody tr th {\n        vertical-align: top;\n    }\n\n    .dataframe thead th {\n        text-align: right;\n    }\n</style>\n<table border=\"1\" class=\"dataframe\">\n  <thead>\n    <tr style=\"text-align: right;\">\n      <th></th>\n      <th>Mankessim</th>\n      <th>KwameDanso</th>\n    </tr>\n  </thead>\n  <tbody>\n    <tr>\n      <th>p</th>\n      <td>0</td>\n      <td>1</td>\n    </tr>\n    <tr>\n      <th>r</th>\n      <td>4</td>\n      <td>5</td>\n    </tr>\n    <tr>\n      <th>t</th>\n      <td>8</td>\n      <td>9</td>\n    </tr>\n  </tbody>\n</table>\n</div>"
     },
     "metadata": {},
     "execution_count": 47
    }
   ],
   "source": [
    "# Inplace filtering without returning a new object\n",
    "\n",
    "frame.drop([\"q\", \"s\"], inplace= True)\n",
    "\n",
    "frame\n",
    "\n"
   ]
  },
  {
   "cell_type": "code",
   "execution_count": 48,
   "metadata": {},
   "outputs": [
    {
     "output_type": "execute_result",
     "data": {
      "text/plain": [
       "k    0.0\n",
       "l    1.0\n",
       "m    2.0\n",
       "n    3.0\n",
       "o    4.0\n",
       "p    5.0\n",
       "q    6.0\n",
       "r    7.0\n",
       "s    8.0\n",
       "t    9.0\n",
       "dtype: float64"
      ]
     },
     "metadata": {},
     "execution_count": 48
    }
   ],
   "source": [
    "# Indexing, Selection, and Filtering: Series edition\n",
    "\n",
    "obj = pd.Series(np.arange(10.), index=[\"k\", \"l\", \"m\", \"n\", \"o\", \"p\", \"q\", \"r\", \"s\",\"t\"])\n",
    "\n",
    "obj"
   ]
  },
  {
   "cell_type": "code",
   "execution_count": 50,
   "metadata": {},
   "outputs": [
    {
     "output_type": "execute_result",
     "data": {
      "text/plain": [
       "8.0"
      ]
     },
     "metadata": {},
     "execution_count": 50
    }
   ],
   "source": [
    "# Indexing, Selection, and Filtering: Series edition\n",
    "\n",
    "obj[\"s\"]"
   ]
  },
  {
   "cell_type": "code",
   "execution_count": 51,
   "metadata": {},
   "outputs": [
    {
     "output_type": "execute_result",
     "data": {
      "text/plain": [
       "1.0"
      ]
     },
     "metadata": {},
     "execution_count": 51
    }
   ],
   "source": [
    "# Indexing, Selection, and Filtering: Series edition\n",
    "\n",
    "obj[1]"
   ]
  },
  {
   "cell_type": "code",
   "execution_count": 52,
   "metadata": {},
   "outputs": [
    {
     "output_type": "execute_result",
     "data": {
      "text/plain": [
       "m    2.0\n",
       "n    3.0\n",
       "dtype: float64"
      ]
     },
     "metadata": {},
     "execution_count": 52
    }
   ],
   "source": [
    "# Indexing, Selection, and Filtering: Series edition\n",
    "\n",
    "obj[2:4]"
   ]
  },
  {
   "cell_type": "code",
   "execution_count": 53,
   "metadata": {},
   "outputs": [
    {
     "output_type": "execute_result",
     "data": {
      "text/plain": [
       "k    0.0\n",
       "p    5.0\n",
       "m    2.0\n",
       "dtype: float64"
      ]
     },
     "metadata": {},
     "execution_count": 53
    }
   ],
   "source": [
    "# Indexing, Selection, and Filtering: Series edition\n",
    "\n",
    "obj[[\"k\", \"p\", \"m\"]]"
   ]
  },
  {
   "cell_type": "code",
   "execution_count": 54,
   "metadata": {},
   "outputs": [
    {
     "output_type": "execute_result",
     "data": {
      "text/plain": [
       "l    1.0\n",
       "n    3.0\n",
       "p    5.0\n",
       "dtype: float64"
      ]
     },
     "metadata": {},
     "execution_count": 54
    }
   ],
   "source": [
    "# Indexing, Selection, and Filtering: Series edition\n",
    "\n",
    "obj[[1, 3, 5]]"
   ]
  },
  {
   "cell_type": "code",
   "execution_count": 55,
   "metadata": {},
   "outputs": [
    {
     "output_type": "execute_result",
     "data": {
      "text/plain": [
       "q    6.0\n",
       "r    7.0\n",
       "s    8.0\n",
       "t    9.0\n",
       "dtype: float64"
      ]
     },
     "metadata": {},
     "execution_count": 55
    }
   ],
   "source": [
    "# Indexing, Selection, and Filtering: Series edition\n",
    "\n",
    "obj[obj > 5]"
   ]
  },
  {
   "cell_type": "code",
   "execution_count": 56,
   "metadata": {},
   "outputs": [
    {
     "output_type": "execute_result",
     "data": {
      "text/plain": [
       "k    0.0\n",
       "l    1.0\n",
       "m    2.0\n",
       "n    3.0\n",
       "o    4.0\n",
       "p    5.0\n",
       "q    6.0\n",
       "dtype: float64"
      ]
     },
     "metadata": {},
     "execution_count": 56
    }
   ],
   "source": [
    "# Indexing, Selection, and Filtering: Series edition\n",
    "\n",
    "\n",
    "# Slicing with labels behaves differently than normal python slicing in that the end-point is inclusive\n",
    "obj[\"k\" : \"q\"]"
   ]
  },
  {
   "cell_type": "code",
   "execution_count": 58,
   "metadata": {},
   "outputs": [
    {
     "output_type": "execute_result",
     "data": {
      "text/plain": [
       "k    100.0\n",
       "l    200.0\n",
       "m    300.0\n",
       "n      3.0\n",
       "o      4.0\n",
       "p      5.0\n",
       "q      6.0\n",
       "r      7.0\n",
       "s      8.0\n",
       "t      9.0\n",
       "dtype: float64"
      ]
     },
     "metadata": {},
     "execution_count": 58
    }
   ],
   "source": [
    "# Indexing, Selection, and Filtering: Series edition\n",
    "\n",
    "obj[\"k\" : \"m\"] = [100, 200, 300]\n",
    "\n",
    "obj"
   ]
  },
  {
   "cell_type": "code",
   "execution_count": 62,
   "metadata": {},
   "outputs": [
    {
     "output_type": "execute_result",
     "data": {
      "text/plain": [
       "   Accra  Mankessim  Drobo  Sefwi\n",
       "0      0          1      2      3\n",
       "1      4          5      6      7\n",
       "2      8          9     10     11\n",
       "3     12         13     14     15\n",
       "4     16         17     18     19"
      ],
      "text/html": "<div>\n<style scoped>\n    .dataframe tbody tr th:only-of-type {\n        vertical-align: middle;\n    }\n\n    .dataframe tbody tr th {\n        vertical-align: top;\n    }\n\n    .dataframe thead th {\n        text-align: right;\n    }\n</style>\n<table border=\"1\" class=\"dataframe\">\n  <thead>\n    <tr style=\"text-align: right;\">\n      <th></th>\n      <th>Accra</th>\n      <th>Mankessim</th>\n      <th>Drobo</th>\n      <th>Sefwi</th>\n    </tr>\n  </thead>\n  <tbody>\n    <tr>\n      <th>0</th>\n      <td>0</td>\n      <td>1</td>\n      <td>2</td>\n      <td>3</td>\n    </tr>\n    <tr>\n      <th>1</th>\n      <td>4</td>\n      <td>5</td>\n      <td>6</td>\n      <td>7</td>\n    </tr>\n    <tr>\n      <th>2</th>\n      <td>8</td>\n      <td>9</td>\n      <td>10</td>\n      <td>11</td>\n    </tr>\n    <tr>\n      <th>3</th>\n      <td>12</td>\n      <td>13</td>\n      <td>14</td>\n      <td>15</td>\n    </tr>\n    <tr>\n      <th>4</th>\n      <td>16</td>\n      <td>17</td>\n      <td>18</td>\n      <td>19</td>\n    </tr>\n  </tbody>\n</table>\n</div>"
     },
     "metadata": {},
     "execution_count": 62
    }
   ],
   "source": [
    "# Indexing, Selection, and Filtering: DataFrame edition\n",
    "\n",
    "\n",
    "obj = pd.DataFrame(np.arange(20).reshape((5,4)), columns=[\"Accra\", \"Mankessim\", \"Drobo\", \"Sefwi\"])\n",
    "\n",
    "obj"
   ]
  },
  {
   "cell_type": "code",
   "execution_count": 63,
   "metadata": {},
   "outputs": [
    {
     "output_type": "execute_result",
     "data": {
      "text/plain": [
       "0     0\n",
       "1     4\n",
       "2     8\n",
       "3    12\n",
       "4    16\n",
       "Name: Accra, dtype: int64"
      ]
     },
     "metadata": {},
     "execution_count": 63
    }
   ],
   "source": [
    "# Indexing, Selection, and Filtering: DataFrame edition\n",
    "\n",
    "\n",
    "obj[\"Accra\"]"
   ]
  },
  {
   "cell_type": "code",
   "execution_count": 64,
   "metadata": {},
   "outputs": [
    {
     "output_type": "execute_result",
     "data": {
      "text/plain": [
       "   Mankessim  Sefwi\n",
       "0          1      3\n",
       "1          5      7\n",
       "2          9     11\n",
       "3         13     15\n",
       "4         17     19"
      ],
      "text/html": "<div>\n<style scoped>\n    .dataframe tbody tr th:only-of-type {\n        vertical-align: middle;\n    }\n\n    .dataframe tbody tr th {\n        vertical-align: top;\n    }\n\n    .dataframe thead th {\n        text-align: right;\n    }\n</style>\n<table border=\"1\" class=\"dataframe\">\n  <thead>\n    <tr style=\"text-align: right;\">\n      <th></th>\n      <th>Mankessim</th>\n      <th>Sefwi</th>\n    </tr>\n  </thead>\n  <tbody>\n    <tr>\n      <th>0</th>\n      <td>1</td>\n      <td>3</td>\n    </tr>\n    <tr>\n      <th>1</th>\n      <td>5</td>\n      <td>7</td>\n    </tr>\n    <tr>\n      <th>2</th>\n      <td>9</td>\n      <td>11</td>\n    </tr>\n    <tr>\n      <th>3</th>\n      <td>13</td>\n      <td>15</td>\n    </tr>\n    <tr>\n      <th>4</th>\n      <td>17</td>\n      <td>19</td>\n    </tr>\n  </tbody>\n</table>\n</div>"
     },
     "metadata": {},
     "execution_count": 64
    }
   ],
   "source": [
    "# Indexing, Selection, and Filtering: DataFrame edition\n",
    "\n",
    "obj[[\"Mankessim\", \"Sefwi\"]]"
   ]
  },
  {
   "cell_type": "code",
   "execution_count": 65,
   "metadata": {},
   "outputs": [
    {
     "output_type": "execute_result",
     "data": {
      "text/plain": [
       "   Accra  Mankessim  Drobo  Sefwi\n",
       "0      0          1      2      3\n",
       "1      4          5      6      7\n",
       "2      8          9     10     11"
      ],
      "text/html": "<div>\n<style scoped>\n    .dataframe tbody tr th:only-of-type {\n        vertical-align: middle;\n    }\n\n    .dataframe tbody tr th {\n        vertical-align: top;\n    }\n\n    .dataframe thead th {\n        text-align: right;\n    }\n</style>\n<table border=\"1\" class=\"dataframe\">\n  <thead>\n    <tr style=\"text-align: right;\">\n      <th></th>\n      <th>Accra</th>\n      <th>Mankessim</th>\n      <th>Drobo</th>\n      <th>Sefwi</th>\n    </tr>\n  </thead>\n  <tbody>\n    <tr>\n      <th>0</th>\n      <td>0</td>\n      <td>1</td>\n      <td>2</td>\n      <td>3</td>\n    </tr>\n    <tr>\n      <th>1</th>\n      <td>4</td>\n      <td>5</td>\n      <td>6</td>\n      <td>7</td>\n    </tr>\n    <tr>\n      <th>2</th>\n      <td>8</td>\n      <td>9</td>\n      <td>10</td>\n      <td>11</td>\n    </tr>\n  </tbody>\n</table>\n</div>"
     },
     "metadata": {},
     "execution_count": 65
    }
   ],
   "source": [
    "# Indexing, Selection, and Filtering: DataFrame edition\n",
    "\n",
    "obj[:3]"
   ]
  },
  {
   "cell_type": "code",
   "execution_count": 69,
   "metadata": {},
   "outputs": [
    {
     "output_type": "execute_result",
     "data": {
      "text/plain": [
       "   Accra  Mankessim  Drobo  Sefwi\n",
       "0      0          1      2      3\n",
       "1      4          5      6      7"
      ],
      "text/html": "<div>\n<style scoped>\n    .dataframe tbody tr th:only-of-type {\n        vertical-align: middle;\n    }\n\n    .dataframe tbody tr th {\n        vertical-align: top;\n    }\n\n    .dataframe thead th {\n        text-align: right;\n    }\n</style>\n<table border=\"1\" class=\"dataframe\">\n  <thead>\n    <tr style=\"text-align: right;\">\n      <th></th>\n      <th>Accra</th>\n      <th>Mankessim</th>\n      <th>Drobo</th>\n      <th>Sefwi</th>\n    </tr>\n  </thead>\n  <tbody>\n    <tr>\n      <th>0</th>\n      <td>0</td>\n      <td>1</td>\n      <td>2</td>\n      <td>3</td>\n    </tr>\n    <tr>\n      <th>1</th>\n      <td>4</td>\n      <td>5</td>\n      <td>6</td>\n      <td>7</td>\n    </tr>\n  </tbody>\n</table>\n</div>"
     },
     "metadata": {},
     "execution_count": 69
    }
   ],
   "source": [
    "# Indexing, Selection, and Filtering: DataFrame edition\n",
    "\n",
    "obj[obj[\"Accra\"] < 5]\n"
   ]
  },
  {
   "cell_type": "code",
   "execution_count": 71,
   "metadata": {},
   "outputs": [
    {
     "output_type": "execute_result",
     "data": {
      "text/plain": [
       "   Accra  Mankessim  Drobo  Sefwi\n",
       "0    0.0        1.0    2.0    3.0\n",
       "1    4.0        5.0    6.0    7.0\n",
       "2    NaN        NaN    NaN    NaN\n",
       "3    NaN        NaN    NaN    NaN\n",
       "4    NaN        NaN    NaN    NaN"
      ],
      "text/html": "<div>\n<style scoped>\n    .dataframe tbody tr th:only-of-type {\n        vertical-align: middle;\n    }\n\n    .dataframe tbody tr th {\n        vertical-align: top;\n    }\n\n    .dataframe thead th {\n        text-align: right;\n    }\n</style>\n<table border=\"1\" class=\"dataframe\">\n  <thead>\n    <tr style=\"text-align: right;\">\n      <th></th>\n      <th>Accra</th>\n      <th>Mankessim</th>\n      <th>Drobo</th>\n      <th>Sefwi</th>\n    </tr>\n  </thead>\n  <tbody>\n    <tr>\n      <th>0</th>\n      <td>0.0</td>\n      <td>1.0</td>\n      <td>2.0</td>\n      <td>3.0</td>\n    </tr>\n    <tr>\n      <th>1</th>\n      <td>4.0</td>\n      <td>5.0</td>\n      <td>6.0</td>\n      <td>7.0</td>\n    </tr>\n    <tr>\n      <th>2</th>\n      <td>NaN</td>\n      <td>NaN</td>\n      <td>NaN</td>\n      <td>NaN</td>\n    </tr>\n    <tr>\n      <th>3</th>\n      <td>NaN</td>\n      <td>NaN</td>\n      <td>NaN</td>\n      <td>NaN</td>\n    </tr>\n    <tr>\n      <th>4</th>\n      <td>NaN</td>\n      <td>NaN</td>\n      <td>NaN</td>\n      <td>NaN</td>\n    </tr>\n  </tbody>\n</table>\n</div>"
     },
     "metadata": {},
     "execution_count": 71
    }
   ],
   "source": [
    "# Indexing, Selection, and Filtering: DataFrame edition\n",
    "\n",
    "obj[obj < 8]"
   ]
  },
  {
   "cell_type": "code",
   "execution_count": 72,
   "metadata": {},
   "outputs": [
    {
     "output_type": "execute_result",
     "data": {
      "text/plain": [
       "   Sefwi  Accra\n",
       "0      3      0"
      ],
      "text/html": "<div>\n<style scoped>\n    .dataframe tbody tr th:only-of-type {\n        vertical-align: middle;\n    }\n\n    .dataframe tbody tr th {\n        vertical-align: top;\n    }\n\n    .dataframe thead th {\n        text-align: right;\n    }\n</style>\n<table border=\"1\" class=\"dataframe\">\n  <thead>\n    <tr style=\"text-align: right;\">\n      <th></th>\n      <th>Sefwi</th>\n      <th>Accra</th>\n    </tr>\n  </thead>\n  <tbody>\n    <tr>\n      <th>0</th>\n      <td>3</td>\n      <td>0</td>\n    </tr>\n  </tbody>\n</table>\n</div>"
     },
     "metadata": {},
     "execution_count": 72
    }
   ],
   "source": [
    "# Selection with loc and iloc\n",
    "\n",
    "# Single row with multiple columns\n",
    "\n",
    "\n",
    "obj.loc[[0], [\"Sefwi\", \"Accra\"]]\n"
   ]
  },
  {
   "cell_type": "code",
   "execution_count": 74,
   "metadata": {},
   "outputs": [
    {
     "output_type": "execute_result",
     "data": {
      "text/plain": [
       "   Sefwi  Drobo  Mankessim\n",
       "2     11     10          9"
      ],
      "text/html": "<div>\n<style scoped>\n    .dataframe tbody tr th:only-of-type {\n        vertical-align: middle;\n    }\n\n    .dataframe tbody tr th {\n        vertical-align: top;\n    }\n\n    .dataframe thead th {\n        text-align: right;\n    }\n</style>\n<table border=\"1\" class=\"dataframe\">\n  <thead>\n    <tr style=\"text-align: right;\">\n      <th></th>\n      <th>Sefwi</th>\n      <th>Drobo</th>\n      <th>Mankessim</th>\n    </tr>\n  </thead>\n  <tbody>\n    <tr>\n      <th>2</th>\n      <td>11</td>\n      <td>10</td>\n      <td>9</td>\n    </tr>\n  </tbody>\n</table>\n</div>"
     },
     "metadata": {},
     "execution_count": 74
    }
   ],
   "source": [
    "# Selection with loc and iloc\n",
    "\n",
    "# Single row with multiple columns with iloc\n",
    "\n",
    "obj.iloc[[2], [3, 2, 1]]"
   ]
  },
  {
   "cell_type": "code",
   "execution_count": 75,
   "metadata": {},
   "outputs": [
    {
     "output_type": "execute_result",
     "data": {
      "text/plain": [
       "   Sefwi  Drobo  Mankessim\n",
       "4     19     18         17\n",
       "2     11     10          9\n",
       "0      3      2          1"
      ],
      "text/html": "<div>\n<style scoped>\n    .dataframe tbody tr th:only-of-type {\n        vertical-align: middle;\n    }\n\n    .dataframe tbody tr th {\n        vertical-align: top;\n    }\n\n    .dataframe thead th {\n        text-align: right;\n    }\n</style>\n<table border=\"1\" class=\"dataframe\">\n  <thead>\n    <tr style=\"text-align: right;\">\n      <th></th>\n      <th>Sefwi</th>\n      <th>Drobo</th>\n      <th>Mankessim</th>\n    </tr>\n  </thead>\n  <tbody>\n    <tr>\n      <th>4</th>\n      <td>19</td>\n      <td>18</td>\n      <td>17</td>\n    </tr>\n    <tr>\n      <th>2</th>\n      <td>11</td>\n      <td>10</td>\n      <td>9</td>\n    </tr>\n    <tr>\n      <th>0</th>\n      <td>3</td>\n      <td>2</td>\n      <td>1</td>\n    </tr>\n  </tbody>\n</table>\n</div>"
     },
     "metadata": {},
     "execution_count": 75
    }
   ],
   "source": [
    "# Selection with loc and iloc\n",
    "\n",
    "# Multiple row with multiple columns with iloc\n",
    "\n",
    "obj.iloc[[4, 2, 0], [3, 2, 1]]"
   ]
  },
  {
   "cell_type": "code",
   "execution_count": 76,
   "metadata": {},
   "outputs": [
    {
     "output_type": "execute_result",
     "data": {
      "text/plain": [
       "   Accra  Mankessim  Drobo\n",
       "2      8          9     10\n",
       "3     12         13     14\n",
       "4     16         17     18"
      ],
      "text/html": "<div>\n<style scoped>\n    .dataframe tbody tr th:only-of-type {\n        vertical-align: middle;\n    }\n\n    .dataframe tbody tr th {\n        vertical-align: top;\n    }\n\n    .dataframe thead th {\n        text-align: right;\n    }\n</style>\n<table border=\"1\" class=\"dataframe\">\n  <thead>\n    <tr style=\"text-align: right;\">\n      <th></th>\n      <th>Accra</th>\n      <th>Mankessim</th>\n      <th>Drobo</th>\n    </tr>\n  </thead>\n  <tbody>\n    <tr>\n      <th>2</th>\n      <td>8</td>\n      <td>9</td>\n      <td>10</td>\n    </tr>\n    <tr>\n      <th>3</th>\n      <td>12</td>\n      <td>13</td>\n      <td>14</td>\n    </tr>\n    <tr>\n      <th>4</th>\n      <td>16</td>\n      <td>17</td>\n      <td>18</td>\n    </tr>\n  </tbody>\n</table>\n</div>"
     },
     "metadata": {},
     "execution_count": 76
    }
   ],
   "source": [
    "obj.iloc[ :, : 3][obj.Mankessim > 5]"
   ]
  },
  {
   "cell_type": "code",
   "execution_count": 1,
   "metadata": {},
   "outputs": [
    {
     "output_type": "execute_result",
     "data": {
      "text/plain": [
       "'17.89'"
      ]
     },
     "metadata": {},
     "execution_count": 1
    }
   ],
   "source": [
    "# Formatting Strings Presentation Types\n",
    "\n",
    "f\"{17.886:.2f}\""
   ]
  },
  {
   "cell_type": "code",
   "execution_count": 2,
   "metadata": {},
   "outputs": [
    {
     "output_type": "execute_result",
     "data": {
      "text/plain": [
       "'10'"
      ]
     },
     "metadata": {},
     "execution_count": 2
    }
   ],
   "source": [
    "# Formatting Strings Presentation Types\n",
    "\n",
    "f\"{10:d}\""
   ]
  },
  {
   "cell_type": "code",
   "execution_count": 3,
   "metadata": {},
   "outputs": [
    {
     "output_type": "execute_result",
     "data": {
      "text/plain": [
       "'1000000.000'"
      ]
     },
     "metadata": {},
     "execution_count": 3
    }
   ],
   "source": [
    "from decimal import Decimal\n",
    "\n",
    "f\"{Decimal(1000000.0):.3f}\""
   ]
  },
  {
   "cell_type": "code",
   "execution_count": 4,
   "metadata": {},
   "outputs": [
    {
     "output_type": "execute_result",
     "data": {
      "text/plain": [
       "': - )'"
      ]
     },
     "metadata": {},
     "execution_count": 4
    }
   ],
   "source": [
    "# Self Check\n",
    "\n",
    "f\"{58:c} {45:c} {41:c}\""
   ]
  },
  {
   "cell_type": "code",
   "execution_count": 5,
   "metadata": {},
   "outputs": [
    {
     "output_type": "execute_result",
     "data": {
      "text/plain": [
       "'       100'"
      ]
     },
     "metadata": {},
     "execution_count": 5
    }
   ],
   "source": [
    "# Field width\n",
    "f\"{100:10d}\""
   ]
  },
  {
   "cell_type": "code",
   "execution_count": 6,
   "metadata": {},
   "outputs": [
    {
     "output_type": "execute_result",
     "data": {
      "text/plain": [
       "'  3.500000'"
      ]
     },
     "metadata": {},
     "execution_count": 6
    }
   ],
   "source": [
    "f\"{3.5:10f}\""
   ]
  },
  {
   "cell_type": "code",
   "execution_count": 8,
   "metadata": {},
   "outputs": [
    {
     "output_type": "execute_result",
     "data": {
      "text/plain": [
       "'[hello     ]'"
      ]
     },
     "metadata": {},
     "execution_count": 8
    }
   ],
   "source": [
    "f\"[{'hello':10}]\""
   ]
  },
  {
   "cell_type": "code",
   "execution_count": 9,
   "metadata": {},
   "outputs": [
    {
     "output_type": "execute_result",
     "data": {
      "text/plain": [
       "'[27             ]'"
      ]
     },
     "metadata": {},
     "execution_count": 9
    }
   ],
   "source": [
    "f\"[{27:<15d}]\""
   ]
  },
  {
   "cell_type": "code",
   "execution_count": 12,
   "metadata": {},
   "outputs": [
    {
     "output_type": "execute_result",
     "data": {
      "text/plain": [
       "'[3.500000       ]'"
      ]
     },
     "metadata": {},
     "execution_count": 12
    }
   ],
   "source": [
    "f\"[{3.5:<15f}]\""
   ]
  },
  {
   "cell_type": "code",
   "execution_count": 14,
   "metadata": {},
   "outputs": [
    {
     "output_type": "execute_result",
     "data": {
      "text/plain": [
       "'[          hello]'"
      ]
     },
     "metadata": {},
     "execution_count": 14
    }
   ],
   "source": [
    "f\"[{'hello':>15}]\""
   ]
  },
  {
   "cell_type": "code",
   "execution_count": 16,
   "metadata": {},
   "outputs": [
    {
     "output_type": "execute_result",
     "data": {
      "text/plain": [
       "'[  27   ]'"
      ]
     },
     "metadata": {},
     "execution_count": 16
    }
   ],
   "source": [
    "f\"[{27:^7}]\""
   ]
  },
  {
   "cell_type": "code",
   "execution_count": 17,
   "metadata": {},
   "outputs": [
    {
     "output_type": "execute_result",
     "data": {
      "text/plain": [
       "'[    Amanda]'"
      ]
     },
     "metadata": {},
     "execution_count": 17
    }
   ],
   "source": [
    "f\"[{'Amanda':>10}]\""
   ]
  },
  {
   "cell_type": "code",
   "execution_count": 18,
   "metadata": {},
   "outputs": [
    {
     "output_type": "execute_result",
     "data": {
      "text/plain": [
       "'[  Amanda  ]'"
      ]
     },
     "metadata": {},
     "execution_count": 18
    }
   ],
   "source": [
    "f\"[{'Amanda':^10}]\""
   ]
  },
  {
   "cell_type": "code",
   "execution_count": 19,
   "metadata": {},
   "outputs": [
    {
     "output_type": "execute_result",
     "data": {
      "text/plain": [
       "'[Amanda    ]'"
      ]
     },
     "metadata": {},
     "execution_count": 19
    }
   ],
   "source": [
    "f\"[{'Amanda':<10}]\""
   ]
  },
  {
   "cell_type": "code",
   "execution_count": 20,
   "metadata": {},
   "outputs": [
    {
     "output_type": "execute_result",
     "data": {
      "text/plain": [
       "'[       +27]'"
      ]
     },
     "metadata": {},
     "execution_count": 20
    }
   ],
   "source": [
    "# Numeric Strings formatting\n",
    "\n",
    "f\"[{27:+10d}]\"\n"
   ]
  },
  {
   "cell_type": "code",
   "execution_count": 21,
   "metadata": {},
   "outputs": [
    {
     "output_type": "execute_result",
     "data": {
      "text/plain": [
       "'[+000000027]'"
      ]
     },
     "metadata": {},
     "execution_count": 21
    }
   ],
   "source": [
    "# Numeric Strings formatting\n",
    "\n",
    "f\"[{27:+010d}]\"\n"
   ]
  },
  {
   "cell_type": "code",
   "execution_count": 22,
   "metadata": {},
   "outputs": [
    {
     "output_type": "stream",
     "name": "stdout",
     "text": [
      "27 \n-27\n"
     ]
    }
   ],
   "source": [
    "# Numeric Strings formatting\n",
    "\n",
    "\n",
    "print(f\"{27:d} \\n{-27: d}\")"
   ]
  },
  {
   "cell_type": "code",
   "execution_count": 23,
   "metadata": {},
   "outputs": [
    {
     "output_type": "execute_result",
     "data": {
      "text/plain": [
       "'[1,234,556,789]'"
      ]
     },
     "metadata": {},
     "execution_count": 23
    }
   ],
   "source": [
    "# Numeric Strings formatting\n",
    "\n",
    "f\"[{1234556789:,d}]\""
   ]
  },
  {
   "cell_type": "code",
   "execution_count": 24,
   "metadata": {},
   "outputs": [
    {
     "output_type": "execute_result",
     "data": {
      "text/plain": [
       "'[1,234,556,789.00]'"
      ]
     },
     "metadata": {},
     "execution_count": 24
    }
   ],
   "source": [
    "# Numeric Strings formatting\n",
    "\n",
    "f\"[{1234556789:,.2f}]\""
   ]
  },
  {
   "cell_type": "code",
   "execution_count": 25,
   "metadata": {},
   "outputs": [
    {
     "output_type": "execute_result",
     "data": {
      "text/plain": [
       "'17.49'"
      ]
     },
     "metadata": {},
     "execution_count": 25
    }
   ],
   "source": [
    "# Strings format method\n",
    "\n",
    "\"{:.2f}\".format(17.489)\n"
   ]
  },
  {
   "cell_type": "code",
   "execution_count": 26,
   "metadata": {},
   "outputs": [
    {
     "output_type": "execute_result",
     "data": {
      "text/plain": [
       "'Amanda Gloria Cecilia'"
      ]
     },
     "metadata": {},
     "execution_count": 26
    }
   ],
   "source": [
    "# Strings format method\n",
    "\n",
    "\n",
    "\"{} {} {}\".format(\"Amanda\", \"Gloria\", \"Cecilia\")"
   ]
  },
  {
   "cell_type": "code",
   "execution_count": 27,
   "metadata": {},
   "outputs": [
    {
     "output_type": "execute_result",
     "data": {
      "text/plain": [
       "'Thanks all all'"
      ]
     },
     "metadata": {},
     "execution_count": 27
    }
   ],
   "source": [
    "# Strings format method\n",
    "\n",
    "\"{0} {1} {1}\".format(\"Thanks\", \"all\")"
   ]
  },
  {
   "cell_type": "code",
   "execution_count": 28,
   "metadata": {},
   "outputs": [
    {
     "output_type": "execute_result",
     "data": {
      "text/plain": [
       "'Happy Birthday'"
      ]
     },
     "metadata": {},
     "execution_count": 28
    }
   ],
   "source": [
    "# String Concatenation and Repeating Strings\n",
    "\n",
    "s_1 = \"Happy\"\n",
    "\n",
    "s_2 = \"Birthday\"\n",
    "\n",
    "s_1 += \" \" + s_2\n",
    "\n",
    "s_1"
   ]
  },
  {
   "cell_type": "code",
   "execution_count": 29,
   "metadata": {},
   "outputs": [
    {
     "output_type": "execute_result",
     "data": {
      "text/plain": [
       "'**********'"
      ]
     },
     "metadata": {},
     "execution_count": 29
    }
   ],
   "source": [
    "# String Concatenation and Repeating Strings\n",
    "\n",
    "\"*\" * 10"
   ]
  },
  {
   "cell_type": "code",
   "execution_count": 32,
   "metadata": {},
   "outputs": [
    {
     "output_type": "execute_result",
     "data": {
      "text/plain": [
       "'This is a test string.'"
      ]
     },
     "metadata": {},
     "execution_count": 32
    }
   ],
   "source": [
    "# Stripping whitespace from strings\n",
    "\n",
    "sentence = \"\\t \\n This is a test string. \\t\\t \\n\"\n",
    "\n",
    "sentence.strip()"
   ]
  },
  {
   "cell_type": "code",
   "execution_count": 33,
   "metadata": {},
   "outputs": [
    {
     "output_type": "execute_result",
     "data": {
      "text/plain": [
       "'This is a test string. \\t\\t \\n'"
      ]
     },
     "metadata": {},
     "execution_count": 33
    }
   ],
   "source": [
    "# Stripping whitespace from strings\n",
    "\n",
    "sentence = \"\\t \\n This is a test string. \\t\\t \\n\"\n",
    "\n",
    "sentence.lstrip()"
   ]
  },
  {
   "cell_type": "code",
   "execution_count": 34,
   "metadata": {},
   "outputs": [
    {
     "output_type": "execute_result",
     "data": {
      "text/plain": [
       "'\\t \\n This is a test string.'"
      ]
     },
     "metadata": {},
     "execution_count": 34
    }
   ],
   "source": [
    "# Stripping whitespace from strings\n",
    "\n",
    "sentence = \"\\t \\n This is a test string. \\t\\t \\n\"\n",
    "\n",
    "sentence.rstrip()"
   ]
  },
  {
   "cell_type": "code",
   "execution_count": 35,
   "metadata": {},
   "outputs": [
    {
     "output_type": "execute_result",
     "data": {
      "text/plain": [
       "'Happy birthday'"
      ]
     },
     "metadata": {},
     "execution_count": 35
    }
   ],
   "source": [
    "# Changing Character Case\n",
    "\n",
    "\"happy birthday\".capitalize()"
   ]
  },
  {
   "cell_type": "code",
   "execution_count": 36,
   "metadata": {},
   "outputs": [
    {
     "output_type": "execute_result",
     "data": {
      "text/plain": [
       "'Strings A Deepper Look'"
      ]
     },
     "metadata": {},
     "execution_count": 36
    }
   ],
   "source": [
    "\"strings a deepper look\".title()"
   ]
  },
  {
   "cell_type": "code",
   "execution_count": 37,
   "metadata": {},
   "outputs": [
    {
     "output_type": "execute_result",
     "data": {
      "text/plain": [
       "False"
      ]
     },
     "metadata": {},
     "execution_count": 37
    }
   ],
   "source": [
    "# Comparison Operators for Strings\n",
    "\n",
    "\"Orange\" == \"orange\""
   ]
  },
  {
   "cell_type": "code",
   "execution_count": 38,
   "metadata": {},
   "outputs": [
    {
     "output_type": "execute_result",
     "data": {
      "text/plain": [
       "True"
      ]
     },
     "metadata": {},
     "execution_count": 38
    }
   ],
   "source": [
    "# Comparison Operators for Strings\n",
    "\n",
    "\"Orange\" != \"orange\""
   ]
  },
  {
   "cell_type": "code",
   "execution_count": 39,
   "metadata": {},
   "outputs": [
    {
     "output_type": "execute_result",
     "data": {
      "text/plain": [
       "2"
      ]
     },
     "metadata": {},
     "execution_count": 39
    }
   ],
   "source": [
    "# Searching substrings within \n",
    "\n",
    "sentence = \"to be or not to be that is the question\"\n",
    "\n",
    "sentence.count(\"to\")"
   ]
  },
  {
   "cell_type": "code",
   "execution_count": 41,
   "metadata": {},
   "outputs": [
    {
     "output_type": "execute_result",
     "data": {
      "text/plain": [
       "1"
      ]
     },
     "metadata": {},
     "execution_count": 41
    }
   ],
   "source": [
    "# Searching substrings within a string afer index 5\n",
    "\n",
    "sentence.count(\"to\", 5)"
   ]
  },
  {
   "cell_type": "code",
   "execution_count": 42,
   "metadata": {},
   "outputs": [
    {
     "output_type": "execute_result",
     "data": {
      "text/plain": [
       "3"
      ]
     },
     "metadata": {},
     "execution_count": 42
    }
   ],
   "source": [
    "# Searching index of substrings within a string \n",
    "\n",
    "sentence.index(\"be\")"
   ]
  },
  {
   "cell_type": "code",
   "execution_count": 43,
   "metadata": {},
   "outputs": [
    {
     "output_type": "execute_result",
     "data": {
      "text/plain": [
       "16"
      ]
     },
     "metadata": {},
     "execution_count": 43
    }
   ],
   "source": [
    "# Searching index of substrings within a string\n",
    "\n",
    "sentence.rindex(\"be\")"
   ]
  },
  {
   "cell_type": "code",
   "execution_count": 44,
   "metadata": {},
   "outputs": [
    {
     "output_type": "execute_result",
     "data": {
      "text/plain": [
       "True"
      ]
     },
     "metadata": {},
     "execution_count": 44
    }
   ],
   "source": [
    "# Testing for containment\n",
    "\n",
    "\"that\" in sentence"
   ]
  },
  {
   "cell_type": "code",
   "execution_count": 45,
   "metadata": {},
   "outputs": [
    {
     "output_type": "execute_result",
     "data": {
      "text/plain": [
       "False"
      ]
     },
     "metadata": {},
     "execution_count": 45
    }
   ],
   "source": [
    "# Testing for containment\n",
    "\n",
    "\"That\" in sentence"
   ]
  },
  {
   "cell_type": "code",
   "execution_count": 46,
   "metadata": {},
   "outputs": [
    {
     "output_type": "execute_result",
     "data": {
      "text/plain": [
       "False"
      ]
     },
     "metadata": {},
     "execution_count": 46
    }
   ],
   "source": [
    "# Testing for containment\n",
    "\n",
    "\"that\" not in sentence"
   ]
  },
  {
   "cell_type": "code",
   "execution_count": 47,
   "metadata": {},
   "outputs": [
    {
     "output_type": "execute_result",
     "data": {
      "text/plain": [
       "True"
      ]
     },
     "metadata": {},
     "execution_count": 47
    }
   ],
   "source": [
    "# Searching index of substrings within a string\n",
    "\n",
    "sentence.startswith(\"to\")"
   ]
  },
  {
   "cell_type": "code",
   "execution_count": 48,
   "metadata": {},
   "outputs": [
    {
     "output_type": "execute_result",
     "data": {
      "text/plain": [
       "False"
      ]
     },
     "metadata": {},
     "execution_count": 48
    }
   ],
   "source": [
    "# Searching index of substrings within a string\n",
    "\n",
    "sentence.startswith(\"quest\")"
   ]
  },
  {
   "cell_type": "code",
   "execution_count": 51,
   "metadata": {},
   "outputs": [
    {
     "output_type": "stream",
     "name": "stdout",
     "text": [
      "to to that the "
     ]
    }
   ],
   "source": [
    "# Self Check\n",
    "\n",
    "for word in sentence.split():\n",
    "    if word.startswith(\"t\"):\n",
    "        print(word, end=\" \")\n"
   ]
  },
  {
   "cell_type": "code",
   "execution_count": 55,
   "metadata": {},
   "outputs": [
    {
     "output_type": "execute_result",
     "data": {
      "text/plain": [
       "'1,2,3,4,5'"
      ]
     },
     "metadata": {},
     "execution_count": 55
    }
   ],
   "source": [
    "# Replacing substrings\n",
    "\n",
    "values = \"1\\t2\\t3\\t4\\t5\"\n",
    "\n",
    "values.replace(\"\\t\", \",\")"
   ]
  },
  {
   "cell_type": "code",
   "execution_count": 57,
   "metadata": {},
   "outputs": [
    {
     "output_type": "execute_result",
     "data": {
      "text/plain": [
       "'1-->2-->3-->4-->5'"
      ]
     },
     "metadata": {},
     "execution_count": 57
    }
   ],
   "source": [
    "# Self Check\n",
    "\n",
    "values = \"1 2 3 4 5\"\n",
    "\n",
    "values.replace(\" \", \"-->\")"
   ]
  },
  {
   "cell_type": "code",
   "execution_count": 58,
   "metadata": {},
   "outputs": [
    {
     "output_type": "execute_result",
     "data": {
      "text/plain": [
       "['A,', 'B,', 'C,', 'D']"
      ]
     },
     "metadata": {},
     "execution_count": 58
    }
   ],
   "source": [
    "# Splitting and Joining Strings\n",
    "\n",
    "letters = \"A, B, C, D\"\n",
    "\n",
    "letters.split() # This split work on whitespace"
   ]
  },
  {
   "cell_type": "code",
   "execution_count": 60,
   "metadata": {},
   "outputs": [
    {
     "output_type": "execute_result",
     "data": {
      "text/plain": [
       "['A', 'B', 'C', 'D']"
      ]
     },
     "metadata": {},
     "execution_count": 60
    }
   ],
   "source": [
    "# Splitting and Joining Strings\n",
    "\n",
    "letters = \"A, B, C, D\"\n",
    "\n",
    "letters.split(\", \") # This split work on commas and space"
   ]
  },
  {
   "cell_type": "code",
   "execution_count": 61,
   "metadata": {},
   "outputs": [
    {
     "output_type": "execute_result",
     "data": {
      "text/plain": [
       "'A,B,C,D'"
      ]
     },
     "metadata": {},
     "execution_count": 61
    }
   ],
   "source": [
    "# Joining strings\n",
    "\n",
    "letters_list = [\"A\", \"B\", \"C\", \"D\"]\n",
    "\n",
    "\",\".join(letters_list)"
   ]
  },
  {
   "cell_type": "code",
   "execution_count": 63,
   "metadata": {},
   "outputs": [
    {
     "output_type": "execute_result",
     "data": {
      "text/plain": [
       "'0,1,2,3,4,5,6,7,8'"
      ]
     },
     "metadata": {},
     "execution_count": 63
    }
   ],
   "source": [
    "# Joining strings\n",
    "\n",
    "\",\".join([str(i) for i in range(9)])"
   ]
  },
  {
   "cell_type": "code",
   "execution_count": 64,
   "metadata": {},
   "outputs": [
    {
     "output_type": "execute_result",
     "data": {
      "text/plain": [
       "('Amanda', ': ', '89, 97, 92')"
      ]
     },
     "metadata": {},
     "execution_count": 64
    }
   ],
   "source": [
    "# Partition a string at a particular location\n",
    "\n",
    "\"Amanda: 89, 97, 92\".partition(\": \")"
   ]
  },
  {
   "cell_type": "code",
   "execution_count": 66,
   "metadata": {},
   "outputs": [],
   "source": [
    "# Splitlines\n",
    "\n",
    "lines = \"\"\" This is line 1\n",
    "and line 2\n",
    "and line 3 \"\"\""
   ]
  },
  {
   "cell_type": "code",
   "execution_count": 67,
   "metadata": {},
   "outputs": [
    {
     "output_type": "execute_result",
     "data": {
      "text/plain": [
       "[' This is line 1', 'and line 2', 'and line 3 ']"
      ]
     },
     "metadata": {},
     "execution_count": 67
    }
   ],
   "source": [
    "# Splitlines\n",
    "lines.splitlines()"
   ]
  },
  {
   "cell_type": "code",
   "execution_count": 71,
   "metadata": {},
   "outputs": [
    {
     "output_type": "execute_result",
     "data": {
      "text/plain": [
       "'White, Pamela'"
      ]
     },
     "metadata": {},
     "execution_count": 71
    }
   ],
   "source": [
    "# Self Check\n",
    "\n",
    "name = \"Pamela White\"\n",
    "\n",
    "\", \".join(name.split()[ : : -1])"
   ]
  },
  {
   "cell_type": "code",
   "execution_count": 74,
   "metadata": {},
   "outputs": [],
   "source": [
    "# Self Check\n",
    "\n",
    "url = \"http://www.deitel.com/books/PyCDS/table_of_contents.html\"\n",
    "\n",
    "\n",
    "protocol, separator, rest_of_url = url.partition(\"://\")"
   ]
  },
  {
   "cell_type": "code",
   "execution_count": 75,
   "metadata": {},
   "outputs": [
    {
     "output_type": "execute_result",
     "data": {
      "text/plain": [
       "'http'"
      ]
     },
     "metadata": {},
     "execution_count": 75
    }
   ],
   "source": [
    "protocol"
   ]
  },
  {
   "cell_type": "code",
   "execution_count": 76,
   "metadata": {},
   "outputs": [
    {
     "output_type": "execute_result",
     "data": {
      "text/plain": [
       "'://'"
      ]
     },
     "metadata": {},
     "execution_count": 76
    }
   ],
   "source": [
    "separator"
   ]
  },
  {
   "cell_type": "code",
   "execution_count": 77,
   "metadata": {},
   "outputs": [
    {
     "output_type": "execute_result",
     "data": {
      "text/plain": [
       "'www.deitel.com/books/PyCDS/table_of_contents.html'"
      ]
     },
     "metadata": {},
     "execution_count": 77
    }
   ],
   "source": [
    "rest_of_url"
   ]
  },
  {
   "cell_type": "code",
   "execution_count": 78,
   "metadata": {},
   "outputs": [
    {
     "output_type": "execute_result",
     "data": {
      "text/plain": [
       "'books/PyCDS/table_of_contents.html'"
      ]
     },
     "metadata": {},
     "execution_count": 78
    }
   ],
   "source": [
    "host, separator, document_with_path = rest_of_url.partition(\"/\")\n",
    "\n",
    "document_with_path"
   ]
  },
  {
   "cell_type": "code",
   "execution_count": 84,
   "metadata": {},
   "outputs": [
    {
     "output_type": "execute_result",
     "data": {
      "text/plain": [
       "'table_of_contents.html'"
      ]
     },
     "metadata": {},
     "execution_count": 84
    }
   ],
   "source": [
    "rest , separator, document_name = document_with_path.rpartition(\"/\")\n",
    "\n",
    "document_name"
   ]
  },
  {
   "cell_type": "code",
   "execution_count": 85,
   "metadata": {},
   "outputs": [
    {
     "output_type": "execute_result",
     "data": {
      "text/plain": [
       "False"
      ]
     },
     "metadata": {},
     "execution_count": 85
    }
   ],
   "source": [
    "# Character and Character-Testing Methods\n",
    "\n",
    "\"-27\".isdigit()"
   ]
  },
  {
   "cell_type": "code",
   "execution_count": 86,
   "metadata": {},
   "outputs": [
    {
     "output_type": "execute_result",
     "data": {
      "text/plain": [
       "True"
      ]
     },
     "metadata": {},
     "execution_count": 86
    }
   ],
   "source": [
    "# Character and Character-Testing Methods\n",
    "\n",
    "\"27\".isdigit()"
   ]
  },
  {
   "cell_type": "code",
   "execution_count": 87,
   "metadata": {},
   "outputs": [
    {
     "output_type": "execute_result",
     "data": {
      "text/plain": [
       "True"
      ]
     },
     "metadata": {},
     "execution_count": 87
    }
   ],
   "source": [
    "# Character and Character-Testing Methods\n",
    "\n",
    "\"A9876\".isalnum()"
   ]
  },
  {
   "cell_type": "code",
   "execution_count": 88,
   "metadata": {},
   "outputs": [
    {
     "output_type": "execute_result",
     "data": {
      "text/plain": [
       "False"
      ]
     },
     "metadata": {},
     "execution_count": 88
    }
   ],
   "source": [
    "# Character and Character-Testing Methods\n",
    "\n",
    "\"P. O. Box C. E. 12100\".isalnum()"
   ]
  },
  {
   "cell_type": "code",
   "execution_count": 89,
   "metadata": {},
   "outputs": [
    {
     "output_type": "execute_result",
     "data": {
      "text/plain": [
       "'C:\\\\Users\\\\Mlomo\\\\Desktop\\\\Apps'"
      ]
     },
     "metadata": {},
     "execution_count": 89
    }
   ],
   "source": [
    "# Raw Strings\n",
    "\n",
    "file_path = r\"C:\\Users\\Mlomo\\Desktop\\Apps\"\n",
    "\n",
    "file_path"
   ]
  },
  {
   "cell_type": "code",
   "execution_count": 90,
   "metadata": {},
   "outputs": [
    {
     "output_type": "execute_result",
     "data": {
      "text/plain": [
       "'Match'"
      ]
     },
     "metadata": {},
     "execution_count": 90
    }
   ],
   "source": [
    "# Regular Expressions\n",
    "\n",
    "import re\n",
    "\n",
    "pattern = \"02215\"\n",
    "\n",
    "\"Match\" if re.fullmatch(pattern, \"02215\") else \"No Match\""
   ]
  },
  {
   "cell_type": "code",
   "execution_count": 91,
   "metadata": {},
   "outputs": [
    {
     "output_type": "execute_result",
     "data": {
      "text/plain": [
       "'No Match'"
      ]
     },
     "metadata": {},
     "execution_count": 91
    }
   ],
   "source": [
    "# Regular Expressions\n",
    "\n",
    "import re\n",
    "\n",
    "pattern = \"02215\"\n",
    "\n",
    "\"Match\" if re.fullmatch(pattern, \"51220\") else \"No Match\""
   ]
  },
  {
   "cell_type": "code",
   "execution_count": 92,
   "metadata": {},
   "outputs": [
    {
     "output_type": "execute_result",
     "data": {
      "text/plain": [
       "'Valid'"
      ]
     },
     "metadata": {},
     "execution_count": 92
    }
   ],
   "source": [
    "# Regular Expressions\n",
    "\n",
    "\"Valid\" if re.fullmatch(r\"\\d{5}\" , \"00233\") else \"Invalid\"\n",
    "\n",
    "# Valid if five consecutive numbers"
   ]
  },
  {
   "cell_type": "code",
   "execution_count": 93,
   "metadata": {},
   "outputs": [
    {
     "output_type": "execute_result",
     "data": {
      "text/plain": [
       "'Invalid'"
      ]
     },
     "metadata": {},
     "execution_count": 93
    }
   ],
   "source": [
    "# Regular Expressions\n",
    "\n",
    "\"Valid\" if re.fullmatch(r\"\\d{5}\" , \"9903\") else \"Invalid\"\n",
    "\n",
    "# Valid if five consecutive numbers"
   ]
  },
  {
   "cell_type": "code",
   "execution_count": 95,
   "metadata": {},
   "outputs": [
    {
     "output_type": "execute_result",
     "data": {
      "text/plain": [
       "'Valid'"
      ]
     },
     "metadata": {},
     "execution_count": 95
    }
   ],
   "source": [
    "# Custom Character Classes\n",
    "\n",
    "\"Valid\" if re.fullmatch(\"[A-Z][a-z]*\", \"Marvin\") else \"Invalid\"\n",
    "\n",
    "# The special character maps to first character being a Capital letter followed by 0 or more lowercase letters"
   ]
  },
  {
   "cell_type": "code",
   "execution_count": 96,
   "metadata": {},
   "outputs": [
    {
     "output_type": "execute_result",
     "data": {
      "text/plain": [
       "'Invalid'"
      ]
     },
     "metadata": {},
     "execution_count": 96
    }
   ],
   "source": [
    "# Custom Character Classes\n",
    "\n",
    "\"Valid\" if re.fullmatch(\"[A-Z][a-z]*\", \"alvin\") else \"Invalid\"\n",
    "\n",
    "# The special character maps to first character being a Capital letter followed by 0 or more lowercase letters"
   ]
  },
  {
   "cell_type": "code",
   "execution_count": 98,
   "metadata": {},
   "outputs": [
    {
     "output_type": "execute_result",
     "data": {
      "text/plain": [
       "'No match'"
      ]
     },
     "metadata": {},
     "execution_count": 98
    }
   ],
   "source": [
    "# Custom Character Classes\n",
    "\n",
    "\n",
    "\"Match\" if re.fullmatch(\"[^A-Z]\", \"Marvin\") else \"No match\"\n",
    "\n",
    "# Text must NOT begin with a lowercase"
   ]
  },
  {
   "cell_type": "code",
   "execution_count": 99,
   "metadata": {},
   "outputs": [
    {
     "output_type": "execute_result",
     "data": {
      "text/plain": [
       "'No match'"
      ]
     },
     "metadata": {},
     "execution_count": 99
    }
   ],
   "source": [
    "# Custom Character Classes\n",
    "\n",
    "\n",
    "\"Match\" if re.fullmatch(\"[A-Z][a-z]\", \"M\") else \"No match\"\n",
    "\n",
    "# Text must  begin with an uppercase followed by atleast ONE lowercase"
   ]
  },
  {
   "cell_type": "code",
   "execution_count": 100,
   "metadata": {},
   "outputs": [
    {
     "output_type": "execute_result",
     "data": {
      "text/plain": [
       "'Valid'"
      ]
     },
     "metadata": {},
     "execution_count": 100
    }
   ],
   "source": [
    "# Custom Character Classes\n",
    "\n",
    "\n",
    "\"Valid\" if re.fullmatch(\"labell?ed\", \"labeled\") else \"Invalid\"\n",
    "\n",
    "# 0 or one more \"l\" allowed"
   ]
  },
  {
   "cell_type": "code",
   "execution_count": 101,
   "metadata": {},
   "outputs": [
    {
     "output_type": "execute_result",
     "data": {
      "text/plain": [
       "'Valid'"
      ]
     },
     "metadata": {},
     "execution_count": 101
    }
   ],
   "source": [
    "# Custom Character Classes\n",
    "\n",
    "\n",
    "\"Valid\" if re.fullmatch(\"labell?ed\", \"labelled\") else \"Invalid\"\n",
    "\n",
    "# 0 or one more \"l\" allowed"
   ]
  },
  {
   "cell_type": "code",
   "execution_count": 102,
   "metadata": {},
   "outputs": [
    {
     "output_type": "execute_result",
     "data": {
      "text/plain": [
       "'Valid'"
      ]
     },
     "metadata": {},
     "execution_count": 102
    }
   ],
   "source": [
    "# Regular Expressions\n",
    "\n",
    "\"Valid\" if re.fullmatch(r\"\\d{5,10}\" , \"99493403\") else \"Invalid\"\n",
    "\n",
    "# Valid if between five and 10 consecutive numbers"
   ]
  },
  {
   "cell_type": "code",
   "execution_count": 103,
   "metadata": {},
   "outputs": [
    {
     "output_type": "execute_result",
     "data": {
      "text/plain": [
       "'Invalid'"
      ]
     },
     "metadata": {},
     "execution_count": 103
    }
   ],
   "source": [
    "# Regular Expressions\n",
    "\n",
    "\"Valid\" if re.fullmatch(r\"\\d{5,10}\" , \"9403\") else \"Invalid\"\n",
    "\n",
    "# Valid if between five and 10 consecutive numbers"
   ]
  },
  {
   "cell_type": "code",
   "execution_count": 107,
   "metadata": {},
   "outputs": [
    {
     "output_type": "execute_result",
     "data": {
      "text/plain": [
       "'Python'"
      ]
     },
     "metadata": {},
     "execution_count": 107
    }
   ],
   "source": [
    "# Search\n",
    "\n",
    "import re\n",
    "\n",
    "sentence = \"I am loving the Python syntax\"\n",
    "\n",
    "\n",
    "result = re.search(\"Python\", sentence)\n",
    "\n",
    "result.group() if result else \"not found\"\n",
    "\n",
    "\n",
    "# The group syntax returns the substring"
   ]
  },
  {
   "cell_type": "code",
   "execution_count": 108,
   "metadata": {},
   "outputs": [
    {
     "output_type": "execute_result",
     "data": {
      "text/plain": [
       "'tax'"
      ]
     },
     "metadata": {},
     "execution_count": 108
    }
   ],
   "source": [
    "# Search\n",
    "\n",
    "import re\n",
    "\n",
    "sentence = \"I am loving the Python syntax\"\n",
    "\n",
    "\n",
    "result = re.search(\"tax\", sentence)\n",
    "\n",
    "result.group() if result else \"not found\"\n",
    "\n",
    "# The group syntax returns the substring"
   ]
  },
  {
   "cell_type": "code",
   "execution_count": 109,
   "metadata": {},
   "outputs": [
    {
     "output_type": "execute_result",
     "data": {
      "text/plain": [
       "'Brown, Sue'"
      ]
     },
     "metadata": {},
     "execution_count": 109
    }
   ],
   "source": [
    "Clinical_Data = [\"Brown, Sue\", 98.6, 98.4, 98.7, 0]\n",
    "\n",
    "Clinical_Data[0]"
   ]
  },
  {
   "cell_type": "code",
   "execution_count": 111,
   "metadata": {},
   "outputs": [
    {
     "output_type": "execute_result",
     "data": {
      "text/plain": [
       "Boston    02215\n",
       "Miami      2210\n",
       "dtype: object"
      ]
     },
     "metadata": {},
     "execution_count": 111
    }
   ],
   "source": [
    "# Data Validation\n",
    "\n",
    "import pandas as pd\n",
    "\n",
    "zips = pd.Series({\"Boston\" : \"02215\", \"Miami\" : \"2210\"})\n",
    "\n",
    "zips"
   ]
  },
  {
   "cell_type": "code",
   "execution_count": 117,
   "metadata": {},
   "outputs": [
    {
     "output_type": "execute_result",
     "data": {
      "text/plain": [
       "Boston    02215\n",
       "dtype: object"
      ]
     },
     "metadata": {},
     "execution_count": 117
    }
   ],
   "source": [
    "zips[zips.str.match(r\"\\d{5}\") == True]"
   ]
  },
  {
   "cell_type": "code",
   "execution_count": 116,
   "metadata": {},
   "outputs": [
    {
     "output_type": "execute_result",
     "data": {
      "text/plain": [
       "0    True\n",
       "1    True\n",
       "dtype: bool"
      ]
     },
     "metadata": {},
     "execution_count": 116
    }
   ],
   "source": [
    "# Does the string contain this?\n",
    "\n",
    "cities = pd.Series([\"Boston, MA 02215\", \"Miami, FL 33101\"])\n",
    "\n",
    "# Does the string contain state abbreviations\n",
    "\n",
    "cities.str.contains(r\" [A-Z]{2} \")"
   ]
  },
  {
   "cell_type": "code",
   "execution_count": 4,
   "metadata": {},
   "outputs": [
    {
     "output_type": "stream",
     "name": "stdout",
     "text": [
      "Yes\n"
     ]
    }
   ],
   "source": [
    "if 5 < 7:\n",
    "    print(\"Yes\")\n",
    "elif 5 < 6:\n",
    "    print(\"Yup\")"
   ]
  },
  {
   "cell_type": "code",
   "execution_count": 5,
   "metadata": {},
   "outputs": [
    {
     "output_type": "execute_result",
     "data": {
      "text/plain": [
       "'No match'"
      ]
     },
     "metadata": {},
     "execution_count": 5
    }
   ],
   "source": [
    "# Using regular expressions\n",
    "\n",
    "\n",
    "# Importing the package\n",
    "\n",
    "import re\n",
    "\n",
    "\n",
    "# Reference code\n",
    "\n",
    "pattern = \"00233\"\n",
    "\n",
    "\n",
    "# Matching the Code with text\n",
    "\n",
    "\"Match\" if re.fullmatch(pattern, \"00234\") else \"No match\"\n",
    "\n",
    "\n"
   ]
  },
  {
   "cell_type": "code",
   "execution_count": 6,
   "metadata": {},
   "outputs": [
    {
     "output_type": "execute_result",
     "data": {
      "text/plain": [
       "'Valid'"
      ]
     },
     "metadata": {},
     "execution_count": 6
    }
   ],
   "source": [
    "# raw strings  - Metacharacters\n",
    "\n",
    "\"Valid\" if re.fullmatch(r\"\\d{5}\", \"00234\") else \"Invalid\"\n",
    "\n",
    "# Check for 5 consecutive digits"
   ]
  },
  {
   "cell_type": "code",
   "execution_count": 7,
   "metadata": {},
   "outputs": [
    {
     "output_type": "execute_result",
     "data": {
      "text/plain": [
       "'Invalid'"
      ]
     },
     "metadata": {},
     "execution_count": 7
    }
   ],
   "source": [
    "# raw strings  - Metacharacters\n",
    "\n",
    "\"Valid\" if re.fullmatch(r\"\\d{5}\", \"0034\") else \"Invalid\"\n",
    "\n",
    "# Check for 5 consecutive digits"
   ]
  },
  {
   "cell_type": "code",
   "execution_count": 9,
   "metadata": {},
   "outputs": [
    {
     "output_type": "execute_result",
     "data": {
      "text/plain": [
       "'Invalid'"
      ]
     },
     "metadata": {},
     "execution_count": 9
    }
   ],
   "source": [
    "# Creating custom patterns\n",
    "\n",
    "# raw strings  - Metacharacters\n",
    "\n",
    "\"Valid\" if re.fullmatch(\"[A-Z][a-z]*\", \"Wally\") else \"Invalid\"\n",
    "\n",
    "# Check for a pattern that starts with a capital letter followed by small letters"
   ]
  },
  {
   "cell_type": "code",
   "execution_count": 12,
   "metadata": {},
   "outputs": [
    {
     "output_type": "execute_result",
     "data": {
      "text/plain": [
       "'Valid'"
      ]
     },
     "metadata": {},
     "execution_count": 12
    }
   ],
   "source": [
    "# Creating custom patterns\n",
    "\n",
    "# raw strings  - Metacharacters\n",
    "\n",
    "\"Valid\" if re.fullmatch(\"[^a-z]*\", \"1\") else \"Invalid\"\n",
    "\n",
    "# Check for a pattern that does not match lowercase a-z"
   ]
  },
  {
   "cell_type": "code",
   "execution_count": 13,
   "metadata": {},
   "outputs": [
    {
     "output_type": "execute_result",
     "data": {
      "text/plain": [
       "'Valid'"
      ]
     },
     "metadata": {},
     "execution_count": 13
    }
   ],
   "source": [
    "# Creating custom patterns\n",
    "\n",
    "# raw strings  - Metacharacters\n",
    "\n",
    "\"Valid\" if re.fullmatch(\"[+]\"r\"\\d{3}\", \"+233\") else \"Invalid\"\n",
    "\n",
    "# Check for a pattern that begins with a \"+\" followed by three digits"
   ]
  },
  {
   "cell_type": "code",
   "execution_count": 19,
   "metadata": {},
   "outputs": [
    {
     "output_type": "execute_result",
     "data": {
      "text/plain": [
       "'Valid'"
      ]
     },
     "metadata": {},
     "execution_count": 19
    }
   ],
   "source": [
    "# Creating custom patterns\n",
    "\n",
    "# raw strings  - Metacharacters\n",
    "\n",
    "\"Valid\" if re.fullmatch(\"[A-Z][a-z]+\", \"Wally\") else \"Invalid\"\n",
    "\n",
    "# Check for a pattern that begins with a capital letter followed by atleast one small leter"
   ]
  },
  {
   "cell_type": "code",
   "execution_count": 20,
   "metadata": {},
   "outputs": [
    {
     "output_type": "execute_result",
     "data": {
      "text/plain": [
       "'Valid'"
      ]
     },
     "metadata": {},
     "execution_count": 20
    }
   ],
   "source": [
    "# Creating custom patterns\n",
    "\n",
    "# raw strings  - Metacharacters\n",
    "\n",
    "\"Valid\" if re.fullmatch(\"labell?ed\", \"labeled\") else \"Invalid\"\n",
    "\n",
    "# Check for a pattern that would match one or two l's"
   ]
  },
  {
   "cell_type": "code",
   "execution_count": 21,
   "metadata": {},
   "outputs": [
    {
     "output_type": "execute_result",
     "data": {
      "text/plain": [
       "'Valid'"
      ]
     },
     "metadata": {},
     "execution_count": 21
    }
   ],
   "source": [
    "# Creating custom patterns\n",
    "\n",
    "# raw strings  - Metacharacters\n",
    "\n",
    "\"Valid\" if re.fullmatch(\"labell?ed\", \"labelled\") else \"Invalid\"\n",
    "\n",
    "# Check for a pattern that would match one or two l's "
   ]
  },
  {
   "cell_type": "code",
   "execution_count": 24,
   "metadata": {},
   "outputs": [
    {
     "output_type": "execute_result",
     "data": {
      "text/plain": [
       "'Valid'"
      ]
     },
     "metadata": {},
     "execution_count": 24
    }
   ],
   "source": [
    "# Creating custom patterns\n",
    "\n",
    "# raw strings  - Metacharacters\n",
    "\n",
    "\"Valid\" if re.fullmatch(r\"\\d{3,}\", \"123\") else \"Invalid\"\n",
    "\n",
    "# Check for a pattern that would match atleast 3 digits"
   ]
  },
  {
   "cell_type": "code",
   "execution_count": 25,
   "metadata": {},
   "outputs": [
    {
     "output_type": "execute_result",
     "data": {
      "text/plain": [
       "'Valid'"
      ]
     },
     "metadata": {},
     "execution_count": 25
    }
   ],
   "source": [
    "# Creating custom patterns\n",
    "\n",
    "# raw strings  - Metacharacters\n",
    "\n",
    "\"Valid\" if re.fullmatch(r\"\\d{3,6}\", \"12367\") else \"Invalid\"\n",
    "\n",
    "# Check for a pattern that would match atleast 3 digits or atmost 6"
   ]
  },
  {
   "cell_type": "code",
   "execution_count": 26,
   "metadata": {},
   "outputs": [
    {
     "output_type": "execute_result",
     "data": {
      "text/plain": [
       "'Valid'"
      ]
     },
     "metadata": {},
     "execution_count": 26
    }
   ],
   "source": [
    "# Creating custom patterns\n",
    "\n",
    "# raw strings  - Metacharacters\n",
    "\n",
    "\"Valid\" if re.fullmatch(r\"\\d+ [A-Z][a-z]* [A-Z][a-z]*\", \"123 Main Street\") else \"Invalid\"\n",
    "\n",
    "# Check for a pattern that would match atleast 3 digits"
   ]
  },
  {
   "cell_type": "code",
   "execution_count": 27,
   "metadata": {},
   "outputs": [
    {
     "output_type": "execute_result",
     "data": {
      "text/plain": [
       "'1, 2, 3, 4, 5'"
      ]
     },
     "metadata": {},
     "execution_count": 27
    }
   ],
   "source": [
    "# Placing and Splitting substrings\n",
    "\n",
    "# Substituting all \"\\t\" in a string with \",\"\n",
    "\n",
    "a_String = \"1\\t2\\t3\\t4\\t5\" \n",
    "\n",
    "re.sub(r\"\\t\", \", \", a_String)\n",
    "\n"
   ]
  },
  {
   "cell_type": "code",
   "execution_count": 28,
   "metadata": {},
   "outputs": [
    {
     "output_type": "execute_result",
     "data": {
      "text/plain": [
       "'1, 2, 3\\t4\\t5'"
      ]
     },
     "metadata": {},
     "execution_count": 28
    }
   ],
   "source": [
    "# Placing and Splitting substrings\n",
    "\n",
    "# Substituting the first 2 \"\\t\" in a string with \",\"\n",
    "\n",
    "a_String = \"1\\t2\\t3\\t4\\t5\" \n",
    "\n",
    "re.sub(r\"\\t\", \", \", a_String, count= 2)\n",
    "\n"
   ]
  },
  {
   "cell_type": "code",
   "execution_count": 30,
   "metadata": {},
   "outputs": [
    {
     "output_type": "execute_result",
     "data": {
      "text/plain": [
       "['1', '2', '3', '4', '5', '6', '7']"
      ]
     },
     "metadata": {},
     "execution_count": 30
    }
   ],
   "source": [
    "# Placing and Splitting substrings\n",
    "\n",
    "# Splitting a string into a List\n",
    "\n",
    "a_String = \"1,   2,3,  4, 5,6,7\" \n",
    "\n",
    "re.split(r\",\\s*\", a_String)\n",
    "\n",
    "# split this string along any white space character"
   ]
  },
  {
   "cell_type": "code",
   "execution_count": 42,
   "metadata": {},
   "outputs": [
    {
     "output_type": "execute_result",
     "data": {
      "text/plain": [
       "'Python'"
      ]
     },
     "metadata": {},
     "execution_count": 42
    }
   ],
   "source": [
    "# Search Functions\n",
    "\n",
    "\n",
    "result = re.search(\"Python\", \"Python is fun. Love Python!\")\n",
    "\n",
    "result.group() if result else \"Not found\"\n"
   ]
  },
  {
   "cell_type": "code",
   "execution_count": 33,
   "metadata": {},
   "outputs": [
    {
     "output_type": "execute_result",
     "data": {
      "text/plain": [
       "'SAM'"
      ]
     },
     "metadata": {},
     "execution_count": 33
    }
   ],
   "source": [
    "# Ignoring case sensitivenes\n",
    "\n",
    "\n",
    "result_2 = re.search(\"Sam\",\"SAM WHITE\", flags= re.IGNORECASE)\n",
    "\n",
    "result_2.group() if result else \"Not found\""
   ]
  },
  {
   "cell_type": "code",
   "execution_count": 39,
   "metadata": {},
   "outputs": [
    {
     "output_type": "execute_result",
     "data": {
      "text/plain": [
       "'fun'"
      ]
     },
     "metadata": {},
     "execution_count": 39
    }
   ],
   "source": [
    "# Match only at the end of the string\n",
    "\n",
    "\n",
    "result_3 = re.search(\"fun$\", \"Python is fun\")\n",
    "\n",
    "result_3.group() if result else \"Not found\""
   ]
  },
  {
   "cell_type": "code",
   "execution_count": 43,
   "metadata": {},
   "outputs": [
    {
     "output_type": "execute_result",
     "data": {
      "text/plain": [
       "['555-555-1234', '555-555-4321']"
      ]
     },
     "metadata": {},
     "execution_count": 43
    }
   ],
   "source": [
    "# Finding all matches in a string\n",
    "\n",
    "contact = \"Wally White, Home:555-555-1234, Work: 555-555-4321\"\n",
    "\n",
    "\n",
    "re.findall(r\"\\d{3}-\\d{3}-\\d{4}\", contact)"
   ]
  },
  {
   "cell_type": "code",
   "execution_count": 45,
   "metadata": {},
   "outputs": [
    {
     "output_type": "stream",
     "name": "stdout",
     "text": [
      "555-555-1234\n555-555-4321\n"
     ]
    }
   ],
   "source": [
    "# Finding all matches in a string and producing an iterable\n",
    "\n",
    "contact = \"Wally White, Home:555-555-1234, Work: 555-555-4321\"\n",
    "\n",
    "\n",
    "for phone in re.finditer(r\"\\d{3}-\\d{3}-\\d{4}\", contact):\n",
    "    print(phone.group())"
   ]
  },
  {
   "cell_type": "code",
   "execution_count": 46,
   "metadata": {},
   "outputs": [
    {
     "output_type": "execute_result",
     "data": {
      "text/plain": [
       "('Charlie Cyan', 'demo1@deitel.com')"
      ]
     },
     "metadata": {},
     "execution_count": 46
    }
   ],
   "source": [
    "# Capturing substrings\n",
    "\n",
    "text = \"Charlie Cyan, email: demo1@deitel.com\"\n",
    "\n",
    "\n",
    "pattern = r\"([A-Z][a-z]+ [A-Z][a-z]+), email: (\\w+@\\w+\\.\\w{3})\"\n",
    "\n",
    "result_4 = re.search(pattern, text)\n",
    "\n",
    "result_4.groups()\n",
    "\n"
   ]
  },
  {
   "cell_type": "code",
   "execution_count": 47,
   "metadata": {},
   "outputs": [
    {
     "output_type": "execute_result",
     "data": {
      "text/plain": [
       "'Charlie Cyan, email: demo1@deitel.com'"
      ]
     },
     "metadata": {},
     "execution_count": 47
    }
   ],
   "source": [
    "# Capturing substrings\n",
    "\n",
    "text = \"Charlie Cyan, email: demo1@deitel.com\"\n",
    "\n",
    "\n",
    "pattern = r\"([A-Z][a-z]+ [A-Z][a-z]+), email: (\\w+@\\w+\\.\\w{3})\"\n",
    "\n",
    "result_4 = re.search(pattern, text)\n",
    "\n",
    "result_4.group()\n",
    "\n"
   ]
  },
  {
   "cell_type": "code",
   "execution_count": 48,
   "metadata": {},
   "outputs": [
    {
     "output_type": "execute_result",
     "data": {
      "text/plain": [
       "'Charlie Cyan'"
      ]
     },
     "metadata": {},
     "execution_count": 48
    }
   ],
   "source": [
    "# Capturing substrings\n",
    "\n",
    "text = \"Charlie Cyan, email: demo1@deitel.com\"\n",
    "\n",
    "\n",
    "pattern = r\"([A-Z][a-z]+ [A-Z][a-z]+), email: (\\w+@\\w+\\.\\w{3})\"\n",
    "\n",
    "result_4 = re.search(pattern, text)\n",
    "\n",
    "result_4.group(1)\n",
    "\n",
    "# returning the sub-patterns\n",
    "\n"
   ]
  },
  {
   "cell_type": "code",
   "execution_count": 55,
   "metadata": {},
   "outputs": [
    {
     "output_type": "execute_result",
     "data": {
      "text/plain": [
       "'5'"
      ]
     },
     "metadata": {},
     "execution_count": 55
    }
   ],
   "source": [
    "# Capturing substrings\n",
    "\n",
    "text = \"10 + 5\"\n",
    "\n",
    "\n",
    "pattern = r\"(\\d+) ([-+*/]) (\\d+)\"\n",
    "\n",
    "result_5 = re.search(pattern, text)\n",
    "\n",
    "result_5.group(3)\n",
    "\n",
    "# Use the group to match results starting from 1"
   ]
  },
  {
   "cell_type": "code",
   "execution_count": 58,
   "metadata": {},
   "outputs": [
    {
     "output_type": "execute_result",
     "data": {
      "text/plain": [
       "Boston    02215\n",
       "Miami      3310\n",
       "dtype: object"
      ]
     },
     "metadata": {},
     "execution_count": 58
    }
   ],
   "source": [
    "# Using Pandas and Regular expressions to validate data\n",
    "\n",
    "import pandas as pd\n",
    "\n",
    "zips = pd.Series({\"Boston\" : \"02215\", \"Miami\" : \"3310\"})\n",
    "\n",
    "zips\n"
   ]
  },
  {
   "cell_type": "code",
   "execution_count": 59,
   "metadata": {},
   "outputs": [
    {
     "output_type": "execute_result",
     "data": {
      "text/plain": [
       "Boston     True\n",
       "Miami     False\n",
       "dtype: bool"
      ]
     },
     "metadata": {},
     "execution_count": 59
    }
   ],
   "source": [
    "# Matching the regular expression against each \n",
    "\n",
    "zips.str.match(r\"\\d{5}\")"
   ]
  },
  {
   "cell_type": "code",
   "execution_count": 61,
   "metadata": {},
   "outputs": [
    {
     "output_type": "execute_result",
     "data": {
      "text/plain": [
       "0    Boston, MA 02215\n",
       "1     Miami, FL 33101\n",
       "dtype: object"
      ]
     },
     "metadata": {},
     "execution_count": 61
    }
   ],
   "source": [
    "cities = pd.Series([\"Boston, MA 02215\", \"Miami, FL 33101\"])\n",
    "\n",
    "cities"
   ]
  },
  {
   "cell_type": "code",
   "execution_count": 62,
   "metadata": {},
   "outputs": [
    {
     "output_type": "execute_result",
     "data": {
      "text/plain": [
       "0    True\n",
       "1    True\n",
       "dtype: bool"
      ]
     },
     "metadata": {},
     "execution_count": 62
    }
   ],
   "source": [
    "cities.str.contains(r\" [A-Z]{2} \")\n",
    "\n",
    "# Check whether the string contains 2 Uppercase Letters with a space before and after"
   ]
  },
  {
   "cell_type": "code",
   "execution_count": 65,
   "metadata": {},
   "outputs": [
    {
     "output_type": "execute_result",
     "data": {
      "text/plain": [
       "         Name             Email Contact Number\n",
       "0  Mike Green  demo1@deitel.com     0557299146\n",
       "1   Sue Brown  demo2@deitel.com     0268389331"
      ],
      "text/html": "<div>\n<style scoped>\n    .dataframe tbody tr th:only-of-type {\n        vertical-align: middle;\n    }\n\n    .dataframe tbody tr th {\n        vertical-align: top;\n    }\n\n    .dataframe thead th {\n        text-align: right;\n    }\n</style>\n<table border=\"1\" class=\"dataframe\">\n  <thead>\n    <tr style=\"text-align: right;\">\n      <th></th>\n      <th>Name</th>\n      <th>Email</th>\n      <th>Contact Number</th>\n    </tr>\n  </thead>\n  <tbody>\n    <tr>\n      <th>0</th>\n      <td>Mike Green</td>\n      <td>demo1@deitel.com</td>\n      <td>0557299146</td>\n    </tr>\n    <tr>\n      <th>1</th>\n      <td>Sue Brown</td>\n      <td>demo2@deitel.com</td>\n      <td>0268389331</td>\n    </tr>\n  </tbody>\n</table>\n</div>"
     },
     "metadata": {},
     "execution_count": 65
    }
   ],
   "source": [
    "\n",
    "contacts = [[\"Mike Green\", \"demo1@deitel.com\", \"0557299146\"], [\"Sue Brown\", \"demo2@deitel.com\", \"0268389331\"]]\n",
    "\n",
    "\n",
    "# Creating a data frame list\n",
    "\n",
    "contacts_DF = pd.DataFrame(contacts, columns = [\"Name\", \"Email\", \"Contact Number\"])\n",
    "\n",
    "contacts_DF"
   ]
  },
  {
   "cell_type": "code",
   "execution_count": 91,
   "metadata": {},
   "outputs": [
    {
     "output_type": "execute_result",
     "data": {
      "text/plain": [
       "  Contact Number\n",
       "0     0557299146\n",
       "1     0268389331"
      ],
      "text/html": "<div>\n<style scoped>\n    .dataframe tbody tr th:only-of-type {\n        vertical-align: middle;\n    }\n\n    .dataframe tbody tr th {\n        vertical-align: top;\n    }\n\n    .dataframe thead th {\n        text-align: right;\n    }\n</style>\n<table border=\"1\" class=\"dataframe\">\n  <thead>\n    <tr style=\"text-align: right;\">\n      <th></th>\n      <th>Contact Number</th>\n    </tr>\n  </thead>\n  <tbody>\n    <tr>\n      <th>0</th>\n      <td>0557299146</td>\n    </tr>\n    <tr>\n      <th>1</th>\n      <td>0268389331</td>\n    </tr>\n  </tbody>\n</table>\n</div>"
     },
     "metadata": {},
     "execution_count": 91
    }
   ],
   "source": [
    "\n",
    "\n",
    "contacts_DF.iloc[ : , [2]]"
   ]
  },
  {
   "cell_type": "code",
   "execution_count": 105,
   "metadata": {},
   "outputs": [],
   "source": [
    "def get_formatted_phone(value):\n",
    "    result = re.fullmatch(r\"(\\d{3})(\\d{3})(\\d{4})\", value)\n",
    "    return \"-\".join(result.groups()) if result else value"
   ]
  },
  {
   "cell_type": "code",
   "execution_count": 107,
   "metadata": {},
   "outputs": [
    {
     "output_type": "execute_result",
     "data": {
      "text/plain": [
       "0    055-729-9146\n",
       "1    026-838-9331\n",
       "Name: Contact Number, dtype: object"
      ]
     },
     "metadata": {},
     "execution_count": 107
    }
   ],
   "source": [
    "formatted_phone = contacts_DF[\"Contact Number\"].map(get_formatted_phone)\n",
    "\n",
    "\n",
    "formatted_phone"
   ]
  },
  {
   "cell_type": "code",
   "execution_count": 109,
   "metadata": {},
   "outputs": [],
   "source": [
    "#Replacing Original Data with formatted data\n",
    "\n",
    "contacts_DF[\"Contact Number\"] = formatted_phone"
   ]
  },
  {
   "cell_type": "code",
   "execution_count": 110,
   "metadata": {},
   "outputs": [
    {
     "output_type": "execute_result",
     "data": {
      "text/plain": [
       "         Name             Email Contact Number\n",
       "0  Mike Green  demo1@deitel.com   055-729-9146\n",
       "1   Sue Brown  demo2@deitel.com   026-838-9331"
      ],
      "text/html": "<div>\n<style scoped>\n    .dataframe tbody tr th:only-of-type {\n        vertical-align: middle;\n    }\n\n    .dataframe tbody tr th {\n        vertical-align: top;\n    }\n\n    .dataframe thead th {\n        text-align: right;\n    }\n</style>\n<table border=\"1\" class=\"dataframe\">\n  <thead>\n    <tr style=\"text-align: right;\">\n      <th></th>\n      <th>Name</th>\n      <th>Email</th>\n      <th>Contact Number</th>\n    </tr>\n  </thead>\n  <tbody>\n    <tr>\n      <th>0</th>\n      <td>Mike Green</td>\n      <td>demo1@deitel.com</td>\n      <td>055-729-9146</td>\n    </tr>\n    <tr>\n      <th>1</th>\n      <td>Sue Brown</td>\n      <td>demo2@deitel.com</td>\n      <td>026-838-9331</td>\n    </tr>\n  </tbody>\n</table>\n</div>"
     },
     "metadata": {},
     "execution_count": 110
    }
   ],
   "source": [
    "contacts_DF"
   ]
  },
  {
   "cell_type": "code",
   "execution_count": 129,
   "metadata": {},
   "outputs": [],
   "source": [
    "# Self Check\n",
    "\n",
    "\n",
    "contacts = [[\"Mike Green\", \"demo1@deitel.com\", \"0557299146\"], [\"Sue Brown\", \"demo2@deitel.com\", \"0268389331\"]]\n",
    "\n",
    "\n",
    "# Creating a data frame list\n",
    "\n",
    "contacts_DF = pd.DataFrame(contacts, columns = [\"Name\", \"Email\", \"Contact Number\"])\n",
    "\n",
    "# Formatting Function\n",
    "\n",
    "def get_formatted_phone(value):\n",
    "    result = re.fullmatch(r\"(\\d{3})(\\d{3})(\\d{4})\", value)\n",
    "    if result:\n",
    "        part_1, part_2, part_3 = result.groups()\n",
    "        return \"(\" + part_1 +\") \" + part_2 + \"-\" + part_3\n",
    "    else:\n",
    "        return value"
   ]
  },
  {
   "cell_type": "code",
   "execution_count": 130,
   "metadata": {},
   "outputs": [
    {
     "output_type": "execute_result",
     "data": {
      "text/plain": [
       "         Name             Email  Contact Number\n",
       "0  Mike Green  demo1@deitel.com  (055) 729-9146\n",
       "1   Sue Brown  demo2@deitel.com  (026) 838-9331"
      ],
      "text/html": "<div>\n<style scoped>\n    .dataframe tbody tr th:only-of-type {\n        vertical-align: middle;\n    }\n\n    .dataframe tbody tr th {\n        vertical-align: top;\n    }\n\n    .dataframe thead th {\n        text-align: right;\n    }\n</style>\n<table border=\"1\" class=\"dataframe\">\n  <thead>\n    <tr style=\"text-align: right;\">\n      <th></th>\n      <th>Name</th>\n      <th>Email</th>\n      <th>Contact Number</th>\n    </tr>\n  </thead>\n  <tbody>\n    <tr>\n      <th>0</th>\n      <td>Mike Green</td>\n      <td>demo1@deitel.com</td>\n      <td>(055) 729-9146</td>\n    </tr>\n    <tr>\n      <th>1</th>\n      <td>Sue Brown</td>\n      <td>demo2@deitel.com</td>\n      <td>(026) 838-9331</td>\n    </tr>\n  </tbody>\n</table>\n</div>"
     },
     "metadata": {},
     "execution_count": 130
    }
   ],
   "source": [
    "contacts_DF[\"Contact Number\"] = contacts_DF[\"Contact Number\"].map(get_formatted_phone)\n",
    "\n",
    "\n",
    "contacts_DF\n",
    "\n"
   ]
  },
  {
   "cell_type": "code",
   "execution_count": null,
   "metadata": {},
   "outputs": [],
   "source": []
  }
 ]
}