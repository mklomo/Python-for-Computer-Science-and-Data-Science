{
 "metadata": {
  "language_info": {
   "codemirror_mode": {
    "name": "ipython",
    "version": 3
   },
   "file_extension": ".py",
   "mimetype": "text/x-python",
   "name": "python",
   "nbconvert_exporter": "python",
   "pygments_lexer": "ipython3",
   "version": "3.9.0-final"
  },
  "orig_nbformat": 2,
  "kernelspec": {
   "name": "python3",
   "display_name": "Python 3.9.0 64-bit",
   "metadata": {
    "interpreter": {
     "hash": "aee8b7b246df8f9039afb4144a1f6fd8d2ca17a180786b69acc140d282b71a49"
    }
   }
  }
 },
 "nbformat": 4,
 "nbformat_minor": 2,
 "cells": [
  {
   "cell_type": "code",
   "execution_count": 1,
   "metadata": {},
   "outputs": [],
   "source": [
    "# Writing texts into a file\n",
    "\n",
    "# Here you create a file with write ability\n",
    "\n",
    "with open(\"account.txt\", mode=\"w\") as accounts:\n",
    "    accounts.write(\"100 Jones 24.98\\n\")\n",
    "    accounts.write(\"200 Doe 345.98\\n\")\n",
    "    accounts.write(\"300 White 00.00\\n\")\n",
    "    accounts.write(\"400 Stone -42.16\\n\")\n",
    "    accounts.write(\"500 Rich 224.62\\n\")"
   ]
  },
  {
   "cell_type": "code",
   "execution_count": 4,
   "metadata": {},
   "outputs": [
    {
     "output_type": "stream",
     "name": "stdout",
     "text": [
      "100 Jones 24.98\n200 Doe 345.98\n300 White 00.00\n400 Stone -42.16\n500 Rich 224.62\n"
     ]
    }
   ],
   "source": [
    "!cat account.txt"
   ]
  },
  {
   "cell_type": "code",
   "execution_count": 9,
   "metadata": {},
   "outputs": [
    {
     "output_type": "stream",
     "name": "stdout",
     "text": [
      "Amount     Name          Balance\n100        Jones           24.98\n200        Doe            345.98\n300        White           00.00\n400        Stone          -42.16\n500        Rich           224.62\n"
     ]
    }
   ],
   "source": [
    "# Reading a file object\n",
    "\n",
    "with open(\"account.txt\", mode=\"r\") as accounts:\n",
    "    print(f\"{'Amount' :<10} {'Name' :<10} {'Balance' :>10}\")\n",
    "    # for each line, unpack\n",
    "    for record in accounts:\n",
    "        account, name, balance = record.split()\n",
    "        print(f\"{account :<10} {name :<10} {balance :>10}\")\n"
   ]
  },
  {
   "cell_type": "code",
   "execution_count": 16,
   "metadata": {},
   "outputs": [],
   "source": [
    "# Updating Text files\n",
    "\n",
    "accounts = open(\"account.txt\", \"r\")\n",
    "\n",
    "temp_file = open(\"temp_file.txt\", \"w\")\n",
    "\n",
    "with accounts, temp_file:\n",
    "    for record in accounts:\n",
    "        account, name, balance = record.split()\n",
    "        if account != \"300\":\n",
    "            temp_file.write(record)\n",
    "        else:\n",
    "            new_record = \" \".join([account, \"Williams\", balance])\n",
    "            temp_file.write(new_record + \"\\n\")\n",
    "\n"
   ]
  },
  {
   "cell_type": "code",
   "execution_count": 17,
   "metadata": {},
   "outputs": [
    {
     "output_type": "stream",
     "name": "stdout",
     "text": [
      "100 Jones 24.98\n200 Doe 345.98\n300 Williams 00.00\n400 Stone -42.16\n500 Rich 224.62\n"
     ]
    }
   ],
   "source": [
    "!cat temp_file.txt"
   ]
  },
  {
   "cell_type": "code",
   "execution_count": 18,
   "metadata": {},
   "outputs": [],
   "source": [
    "# Working with JSON\n",
    "\n",
    "import json\n",
    "\n",
    "grades_dict = {\"gradebook\" : [\n",
    "    {\"student_id\" : 1, \"name\" : \"Red\", \"grade\" : \"A\"},\n",
    "    {\"student_id\" : 2, \"name\" : \"Green\", \"grade\" : \"B\"},\n",
    "    {\"student_id\" : 3, \"name\" : \"White\", \"grade\" : \"A\"}\n",
    "]}\n",
    "\n",
    "\n",
    "\n",
    "# Open a new file with json extension and dump in the grades dict\n",
    "\n",
    "with open(\"grades.json\", mode=\"w\") as grades:\n",
    "    json.dump(grades_dict, grades)\n",
    "\n",
    "\n"
   ]
  },
  {
   "cell_type": "code",
   "execution_count": 19,
   "metadata": {},
   "outputs": [
    {
     "output_type": "stream",
     "name": "stdout",
     "text": [
      "{\n    \"gradebook\": [\n        {\n            \"student_id\": 1,\n            \"name\": \"Red\",\n            \"grade\": \"A\"\n        },\n        {\n            \"student_id\": 2,\n            \"name\": \"Green\",\n            \"grade\": \"B\"\n        },\n        {\n            \"student_id\": 3,\n            \"name\": \"White\",\n            \"grade\": \"A\"\n        }\n    ]\n}\n"
     ]
    }
   ],
   "source": [
    "\n",
    "with open(\"grades.json\", \"r\") as grades:\n",
    "    print(json.dumps(json.load(grades), indent = 4))"
   ]
  },
  {
   "cell_type": "code",
   "execution_count": 24,
   "metadata": {},
   "outputs": [],
   "source": [
    "# Working with CSV files\n",
    "\n",
    "\n",
    "import csv\n",
    "\n",
    "\n",
    "with open(\"account.csv\", mode=\"w\", newline=\"\") as accounts:\n",
    "    writer = csv.writer(accounts)\n",
    "    writer.writerow([100, \"Jones\", 345.67])\n",
    "    writer.writerow([200, \"Doe\", 0.00])\n",
    "    writer.writerow([300, \"White\", -42.16])\n",
    "    writer.writerow([400, \"Stone\", 24.98])\n",
    "    writer.writerow([500, \"Rich\", 224.62])"
   ]
  },
  {
   "cell_type": "code",
   "execution_count": 28,
   "metadata": {},
   "outputs": [
    {
     "output_type": "stream",
     "name": "stdout",
     "text": [
      "Account    Name          Balance\n100        Jones          345.67\n200        Doe               0.0\n300        White          -42.16\n400        Stone           24.98\n500        Rich           224.62\n"
     ]
    }
   ],
   "source": [
    "# reading the csv file\n",
    "\n",
    "with open(\"account.csv\", mode=\"r\", newline=\"\") as accounts:\n",
    "    print(f\"{'Account':<10} {'Name':<10} {'Balance' :>10}\")\n",
    "    reader = csv.reader(accounts)\n",
    "    for record in reader:\n",
    "        account, name, balance = record\n",
    "        print(f\"{account:<10} {name:<10} {balance:>10}\")"
   ]
  },
  {
   "cell_type": "code",
   "execution_count": 29,
   "metadata": {},
   "outputs": [
    {
     "output_type": "execute_result",
     "data": {
      "text/plain": [
       "   account   name  balance\n",
       "0      100  Jones   345.67\n",
       "1      200    Doe     0.00\n",
       "2      300  White   -42.16\n",
       "3      400  Stone    24.98\n",
       "4      500   Rich   224.62"
      ],
      "text/html": "<div>\n<style scoped>\n    .dataframe tbody tr th:only-of-type {\n        vertical-align: middle;\n    }\n\n    .dataframe tbody tr th {\n        vertical-align: top;\n    }\n\n    .dataframe thead th {\n        text-align: right;\n    }\n</style>\n<table border=\"1\" class=\"dataframe\">\n  <thead>\n    <tr style=\"text-align: right;\">\n      <th></th>\n      <th>account</th>\n      <th>name</th>\n      <th>balance</th>\n    </tr>\n  </thead>\n  <tbody>\n    <tr>\n      <th>0</th>\n      <td>100</td>\n      <td>Jones</td>\n      <td>345.67</td>\n    </tr>\n    <tr>\n      <th>1</th>\n      <td>200</td>\n      <td>Doe</td>\n      <td>0.00</td>\n    </tr>\n    <tr>\n      <th>2</th>\n      <td>300</td>\n      <td>White</td>\n      <td>-42.16</td>\n    </tr>\n    <tr>\n      <th>3</th>\n      <td>400</td>\n      <td>Stone</td>\n      <td>24.98</td>\n    </tr>\n    <tr>\n      <th>4</th>\n      <td>500</td>\n      <td>Rich</td>\n      <td>224.62</td>\n    </tr>\n  </tbody>\n</table>\n</div>"
     },
     "metadata": {},
     "execution_count": 29
    }
   ],
   "source": [
    "# Using pandas with csv\n",
    "\n",
    "import pandas as pd\n",
    "\n",
    "\n",
    "data_Frame = pd.read_csv(\"account.csv\", names=[\"account\", \"name\", \"balance\"])\n",
    "\n",
    "data_Frame"
   ]
  },
  {
   "cell_type": "code",
   "execution_count": 30,
   "metadata": {},
   "outputs": [],
   "source": [
    "# Saving a csv dataframe\n",
    "\n",
    "data_Frame.to_csv(\"accounts_from_data_Frame.csv\", index=False)"
   ]
  },
  {
   "cell_type": "code",
   "execution_count": 39,
   "metadata": {},
   "outputs": [
    {
     "output_type": "execute_result",
     "data": {
      "text/plain": [
       "                        Unnamed: 0 survived     sex      age passengerClass\n",
       "0    Allen, Miss. Elisabeth Walton      yes  female  29.0000            1st\n",
       "1   Allison, Master. Hudson Trevor      yes    male   0.9167            1st\n",
       "2     Allison, Miss. Helen Loraine       no  female   2.0000            1st\n",
       "3  Allison, Mr. Hudson Joshua Crei       no    male  30.0000            1st\n",
       "4  Allison, Mrs. Hudson J C (Bessi       no  female  25.0000            1st"
      ],
      "text/html": "<div>\n<style scoped>\n    .dataframe tbody tr th:only-of-type {\n        vertical-align: middle;\n    }\n\n    .dataframe tbody tr th {\n        vertical-align: top;\n    }\n\n    .dataframe thead th {\n        text-align: right;\n    }\n</style>\n<table border=\"1\" class=\"dataframe\">\n  <thead>\n    <tr style=\"text-align: right;\">\n      <th></th>\n      <th>Unnamed: 0</th>\n      <th>survived</th>\n      <th>sex</th>\n      <th>age</th>\n      <th>passengerClass</th>\n    </tr>\n  </thead>\n  <tbody>\n    <tr>\n      <th>0</th>\n      <td>Allen, Miss. Elisabeth Walton</td>\n      <td>yes</td>\n      <td>female</td>\n      <td>29.0000</td>\n      <td>1st</td>\n    </tr>\n    <tr>\n      <th>1</th>\n      <td>Allison, Master. Hudson Trevor</td>\n      <td>yes</td>\n      <td>male</td>\n      <td>0.9167</td>\n      <td>1st</td>\n    </tr>\n    <tr>\n      <th>2</th>\n      <td>Allison, Miss. Helen Loraine</td>\n      <td>no</td>\n      <td>female</td>\n      <td>2.0000</td>\n      <td>1st</td>\n    </tr>\n    <tr>\n      <th>3</th>\n      <td>Allison, Mr. Hudson Joshua Crei</td>\n      <td>no</td>\n      <td>male</td>\n      <td>30.0000</td>\n      <td>1st</td>\n    </tr>\n    <tr>\n      <th>4</th>\n      <td>Allison, Mrs. Hudson J C (Bessi</td>\n      <td>no</td>\n      <td>female</td>\n      <td>25.0000</td>\n      <td>1st</td>\n    </tr>\n  </tbody>\n</table>\n</div>"
     },
     "metadata": {},
     "execution_count": 39
    }
   ],
   "source": [
    "# Importing titanic dataset\n",
    "\n",
    "titanic_DF = pd.read_csv('https://vincentarelbundock.github.io/Rdatasets/csv/carData/TitanicSurvival.csv')\n",
    "\n",
    "\n",
    "\n",
    "# Looking at the first 5 records\n",
    "titanic_DF.head()\n"
   ]
  },
  {
   "cell_type": "code",
   "execution_count": 40,
   "metadata": {},
   "outputs": [
    {
     "output_type": "execute_result",
     "data": {
      "text/plain": [
       "                     Unnamed: 0 survived     sex   age passengerClass\n",
       "1304       Zabour, Miss. Hileni       no  female  14.5            3rd\n",
       "1305      Zabour, Miss. Thamine       no  female   NaN            3rd\n",
       "1306  Zakarian, Mr. Mapriededer       no    male  26.5            3rd\n",
       "1307        Zakarian, Mr. Ortin       no    male  27.0            3rd\n",
       "1308         Zimmerman, Mr. Leo       no    male  29.0            3rd"
      ],
      "text/html": "<div>\n<style scoped>\n    .dataframe tbody tr th:only-of-type {\n        vertical-align: middle;\n    }\n\n    .dataframe tbody tr th {\n        vertical-align: top;\n    }\n\n    .dataframe thead th {\n        text-align: right;\n    }\n</style>\n<table border=\"1\" class=\"dataframe\">\n  <thead>\n    <tr style=\"text-align: right;\">\n      <th></th>\n      <th>Unnamed: 0</th>\n      <th>survived</th>\n      <th>sex</th>\n      <th>age</th>\n      <th>passengerClass</th>\n    </tr>\n  </thead>\n  <tbody>\n    <tr>\n      <th>1304</th>\n      <td>Zabour, Miss. Hileni</td>\n      <td>no</td>\n      <td>female</td>\n      <td>14.5</td>\n      <td>3rd</td>\n    </tr>\n    <tr>\n      <th>1305</th>\n      <td>Zabour, Miss. Thamine</td>\n      <td>no</td>\n      <td>female</td>\n      <td>NaN</td>\n      <td>3rd</td>\n    </tr>\n    <tr>\n      <th>1306</th>\n      <td>Zakarian, Mr. Mapriededer</td>\n      <td>no</td>\n      <td>male</td>\n      <td>26.5</td>\n      <td>3rd</td>\n    </tr>\n    <tr>\n      <th>1307</th>\n      <td>Zakarian, Mr. Ortin</td>\n      <td>no</td>\n      <td>male</td>\n      <td>27.0</td>\n      <td>3rd</td>\n    </tr>\n    <tr>\n      <th>1308</th>\n      <td>Zimmerman, Mr. Leo</td>\n      <td>no</td>\n      <td>male</td>\n      <td>29.0</td>\n      <td>3rd</td>\n    </tr>\n  </tbody>\n</table>\n</div>"
     },
     "metadata": {},
     "execution_count": 40
    }
   ],
   "source": [
    "# Looking at the last 5 records\n",
    "\n",
    "\n",
    "titanic_DF.tail()"
   ]
  },
  {
   "cell_type": "code",
   "execution_count": 41,
   "metadata": {},
   "outputs": [
    {
     "output_type": "execute_result",
     "data": {
      "text/plain": [
       "                              Name Survived     Sex      Age Class\n",
       "0    Allen, Miss. Elisabeth Walton      yes  female  29.0000   1st\n",
       "1   Allison, Master. Hudson Trevor      yes    male   0.9167   1st\n",
       "2     Allison, Miss. Helen Loraine       no  female   2.0000   1st\n",
       "3  Allison, Mr. Hudson Joshua Crei       no    male  30.0000   1st\n",
       "4  Allison, Mrs. Hudson J C (Bessi       no  female  25.0000   1st"
      ],
      "text/html": "<div>\n<style scoped>\n    .dataframe tbody tr th:only-of-type {\n        vertical-align: middle;\n    }\n\n    .dataframe tbody tr th {\n        vertical-align: top;\n    }\n\n    .dataframe thead th {\n        text-align: right;\n    }\n</style>\n<table border=\"1\" class=\"dataframe\">\n  <thead>\n    <tr style=\"text-align: right;\">\n      <th></th>\n      <th>Name</th>\n      <th>Survived</th>\n      <th>Sex</th>\n      <th>Age</th>\n      <th>Class</th>\n    </tr>\n  </thead>\n  <tbody>\n    <tr>\n      <th>0</th>\n      <td>Allen, Miss. Elisabeth Walton</td>\n      <td>yes</td>\n      <td>female</td>\n      <td>29.0000</td>\n      <td>1st</td>\n    </tr>\n    <tr>\n      <th>1</th>\n      <td>Allison, Master. Hudson Trevor</td>\n      <td>yes</td>\n      <td>male</td>\n      <td>0.9167</td>\n      <td>1st</td>\n    </tr>\n    <tr>\n      <th>2</th>\n      <td>Allison, Miss. Helen Loraine</td>\n      <td>no</td>\n      <td>female</td>\n      <td>2.0000</td>\n      <td>1st</td>\n    </tr>\n    <tr>\n      <th>3</th>\n      <td>Allison, Mr. Hudson Joshua Crei</td>\n      <td>no</td>\n      <td>male</td>\n      <td>30.0000</td>\n      <td>1st</td>\n    </tr>\n    <tr>\n      <th>4</th>\n      <td>Allison, Mrs. Hudson J C (Bessi</td>\n      <td>no</td>\n      <td>female</td>\n      <td>25.0000</td>\n      <td>1st</td>\n    </tr>\n  </tbody>\n</table>\n</div>"
     },
     "metadata": {},
     "execution_count": 41
    }
   ],
   "source": [
    "# Renaming columns\n",
    "\n",
    "\n",
    "titanic_DF.columns = [\"Name\", \"Survived\", \"Sex\", \"Age\", \"Class\"]\n",
    "\n",
    "titanic_DF.head()"
   ]
  },
  {
   "cell_type": "code",
   "execution_count": 42,
   "metadata": {},
   "outputs": [
    {
     "output_type": "execute_result",
     "data": {
      "text/plain": [
       "               Age\n",
       "count  1046.000000\n",
       "mean     29.881135\n",
       "std      14.413500\n",
       "min       0.166700\n",
       "25%      21.000000\n",
       "50%      28.000000\n",
       "75%      39.000000\n",
       "max      80.000000"
      ],
      "text/html": "<div>\n<style scoped>\n    .dataframe tbody tr th:only-of-type {\n        vertical-align: middle;\n    }\n\n    .dataframe tbody tr th {\n        vertical-align: top;\n    }\n\n    .dataframe thead th {\n        text-align: right;\n    }\n</style>\n<table border=\"1\" class=\"dataframe\">\n  <thead>\n    <tr style=\"text-align: right;\">\n      <th></th>\n      <th>Age</th>\n    </tr>\n  </thead>\n  <tbody>\n    <tr>\n      <th>count</th>\n      <td>1046.000000</td>\n    </tr>\n    <tr>\n      <th>mean</th>\n      <td>29.881135</td>\n    </tr>\n    <tr>\n      <th>std</th>\n      <td>14.413500</td>\n    </tr>\n    <tr>\n      <th>min</th>\n      <td>0.166700</td>\n    </tr>\n    <tr>\n      <th>25%</th>\n      <td>21.000000</td>\n    </tr>\n    <tr>\n      <th>50%</th>\n      <td>28.000000</td>\n    </tr>\n    <tr>\n      <th>75%</th>\n      <td>39.000000</td>\n    </tr>\n    <tr>\n      <th>max</th>\n      <td>80.000000</td>\n    </tr>\n  </tbody>\n</table>\n</div>"
     },
     "metadata": {},
     "execution_count": 42
    }
   ],
   "source": [
    "# Simple Data Analysis\n",
    "\n",
    "\n",
    "titanic_DF.describe() # This looks at only numeric data and excludes NaN"
   ]
  },
  {
   "cell_type": "code",
   "execution_count": 43,
   "metadata": {},
   "outputs": [
    {
     "output_type": "execute_result",
     "data": {
      "text/plain": [
       "count      1309\n",
       "unique        2\n",
       "top       False\n",
       "freq        809\n",
       "Name: Survived, dtype: object"
      ]
     },
     "metadata": {},
     "execution_count": 43
    }
   ],
   "source": [
    "# Checking for survived passengers\n",
    "\n",
    "(titanic_DF.Survived == 'yes').describe()"
   ]
  },
  {
   "cell_type": "code",
   "execution_count": 44,
   "metadata": {},
   "outputs": [
    {
     "output_type": "stream",
     "name": "stdout",
     "text": [
      "Using matplotlib backend: MacOSX\n"
     ]
    }
   ],
   "source": [
    "%matplotlib"
   ]
  },
  {
   "source": [
    "histogram = titanic_DF.hist()\n",
    "\n",
    "\n",
    "histogram"
   ],
   "cell_type": "code",
   "metadata": {},
   "execution_count": 52,
   "outputs": [
    {
     "output_type": "execute_result",
     "data": {
      "text/plain": [
       "array([[<AxesSubplot:title={'center':'Age'}>]], dtype=object)"
      ]
     },
     "metadata": {},
     "execution_count": 52
    }
   ]
  },
  {
   "cell_type": "code",
   "execution_count": null,
   "metadata": {},
   "outputs": [],
   "source": []
  }
 ]
}